{
 "cells": [
  {
   "cell_type": "code",
   "execution_count": 1,
   "metadata": {},
   "outputs": [
    {
     "name": "stdout",
     "output_type": "stream",
     "text": [
      "/Users/natapollimpananuwat/Desktop/Projects/Stock-Analytics\n"
     ]
    },
    {
     "data": {
      "text/plain": [
       "'/Users/natapollimpananuwat/Desktop/Projects/Stock-Analytics'"
      ]
     },
     "execution_count": 1,
     "metadata": {},
     "output_type": "execute_result"
    }
   ],
   "source": [
    "import os\n",
    "import pandas as pd\n",
    "import numpy as np\n",
    "\n",
    "\n",
    "%load_ext autoreload\n",
    "%autoreload 2\n",
    "\n",
    "import warnings\n",
    "warnings.filterwarnings(\"ignore\")\n",
    "\n",
    "%cd ..\n",
    "%pwd"
   ]
  },
  {
   "cell_type": "code",
   "execution_count": 3,
   "metadata": {},
   "outputs": [
    {
     "name": "stdout",
     "output_type": "stream",
     "text": [
      "[2023-10-28 13:03:21,982: INFO: config: Load settings variables from configs; [PosixPath('configs/settings.yaml')]]\n"
     ]
    }
   ],
   "source": [
    "from stock_analytics.config import settings"
   ]
  },
  {
   "cell_type": "code",
   "execution_count": 47,
   "metadata": {},
   "outputs": [
    {
     "data": {
      "text/html": [
       "<div>\n",
       "<style scoped>\n",
       "    .dataframe tbody tr th:only-of-type {\n",
       "        vertical-align: middle;\n",
       "    }\n",
       "\n",
       "    .dataframe tbody tr th {\n",
       "        vertical-align: top;\n",
       "    }\n",
       "\n",
       "    .dataframe thead th {\n",
       "        text-align: right;\n",
       "    }\n",
       "</style>\n",
       "<table border=\"1\" class=\"dataframe\">\n",
       "  <thead>\n",
       "    <tr style=\"text-align: right;\">\n",
       "      <th></th>\n",
       "      <th>name</th>\n",
       "      <th>company_name_th</th>\n",
       "      <th>company_name_en</th>\n",
       "      <th>market</th>\n",
       "    </tr>\n",
       "  </thead>\n",
       "  <tbody>\n",
       "    <tr>\n",
       "      <th>0</th>\n",
       "      <td>2S</td>\n",
       "      <td>บริษัท 2 เอส เมทัล จำกัด (มหาชน)</td>\n",
       "      <td>2S METAL PUBLIC COMPANY LIMITED</td>\n",
       "      <td>SET</td>\n",
       "    </tr>\n",
       "    <tr>\n",
       "      <th>1</th>\n",
       "      <td>3K-BAT</td>\n",
       "      <td>บริษัท ไทย เอ็นเนอร์จี สโตเรจ เทคโนโลยี จำกัด ...</td>\n",
       "      <td>THAI ENERGY STORAGE TECHNOLOGY PUBLIC COMPANY ...</td>\n",
       "      <td>SET</td>\n",
       "    </tr>\n",
       "    <tr>\n",
       "      <th>2</th>\n",
       "      <td>7UP</td>\n",
       "      <td>บริษัท เซเว่น ยูทิลิตี้ส์ แอนด์ พาวเวอร์ จำกัด...</td>\n",
       "      <td>SEVEN UTILITIES AND POWER PUBLIC COMPANY LIMITED</td>\n",
       "      <td>SET</td>\n",
       "    </tr>\n",
       "    <tr>\n",
       "      <th>3</th>\n",
       "      <td>24CS</td>\n",
       "      <td>บริษัท ทเวนตี้ โฟร์ คอน แอนด์ ซัพพลาย จำกัด (ม...</td>\n",
       "      <td>Twenty-Four Con &amp; Supply Public Company Limited</td>\n",
       "      <td>mai</td>\n",
       "    </tr>\n",
       "    <tr>\n",
       "      <th>4</th>\n",
       "      <td>A</td>\n",
       "      <td>บริษัท อารียา พรอพเพอร์ตี้ จำกัด (มหาชน)</td>\n",
       "      <td>AREEYA PROPERTY PUBLIC COMPANY LIMITED</td>\n",
       "      <td>SET</td>\n",
       "    </tr>\n",
       "    <tr>\n",
       "      <th>...</th>\n",
       "      <td>...</td>\n",
       "      <td>...</td>\n",
       "      <td>...</td>\n",
       "      <td>...</td>\n",
       "    </tr>\n",
       "    <tr>\n",
       "      <th>866</th>\n",
       "      <td>YGG</td>\n",
       "      <td>บริษัท อิ๊กดราซิล กรุ๊ป จำกัด (มหาชน)</td>\n",
       "      <td>YGGDRAZIL GROUP PUBLIC COMPANY LIMITED</td>\n",
       "      <td>mai</td>\n",
       "    </tr>\n",
       "    <tr>\n",
       "      <th>867</th>\n",
       "      <td>YONG</td>\n",
       "      <td>บริษัท ยงคอนกรีต จำกัด (มหาชน)</td>\n",
       "      <td>Yong Concrete Public Company Limited</td>\n",
       "      <td>mai</td>\n",
       "    </tr>\n",
       "    <tr>\n",
       "      <th>868</th>\n",
       "      <td>YUASA</td>\n",
       "      <td>บริษัท ยัวซ่าแบตเตอรี่ ประเทศไทย จำกัด (มหาชน)</td>\n",
       "      <td>YUASA BATTERY (THAILAND) PUBLIC COMPANY LIMITED</td>\n",
       "      <td>mai</td>\n",
       "    </tr>\n",
       "    <tr>\n",
       "      <th>869</th>\n",
       "      <td>ZEN</td>\n",
       "      <td>บริษัท เซ็น คอร์ปอเรชั่น กรุ๊ป จำกัด (มหาชน)</td>\n",
       "      <td>ZEN CORPORATION GROUP PUBLIC COMPANY LIMITED</td>\n",
       "      <td>SET</td>\n",
       "    </tr>\n",
       "    <tr>\n",
       "      <th>870</th>\n",
       "      <td>ZIGA</td>\n",
       "      <td>บริษัท ซิก้า อินโนเวชั่น จำกัด (มหาชน)</td>\n",
       "      <td>ZIGA INNOVATION PUBLIC COMPANY LIMITED</td>\n",
       "      <td>mai</td>\n",
       "    </tr>\n",
       "  </tbody>\n",
       "</table>\n",
       "<p>871 rows × 4 columns</p>\n",
       "</div>"
      ],
      "text/plain": [
       "       name                                    company_name_th  \\\n",
       "0        2S                   บริษัท 2 เอส เมทัล จำกัด (มหาชน)   \n",
       "1    3K-BAT  บริษัท ไทย เอ็นเนอร์จี สโตเรจ เทคโนโลยี จำกัด ...   \n",
       "2       7UP  บริษัท เซเว่น ยูทิลิตี้ส์ แอนด์ พาวเวอร์ จำกัด...   \n",
       "3      24CS  บริษัท ทเวนตี้ โฟร์ คอน แอนด์ ซัพพลาย จำกัด (ม...   \n",
       "4         A           บริษัท อารียา พรอพเพอร์ตี้ จำกัด (มหาชน)   \n",
       "..      ...                                                ...   \n",
       "866     YGG              บริษัท อิ๊กดราซิล กรุ๊ป จำกัด (มหาชน)   \n",
       "867    YONG                     บริษัท ยงคอนกรีต จำกัด (มหาชน)   \n",
       "868   YUASA     บริษัท ยัวซ่าแบตเตอรี่ ประเทศไทย จำกัด (มหาชน)   \n",
       "869     ZEN       บริษัท เซ็น คอร์ปอเรชั่น กรุ๊ป จำกัด (มหาชน)   \n",
       "870    ZIGA             บริษัท ซิก้า อินโนเวชั่น จำกัด (มหาชน)   \n",
       "\n",
       "                                       company_name_en market  \n",
       "0                      2S METAL PUBLIC COMPANY LIMITED    SET  \n",
       "1    THAI ENERGY STORAGE TECHNOLOGY PUBLIC COMPANY ...    SET  \n",
       "2     SEVEN UTILITIES AND POWER PUBLIC COMPANY LIMITED    SET  \n",
       "3      Twenty-Four Con & Supply Public Company Limited    mai  \n",
       "4               AREEYA PROPERTY PUBLIC COMPANY LIMITED    SET  \n",
       "..                                                 ...    ...  \n",
       "866             YGGDRAZIL GROUP PUBLIC COMPANY LIMITED    mai  \n",
       "867               Yong Concrete Public Company Limited    mai  \n",
       "868    YUASA BATTERY (THAILAND) PUBLIC COMPANY LIMITED    mai  \n",
       "869       ZEN CORPORATION GROUP PUBLIC COMPANY LIMITED    SET  \n",
       "870             ZIGA INNOVATION PUBLIC COMPANY LIMITED    mai  \n",
       "\n",
       "[871 rows x 4 columns]"
      ]
     },
     "execution_count": 47,
     "metadata": {},
     "output_type": "execute_result"
    }
   ],
   "source": [
    "com_names = pd.read_parquet(\"dataset/company_names.parquet\")\n",
    "com_names"
   ]
  },
  {
   "cell_type": "code",
   "execution_count": 56,
   "metadata": {},
   "outputs": [
    {
     "data": {
      "text/plain": [
       "market\n",
       "SET    677\n",
       "mai    194\n",
       "dtype: int64"
      ]
     },
     "execution_count": 56,
     "metadata": {},
     "output_type": "execute_result"
    }
   ],
   "source": [
    "com_names.value_counts('market')"
   ]
  },
  {
   "cell_type": "code",
   "execution_count": 5,
   "metadata": {},
   "outputs": [
    {
     "data": {
      "text/html": [
       "<div>\n",
       "<style scoped>\n",
       "    .dataframe tbody tr th:only-of-type {\n",
       "        vertical-align: middle;\n",
       "    }\n",
       "\n",
       "    .dataframe tbody tr th {\n",
       "        vertical-align: top;\n",
       "    }\n",
       "\n",
       "    .dataframe thead th {\n",
       "        text-align: right;\n",
       "    }\n",
       "</style>\n",
       "<table border=\"1\" class=\"dataframe\">\n",
       "  <thead>\n",
       "    <tr style=\"text-align: right;\">\n",
       "      <th></th>\n",
       "      <th>Date</th>\n",
       "      <th>Open</th>\n",
       "      <th>High</th>\n",
       "      <th>Low</th>\n",
       "      <th>Close</th>\n",
       "      <th>Volume</th>\n",
       "      <th>Dividends</th>\n",
       "      <th>Stock Splits</th>\n",
       "      <th>symbol</th>\n",
       "      <th>Capital Gains</th>\n",
       "    </tr>\n",
       "  </thead>\n",
       "  <tbody>\n",
       "    <tr>\n",
       "      <th>0</th>\n",
       "      <td>2019-12-16 00:00:00+07:00</td>\n",
       "      <td>1.511037</td>\n",
       "      <td>1.526378</td>\n",
       "      <td>1.511037</td>\n",
       "      <td>1.518708</td>\n",
       "      <td>114333.0</td>\n",
       "      <td>0.0</td>\n",
       "      <td>0.0</td>\n",
       "      <td>2S</td>\n",
       "      <td>NaN</td>\n",
       "    </tr>\n",
       "    <tr>\n",
       "      <th>1</th>\n",
       "      <td>2019-12-17 00:00:00+07:00</td>\n",
       "      <td>1.518708</td>\n",
       "      <td>1.526378</td>\n",
       "      <td>1.511038</td>\n",
       "      <td>1.526378</td>\n",
       "      <td>98777.0</td>\n",
       "      <td>0.0</td>\n",
       "      <td>0.0</td>\n",
       "      <td>2S</td>\n",
       "      <td>NaN</td>\n",
       "    </tr>\n",
       "    <tr>\n",
       "      <th>2</th>\n",
       "      <td>2019-12-18 00:00:00+07:00</td>\n",
       "      <td>1.526378</td>\n",
       "      <td>1.534048</td>\n",
       "      <td>1.526378</td>\n",
       "      <td>1.534048</td>\n",
       "      <td>112333.0</td>\n",
       "      <td>0.0</td>\n",
       "      <td>0.0</td>\n",
       "      <td>2S</td>\n",
       "      <td>NaN</td>\n",
       "    </tr>\n",
       "    <tr>\n",
       "      <th>3</th>\n",
       "      <td>2019-12-19 00:00:00+07:00</td>\n",
       "      <td>1.534048</td>\n",
       "      <td>1.564729</td>\n",
       "      <td>1.526378</td>\n",
       "      <td>1.564729</td>\n",
       "      <td>8888.0</td>\n",
       "      <td>0.0</td>\n",
       "      <td>0.0</td>\n",
       "      <td>2S</td>\n",
       "      <td>NaN</td>\n",
       "    </tr>\n",
       "    <tr>\n",
       "      <th>4</th>\n",
       "      <td>2019-12-20 00:00:00+07:00</td>\n",
       "      <td>1.534048</td>\n",
       "      <td>1.549389</td>\n",
       "      <td>1.518708</td>\n",
       "      <td>1.549389</td>\n",
       "      <td>105444.0</td>\n",
       "      <td>0.0</td>\n",
       "      <td>0.0</td>\n",
       "      <td>2S</td>\n",
       "      <td>NaN</td>\n",
       "    </tr>\n",
       "    <tr>\n",
       "      <th>...</th>\n",
       "      <td>...</td>\n",
       "      <td>...</td>\n",
       "      <td>...</td>\n",
       "      <td>...</td>\n",
       "      <td>...</td>\n",
       "      <td>...</td>\n",
       "      <td>...</td>\n",
       "      <td>...</td>\n",
       "      <td>...</td>\n",
       "      <td>...</td>\n",
       "    </tr>\n",
       "    <tr>\n",
       "      <th>2022-12-27 00:00:00+07:00</th>\n",
       "      <td>NaN</td>\n",
       "      <td>18.100000</td>\n",
       "      <td>18.299999</td>\n",
       "      <td>18.100000</td>\n",
       "      <td>18.200001</td>\n",
       "      <td>117824.0</td>\n",
       "      <td>0.0</td>\n",
       "      <td>0.0</td>\n",
       "      <td>WORK</td>\n",
       "      <td>NaN</td>\n",
       "    </tr>\n",
       "    <tr>\n",
       "      <th>2022-12-27 00:00:00+07:00</th>\n",
       "      <td>NaN</td>\n",
       "      <td>4.500000</td>\n",
       "      <td>4.500000</td>\n",
       "      <td>4.440000</td>\n",
       "      <td>4.460000</td>\n",
       "      <td>204770.0</td>\n",
       "      <td>0.0</td>\n",
       "      <td>0.0</td>\n",
       "      <td>WP</td>\n",
       "      <td>NaN</td>\n",
       "    </tr>\n",
       "    <tr>\n",
       "      <th>2022-12-27 00:00:00+07:00</th>\n",
       "      <td>NaN</td>\n",
       "      <td>3.900000</td>\n",
       "      <td>4.120000</td>\n",
       "      <td>3.880000</td>\n",
       "      <td>4.080000</td>\n",
       "      <td>4767700.0</td>\n",
       "      <td>0.0</td>\n",
       "      <td>0.0</td>\n",
       "      <td>WPH</td>\n",
       "      <td>NaN</td>\n",
       "    </tr>\n",
       "    <tr>\n",
       "      <th>2022-12-27 00:00:00+07:00</th>\n",
       "      <td>NaN</td>\n",
       "      <td>1.580000</td>\n",
       "      <td>1.590000</td>\n",
       "      <td>1.490000</td>\n",
       "      <td>1.500000</td>\n",
       "      <td>66936295.0</td>\n",
       "      <td>0.0</td>\n",
       "      <td>0.0</td>\n",
       "      <td>XPG</td>\n",
       "      <td>NaN</td>\n",
       "    </tr>\n",
       "    <tr>\n",
       "      <th>2022-12-27 00:00:00+07:00</th>\n",
       "      <td>NaN</td>\n",
       "      <td>16.000000</td>\n",
       "      <td>17.000000</td>\n",
       "      <td>15.900000</td>\n",
       "      <td>16.900000</td>\n",
       "      <td>932030.0</td>\n",
       "      <td>0.0</td>\n",
       "      <td>0.0</td>\n",
       "      <td>ZEN</td>\n",
       "      <td>NaN</td>\n",
       "    </tr>\n",
       "  </tbody>\n",
       "</table>\n",
       "<p>461801 rows × 10 columns</p>\n",
       "</div>"
      ],
      "text/plain": [
       "                                                Date       Open       High  \\\n",
       "0                          2019-12-16 00:00:00+07:00   1.511037   1.526378   \n",
       "1                          2019-12-17 00:00:00+07:00   1.518708   1.526378   \n",
       "2                          2019-12-18 00:00:00+07:00   1.526378   1.534048   \n",
       "3                          2019-12-19 00:00:00+07:00   1.534048   1.564729   \n",
       "4                          2019-12-20 00:00:00+07:00   1.534048   1.549389   \n",
       "...                                              ...        ...        ...   \n",
       "2022-12-27 00:00:00+07:00                        NaN  18.100000  18.299999   \n",
       "2022-12-27 00:00:00+07:00                        NaN   4.500000   4.500000   \n",
       "2022-12-27 00:00:00+07:00                        NaN   3.900000   4.120000   \n",
       "2022-12-27 00:00:00+07:00                        NaN   1.580000   1.590000   \n",
       "2022-12-27 00:00:00+07:00                        NaN  16.000000  17.000000   \n",
       "\n",
       "                                 Low      Close      Volume  Dividends  \\\n",
       "0                           1.511037   1.518708    114333.0        0.0   \n",
       "1                           1.511038   1.526378     98777.0        0.0   \n",
       "2                           1.526378   1.534048    112333.0        0.0   \n",
       "3                           1.526378   1.564729      8888.0        0.0   \n",
       "4                           1.518708   1.549389    105444.0        0.0   \n",
       "...                              ...        ...         ...        ...   \n",
       "2022-12-27 00:00:00+07:00  18.100000  18.200001    117824.0        0.0   \n",
       "2022-12-27 00:00:00+07:00   4.440000   4.460000    204770.0        0.0   \n",
       "2022-12-27 00:00:00+07:00   3.880000   4.080000   4767700.0        0.0   \n",
       "2022-12-27 00:00:00+07:00   1.490000   1.500000  66936295.0        0.0   \n",
       "2022-12-27 00:00:00+07:00  15.900000  16.900000    932030.0        0.0   \n",
       "\n",
       "                           Stock Splits symbol  Capital Gains  \n",
       "0                                   0.0     2S            NaN  \n",
       "1                                   0.0     2S            NaN  \n",
       "2                                   0.0     2S            NaN  \n",
       "3                                   0.0     2S            NaN  \n",
       "4                                   0.0     2S            NaN  \n",
       "...                                 ...    ...            ...  \n",
       "2022-12-27 00:00:00+07:00           0.0   WORK            NaN  \n",
       "2022-12-27 00:00:00+07:00           0.0     WP            NaN  \n",
       "2022-12-27 00:00:00+07:00           0.0    WPH            NaN  \n",
       "2022-12-27 00:00:00+07:00           0.0    XPG            NaN  \n",
       "2022-12-27 00:00:00+07:00           0.0    ZEN            NaN  \n",
       "\n",
       "[461801 rows x 10 columns]"
      ]
     },
     "execution_count": 5,
     "metadata": {},
     "output_type": "execute_result"
    }
   ],
   "source": [
    "st_price = pd.read_csv(\"dataset/SET_index_historical_price.csv\", index_col=0)\n",
    "st_price"
   ]
  },
  {
   "cell_type": "code",
   "execution_count": 6,
   "metadata": {},
   "outputs": [
    {
     "name": "stdout",
     "output_type": "stream",
     "text": [
      "<class 'pandas.core.frame.DataFrame'>\n",
      "Index: 461801 entries, 0 to 2022-12-27 00:00:00+07:00\n",
      "Data columns (total 10 columns):\n",
      " #   Column         Non-Null Count   Dtype  \n",
      "---  ------         --------------   -----  \n",
      " 0   Date           461158 non-null  object \n",
      " 1   Open           461797 non-null  float64\n",
      " 2   High           461797 non-null  float64\n",
      " 3   Low            461797 non-null  float64\n",
      " 4   Close          461797 non-null  float64\n",
      " 5   Volume         461797 non-null  float64\n",
      " 6   Dividends      461801 non-null  float64\n",
      " 7   Stock Splits   461801 non-null  float64\n",
      " 8   symbol         461801 non-null  object \n",
      " 9   Capital Gains  2 non-null       float64\n",
      "dtypes: float64(8), object(2)\n",
      "memory usage: 38.8+ MB\n"
     ]
    }
   ],
   "source": [
    "st_price.info()"
   ]
  },
  {
   "cell_type": "code",
   "execution_count": 12,
   "metadata": {},
   "outputs": [
    {
     "data": {
      "text/html": [
       "<div>\n",
       "<style scoped>\n",
       "    .dataframe tbody tr th:only-of-type {\n",
       "        vertical-align: middle;\n",
       "    }\n",
       "\n",
       "    .dataframe tbody tr th {\n",
       "        vertical-align: top;\n",
       "    }\n",
       "\n",
       "    .dataframe thead th {\n",
       "        text-align: right;\n",
       "    }\n",
       "</style>\n",
       "<table border=\"1\" class=\"dataframe\">\n",
       "  <thead>\n",
       "    <tr style=\"text-align: right;\">\n",
       "      <th></th>\n",
       "      <th>Date</th>\n",
       "      <th>Open</th>\n",
       "      <th>High</th>\n",
       "      <th>Low</th>\n",
       "      <th>Close</th>\n",
       "      <th>Volume</th>\n",
       "      <th>Dividends</th>\n",
       "      <th>Stock Splits</th>\n",
       "      <th>symbol</th>\n",
       "      <th>Capital Gains</th>\n",
       "    </tr>\n",
       "  </thead>\n",
       "  <tbody>\n",
       "    <tr>\n",
       "      <th>0</th>\n",
       "      <td>2019-12-16 00:00:00+07:00</td>\n",
       "      <td>1.511037</td>\n",
       "      <td>1.526378</td>\n",
       "      <td>1.511037</td>\n",
       "      <td>1.518708</td>\n",
       "      <td>114333.0</td>\n",
       "      <td>0.0</td>\n",
       "      <td>0.0</td>\n",
       "      <td>2S</td>\n",
       "      <td>NaN</td>\n",
       "    </tr>\n",
       "    <tr>\n",
       "      <th>1</th>\n",
       "      <td>2019-12-17 00:00:00+07:00</td>\n",
       "      <td>1.518708</td>\n",
       "      <td>1.526378</td>\n",
       "      <td>1.511038</td>\n",
       "      <td>1.526378</td>\n",
       "      <td>98777.0</td>\n",
       "      <td>0.0</td>\n",
       "      <td>0.0</td>\n",
       "      <td>2S</td>\n",
       "      <td>NaN</td>\n",
       "    </tr>\n",
       "    <tr>\n",
       "      <th>2</th>\n",
       "      <td>2019-12-18 00:00:00+07:00</td>\n",
       "      <td>1.526378</td>\n",
       "      <td>1.534048</td>\n",
       "      <td>1.526378</td>\n",
       "      <td>1.534048</td>\n",
       "      <td>112333.0</td>\n",
       "      <td>0.0</td>\n",
       "      <td>0.0</td>\n",
       "      <td>2S</td>\n",
       "      <td>NaN</td>\n",
       "    </tr>\n",
       "    <tr>\n",
       "      <th>3</th>\n",
       "      <td>2019-12-19 00:00:00+07:00</td>\n",
       "      <td>1.534048</td>\n",
       "      <td>1.564729</td>\n",
       "      <td>1.526378</td>\n",
       "      <td>1.564729</td>\n",
       "      <td>8888.0</td>\n",
       "      <td>0.0</td>\n",
       "      <td>0.0</td>\n",
       "      <td>2S</td>\n",
       "      <td>NaN</td>\n",
       "    </tr>\n",
       "    <tr>\n",
       "      <th>4</th>\n",
       "      <td>2019-12-20 00:00:00+07:00</td>\n",
       "      <td>1.534048</td>\n",
       "      <td>1.549389</td>\n",
       "      <td>1.518708</td>\n",
       "      <td>1.549389</td>\n",
       "      <td>105444.0</td>\n",
       "      <td>0.0</td>\n",
       "      <td>0.0</td>\n",
       "      <td>2S</td>\n",
       "      <td>NaN</td>\n",
       "    </tr>\n",
       "    <tr>\n",
       "      <th>...</th>\n",
       "      <td>...</td>\n",
       "      <td>...</td>\n",
       "      <td>...</td>\n",
       "      <td>...</td>\n",
       "      <td>...</td>\n",
       "      <td>...</td>\n",
       "      <td>...</td>\n",
       "      <td>...</td>\n",
       "      <td>...</td>\n",
       "      <td>...</td>\n",
       "    </tr>\n",
       "    <tr>\n",
       "      <th>635</th>\n",
       "      <td>2022-12-27 00:00:00+07:00</td>\n",
       "      <td>18.100000</td>\n",
       "      <td>18.299999</td>\n",
       "      <td>18.100000</td>\n",
       "      <td>18.200001</td>\n",
       "      <td>114124.0</td>\n",
       "      <td>0.0</td>\n",
       "      <td>0.0</td>\n",
       "      <td>WORK</td>\n",
       "      <td>NaN</td>\n",
       "    </tr>\n",
       "    <tr>\n",
       "      <th>636</th>\n",
       "      <td>2022-12-27 00:00:00+07:00</td>\n",
       "      <td>4.500000</td>\n",
       "      <td>4.500000</td>\n",
       "      <td>4.440000</td>\n",
       "      <td>4.440000</td>\n",
       "      <td>171960.0</td>\n",
       "      <td>0.0</td>\n",
       "      <td>0.0</td>\n",
       "      <td>WP</td>\n",
       "      <td>NaN</td>\n",
       "    </tr>\n",
       "    <tr>\n",
       "      <th>637</th>\n",
       "      <td>2022-12-27 00:00:00+07:00</td>\n",
       "      <td>3.900000</td>\n",
       "      <td>4.120000</td>\n",
       "      <td>3.880000</td>\n",
       "      <td>4.080000</td>\n",
       "      <td>4249300.0</td>\n",
       "      <td>0.0</td>\n",
       "      <td>0.0</td>\n",
       "      <td>WPH</td>\n",
       "      <td>NaN</td>\n",
       "    </tr>\n",
       "    <tr>\n",
       "      <th>638</th>\n",
       "      <td>2022-12-27 00:00:00+07:00</td>\n",
       "      <td>1.580000</td>\n",
       "      <td>1.590000</td>\n",
       "      <td>1.500000</td>\n",
       "      <td>1.520000</td>\n",
       "      <td>51143600.0</td>\n",
       "      <td>0.0</td>\n",
       "      <td>0.0</td>\n",
       "      <td>XPG</td>\n",
       "      <td>NaN</td>\n",
       "    </tr>\n",
       "    <tr>\n",
       "      <th>639</th>\n",
       "      <td>2022-12-27 00:00:00+07:00</td>\n",
       "      <td>16.000000</td>\n",
       "      <td>16.900000</td>\n",
       "      <td>15.900000</td>\n",
       "      <td>16.799999</td>\n",
       "      <td>869730.0</td>\n",
       "      <td>0.0</td>\n",
       "      <td>0.0</td>\n",
       "      <td>ZEN</td>\n",
       "      <td>NaN</td>\n",
       "    </tr>\n",
       "  </tbody>\n",
       "</table>\n",
       "<p>461158 rows × 10 columns</p>\n",
       "</div>"
      ],
      "text/plain": [
       "                          Date       Open       High        Low      Close  \\\n",
       "0    2019-12-16 00:00:00+07:00   1.511037   1.526378   1.511037   1.518708   \n",
       "1    2019-12-17 00:00:00+07:00   1.518708   1.526378   1.511038   1.526378   \n",
       "2    2019-12-18 00:00:00+07:00   1.526378   1.534048   1.526378   1.534048   \n",
       "3    2019-12-19 00:00:00+07:00   1.534048   1.564729   1.526378   1.564729   \n",
       "4    2019-12-20 00:00:00+07:00   1.534048   1.549389   1.518708   1.549389   \n",
       "..                         ...        ...        ...        ...        ...   \n",
       "635  2022-12-27 00:00:00+07:00  18.100000  18.299999  18.100000  18.200001   \n",
       "636  2022-12-27 00:00:00+07:00   4.500000   4.500000   4.440000   4.440000   \n",
       "637  2022-12-27 00:00:00+07:00   3.900000   4.120000   3.880000   4.080000   \n",
       "638  2022-12-27 00:00:00+07:00   1.580000   1.590000   1.500000   1.520000   \n",
       "639  2022-12-27 00:00:00+07:00  16.000000  16.900000  15.900000  16.799999   \n",
       "\n",
       "         Volume  Dividends  Stock Splits symbol  Capital Gains  \n",
       "0      114333.0        0.0           0.0     2S            NaN  \n",
       "1       98777.0        0.0           0.0     2S            NaN  \n",
       "2      112333.0        0.0           0.0     2S            NaN  \n",
       "3        8888.0        0.0           0.0     2S            NaN  \n",
       "4      105444.0        0.0           0.0     2S            NaN  \n",
       "..          ...        ...           ...    ...            ...  \n",
       "635    114124.0        0.0           0.0   WORK            NaN  \n",
       "636    171960.0        0.0           0.0     WP            NaN  \n",
       "637   4249300.0        0.0           0.0    WPH            NaN  \n",
       "638  51143600.0        0.0           0.0    XPG            NaN  \n",
       "639    869730.0        0.0           0.0    ZEN            NaN  \n",
       "\n",
       "[461158 rows x 10 columns]"
      ]
     },
     "execution_count": 12,
     "metadata": {},
     "output_type": "execute_result"
    }
   ],
   "source": [
    "st_price = st_price.dropna(subset=['Date'])\n",
    "st_price"
   ]
  },
  {
   "cell_type": "code",
   "execution_count": 17,
   "metadata": {},
   "outputs": [
    {
     "data": {
      "text/html": [
       "<div>\n",
       "<style scoped>\n",
       "    .dataframe tbody tr th:only-of-type {\n",
       "        vertical-align: middle;\n",
       "    }\n",
       "\n",
       "    .dataframe tbody tr th {\n",
       "        vertical-align: top;\n",
       "    }\n",
       "\n",
       "    .dataframe thead th {\n",
       "        text-align: right;\n",
       "    }\n",
       "</style>\n",
       "<table border=\"1\" class=\"dataframe\">\n",
       "  <thead>\n",
       "    <tr style=\"text-align: right;\">\n",
       "      <th></th>\n",
       "      <th></th>\n",
       "      <th>Open</th>\n",
       "      <th>High</th>\n",
       "      <th>Low</th>\n",
       "      <th>Close</th>\n",
       "      <th>Volume</th>\n",
       "      <th>Dividends</th>\n",
       "      <th>Stock Splits</th>\n",
       "      <th>Capital Gains</th>\n",
       "    </tr>\n",
       "    <tr>\n",
       "      <th>Date</th>\n",
       "      <th>symbol</th>\n",
       "      <th></th>\n",
       "      <th></th>\n",
       "      <th></th>\n",
       "      <th></th>\n",
       "      <th></th>\n",
       "      <th></th>\n",
       "      <th></th>\n",
       "      <th></th>\n",
       "    </tr>\n",
       "  </thead>\n",
       "  <tbody>\n",
       "    <tr>\n",
       "      <th>2019-12-16 00:00:00+07:00</th>\n",
       "      <th>2S</th>\n",
       "      <td>1.511037</td>\n",
       "      <td>1.526378</td>\n",
       "      <td>1.511037</td>\n",
       "      <td>1.518708</td>\n",
       "      <td>114333.0</td>\n",
       "      <td>0.0</td>\n",
       "      <td>0.0</td>\n",
       "      <td>NaN</td>\n",
       "    </tr>\n",
       "    <tr>\n",
       "      <th>2019-12-17 00:00:00+07:00</th>\n",
       "      <th>2S</th>\n",
       "      <td>1.518708</td>\n",
       "      <td>1.526378</td>\n",
       "      <td>1.511038</td>\n",
       "      <td>1.526378</td>\n",
       "      <td>98777.0</td>\n",
       "      <td>0.0</td>\n",
       "      <td>0.0</td>\n",
       "      <td>NaN</td>\n",
       "    </tr>\n",
       "    <tr>\n",
       "      <th>2019-12-18 00:00:00+07:00</th>\n",
       "      <th>2S</th>\n",
       "      <td>1.526378</td>\n",
       "      <td>1.534048</td>\n",
       "      <td>1.526378</td>\n",
       "      <td>1.534048</td>\n",
       "      <td>112333.0</td>\n",
       "      <td>0.0</td>\n",
       "      <td>0.0</td>\n",
       "      <td>NaN</td>\n",
       "    </tr>\n",
       "    <tr>\n",
       "      <th>2019-12-19 00:00:00+07:00</th>\n",
       "      <th>2S</th>\n",
       "      <td>1.534048</td>\n",
       "      <td>1.564729</td>\n",
       "      <td>1.526378</td>\n",
       "      <td>1.564729</td>\n",
       "      <td>8888.0</td>\n",
       "      <td>0.0</td>\n",
       "      <td>0.0</td>\n",
       "      <td>NaN</td>\n",
       "    </tr>\n",
       "    <tr>\n",
       "      <th>2019-12-20 00:00:00+07:00</th>\n",
       "      <th>2S</th>\n",
       "      <td>1.534048</td>\n",
       "      <td>1.549389</td>\n",
       "      <td>1.518708</td>\n",
       "      <td>1.549389</td>\n",
       "      <td>105444.0</td>\n",
       "      <td>0.0</td>\n",
       "      <td>0.0</td>\n",
       "      <td>NaN</td>\n",
       "    </tr>\n",
       "    <tr>\n",
       "      <th>...</th>\n",
       "      <th>...</th>\n",
       "      <td>...</td>\n",
       "      <td>...</td>\n",
       "      <td>...</td>\n",
       "      <td>...</td>\n",
       "      <td>...</td>\n",
       "      <td>...</td>\n",
       "      <td>...</td>\n",
       "      <td>...</td>\n",
       "    </tr>\n",
       "    <tr>\n",
       "      <th rowspan=\"5\" valign=\"top\">2022-12-27 00:00:00+07:00</th>\n",
       "      <th>WORK</th>\n",
       "      <td>18.100000</td>\n",
       "      <td>18.299999</td>\n",
       "      <td>18.100000</td>\n",
       "      <td>18.200001</td>\n",
       "      <td>114124.0</td>\n",
       "      <td>0.0</td>\n",
       "      <td>0.0</td>\n",
       "      <td>NaN</td>\n",
       "    </tr>\n",
       "    <tr>\n",
       "      <th>WP</th>\n",
       "      <td>4.500000</td>\n",
       "      <td>4.500000</td>\n",
       "      <td>4.440000</td>\n",
       "      <td>4.440000</td>\n",
       "      <td>171960.0</td>\n",
       "      <td>0.0</td>\n",
       "      <td>0.0</td>\n",
       "      <td>NaN</td>\n",
       "    </tr>\n",
       "    <tr>\n",
       "      <th>WPH</th>\n",
       "      <td>3.900000</td>\n",
       "      <td>4.120000</td>\n",
       "      <td>3.880000</td>\n",
       "      <td>4.080000</td>\n",
       "      <td>4249300.0</td>\n",
       "      <td>0.0</td>\n",
       "      <td>0.0</td>\n",
       "      <td>NaN</td>\n",
       "    </tr>\n",
       "    <tr>\n",
       "      <th>XPG</th>\n",
       "      <td>1.580000</td>\n",
       "      <td>1.590000</td>\n",
       "      <td>1.500000</td>\n",
       "      <td>1.520000</td>\n",
       "      <td>51143600.0</td>\n",
       "      <td>0.0</td>\n",
       "      <td>0.0</td>\n",
       "      <td>NaN</td>\n",
       "    </tr>\n",
       "    <tr>\n",
       "      <th>ZEN</th>\n",
       "      <td>16.000000</td>\n",
       "      <td>16.900000</td>\n",
       "      <td>15.900000</td>\n",
       "      <td>16.799999</td>\n",
       "      <td>869730.0</td>\n",
       "      <td>0.0</td>\n",
       "      <td>0.0</td>\n",
       "      <td>NaN</td>\n",
       "    </tr>\n",
       "  </tbody>\n",
       "</table>\n",
       "<p>461158 rows × 8 columns</p>\n",
       "</div>"
      ],
      "text/plain": [
       "                                       Open       High        Low      Close  \\\n",
       "Date                      symbol                                               \n",
       "2019-12-16 00:00:00+07:00 2S       1.511037   1.526378   1.511037   1.518708   \n",
       "2019-12-17 00:00:00+07:00 2S       1.518708   1.526378   1.511038   1.526378   \n",
       "2019-12-18 00:00:00+07:00 2S       1.526378   1.534048   1.526378   1.534048   \n",
       "2019-12-19 00:00:00+07:00 2S       1.534048   1.564729   1.526378   1.564729   \n",
       "2019-12-20 00:00:00+07:00 2S       1.534048   1.549389   1.518708   1.549389   \n",
       "...                                     ...        ...        ...        ...   \n",
       "2022-12-27 00:00:00+07:00 WORK    18.100000  18.299999  18.100000  18.200001   \n",
       "                          WP       4.500000   4.500000   4.440000   4.440000   \n",
       "                          WPH      3.900000   4.120000   3.880000   4.080000   \n",
       "                          XPG      1.580000   1.590000   1.500000   1.520000   \n",
       "                          ZEN     16.000000  16.900000  15.900000  16.799999   \n",
       "\n",
       "                                      Volume  Dividends  Stock Splits  \\\n",
       "Date                      symbol                                        \n",
       "2019-12-16 00:00:00+07:00 2S        114333.0        0.0           0.0   \n",
       "2019-12-17 00:00:00+07:00 2S         98777.0        0.0           0.0   \n",
       "2019-12-18 00:00:00+07:00 2S        112333.0        0.0           0.0   \n",
       "2019-12-19 00:00:00+07:00 2S          8888.0        0.0           0.0   \n",
       "2019-12-20 00:00:00+07:00 2S        105444.0        0.0           0.0   \n",
       "...                                      ...        ...           ...   \n",
       "2022-12-27 00:00:00+07:00 WORK      114124.0        0.0           0.0   \n",
       "                          WP        171960.0        0.0           0.0   \n",
       "                          WPH      4249300.0        0.0           0.0   \n",
       "                          XPG     51143600.0        0.0           0.0   \n",
       "                          ZEN       869730.0        0.0           0.0   \n",
       "\n",
       "                                  Capital Gains  \n",
       "Date                      symbol                 \n",
       "2019-12-16 00:00:00+07:00 2S                NaN  \n",
       "2019-12-17 00:00:00+07:00 2S                NaN  \n",
       "2019-12-18 00:00:00+07:00 2S                NaN  \n",
       "2019-12-19 00:00:00+07:00 2S                NaN  \n",
       "2019-12-20 00:00:00+07:00 2S                NaN  \n",
       "...                                         ...  \n",
       "2022-12-27 00:00:00+07:00 WORK              NaN  \n",
       "                          WP                NaN  \n",
       "                          WPH               NaN  \n",
       "                          XPG               NaN  \n",
       "                          ZEN               NaN  \n",
       "\n",
       "[461158 rows x 8 columns]"
      ]
     },
     "execution_count": 17,
     "metadata": {},
     "output_type": "execute_result"
    }
   ],
   "source": [
    "temp = st_price.set_index(keys=['Date', 'symbol']).copy()\n",
    "temp"
   ]
  },
  {
   "cell_type": "code",
   "execution_count": 20,
   "metadata": {},
   "outputs": [
    {
     "data": {
      "text/html": [
       "<div>\n",
       "<style scoped>\n",
       "    .dataframe tbody tr th:only-of-type {\n",
       "        vertical-align: middle;\n",
       "    }\n",
       "\n",
       "    .dataframe tbody tr th {\n",
       "        vertical-align: top;\n",
       "    }\n",
       "\n",
       "    .dataframe thead th {\n",
       "        text-align: right;\n",
       "    }\n",
       "</style>\n",
       "<table border=\"1\" class=\"dataframe\">\n",
       "  <thead>\n",
       "    <tr style=\"text-align: right;\">\n",
       "      <th></th>\n",
       "      <th></th>\n",
       "      <th>Close</th>\n",
       "      <th>Volume</th>\n",
       "    </tr>\n",
       "    <tr>\n",
       "      <th>Date</th>\n",
       "      <th>symbol</th>\n",
       "      <th></th>\n",
       "      <th></th>\n",
       "    </tr>\n",
       "  </thead>\n",
       "  <tbody>\n",
       "    <tr>\n",
       "      <th>2019-12-16 00:00:00+07:00</th>\n",
       "      <th>2S</th>\n",
       "      <td>1.518708</td>\n",
       "      <td>114333.0</td>\n",
       "    </tr>\n",
       "    <tr>\n",
       "      <th>2019-12-17 00:00:00+07:00</th>\n",
       "      <th>2S</th>\n",
       "      <td>1.526378</td>\n",
       "      <td>98777.0</td>\n",
       "    </tr>\n",
       "    <tr>\n",
       "      <th>2019-12-18 00:00:00+07:00</th>\n",
       "      <th>2S</th>\n",
       "      <td>1.534048</td>\n",
       "      <td>112333.0</td>\n",
       "    </tr>\n",
       "    <tr>\n",
       "      <th>2019-12-19 00:00:00+07:00</th>\n",
       "      <th>2S</th>\n",
       "      <td>1.564729</td>\n",
       "      <td>8888.0</td>\n",
       "    </tr>\n",
       "    <tr>\n",
       "      <th>2019-12-20 00:00:00+07:00</th>\n",
       "      <th>2S</th>\n",
       "      <td>1.549389</td>\n",
       "      <td>105444.0</td>\n",
       "    </tr>\n",
       "    <tr>\n",
       "      <th>...</th>\n",
       "      <th>...</th>\n",
       "      <td>...</td>\n",
       "      <td>...</td>\n",
       "    </tr>\n",
       "    <tr>\n",
       "      <th rowspan=\"5\" valign=\"top\">2022-12-27 00:00:00+07:00</th>\n",
       "      <th>WORK</th>\n",
       "      <td>18.200001</td>\n",
       "      <td>114124.0</td>\n",
       "    </tr>\n",
       "    <tr>\n",
       "      <th>WP</th>\n",
       "      <td>4.440000</td>\n",
       "      <td>171960.0</td>\n",
       "    </tr>\n",
       "    <tr>\n",
       "      <th>WPH</th>\n",
       "      <td>4.080000</td>\n",
       "      <td>4249300.0</td>\n",
       "    </tr>\n",
       "    <tr>\n",
       "      <th>XPG</th>\n",
       "      <td>1.520000</td>\n",
       "      <td>51143600.0</td>\n",
       "    </tr>\n",
       "    <tr>\n",
       "      <th>ZEN</th>\n",
       "      <td>16.799999</td>\n",
       "      <td>869730.0</td>\n",
       "    </tr>\n",
       "  </tbody>\n",
       "</table>\n",
       "<p>461158 rows × 2 columns</p>\n",
       "</div>"
      ],
      "text/plain": [
       "                                      Close      Volume\n",
       "Date                      symbol                       \n",
       "2019-12-16 00:00:00+07:00 2S       1.518708    114333.0\n",
       "2019-12-17 00:00:00+07:00 2S       1.526378     98777.0\n",
       "2019-12-18 00:00:00+07:00 2S       1.534048    112333.0\n",
       "2019-12-19 00:00:00+07:00 2S       1.564729      8888.0\n",
       "2019-12-20 00:00:00+07:00 2S       1.549389    105444.0\n",
       "...                                     ...         ...\n",
       "2022-12-27 00:00:00+07:00 WORK    18.200001    114124.0\n",
       "                          WP       4.440000    171960.0\n",
       "                          WPH      4.080000   4249300.0\n",
       "                          XPG      1.520000  51143600.0\n",
       "                          ZEN     16.799999    869730.0\n",
       "\n",
       "[461158 rows x 2 columns]"
      ]
     },
     "execution_count": 20,
     "metadata": {},
     "output_type": "execute_result"
    }
   ],
   "source": [
    "temp = temp[['Close', 'Volume']]\n",
    "temp"
   ]
  },
  {
   "cell_type": "code",
   "execution_count": 38,
   "metadata": {},
   "outputs": [
    {
     "data": {
      "text/html": [
       "<div>\n",
       "<style scoped>\n",
       "    .dataframe tbody tr th:only-of-type {\n",
       "        vertical-align: middle;\n",
       "    }\n",
       "\n",
       "    .dataframe tbody tr th {\n",
       "        vertical-align: top;\n",
       "    }\n",
       "\n",
       "    .dataframe thead th {\n",
       "        text-align: right;\n",
       "    }\n",
       "</style>\n",
       "<table border=\"1\" class=\"dataframe\">\n",
       "  <thead>\n",
       "    <tr style=\"text-align: right;\">\n",
       "      <th></th>\n",
       "      <th>Date</th>\n",
       "      <th>symbol</th>\n",
       "      <th>Close</th>\n",
       "      <th>Volume</th>\n",
       "    </tr>\n",
       "  </thead>\n",
       "  <tbody>\n",
       "    <tr>\n",
       "      <th>0</th>\n",
       "      <td>2019-12-16 00:00:00+07:00</td>\n",
       "      <td>2S</td>\n",
       "      <td>1.518708</td>\n",
       "      <td>114333.0</td>\n",
       "    </tr>\n",
       "    <tr>\n",
       "      <th>1</th>\n",
       "      <td>2019-12-17 00:00:00+07:00</td>\n",
       "      <td>2S</td>\n",
       "      <td>1.526378</td>\n",
       "      <td>98777.0</td>\n",
       "    </tr>\n",
       "    <tr>\n",
       "      <th>2</th>\n",
       "      <td>2019-12-18 00:00:00+07:00</td>\n",
       "      <td>2S</td>\n",
       "      <td>1.534048</td>\n",
       "      <td>112333.0</td>\n",
       "    </tr>\n",
       "    <tr>\n",
       "      <th>3</th>\n",
       "      <td>2019-12-19 00:00:00+07:00</td>\n",
       "      <td>2S</td>\n",
       "      <td>1.564729</td>\n",
       "      <td>8888.0</td>\n",
       "    </tr>\n",
       "    <tr>\n",
       "      <th>4</th>\n",
       "      <td>2019-12-20 00:00:00+07:00</td>\n",
       "      <td>2S</td>\n",
       "      <td>1.549389</td>\n",
       "      <td>105444.0</td>\n",
       "    </tr>\n",
       "    <tr>\n",
       "      <th>...</th>\n",
       "      <td>...</td>\n",
       "      <td>...</td>\n",
       "      <td>...</td>\n",
       "      <td>...</td>\n",
       "    </tr>\n",
       "    <tr>\n",
       "      <th>461153</th>\n",
       "      <td>2022-12-27 00:00:00+07:00</td>\n",
       "      <td>WORK</td>\n",
       "      <td>18.200001</td>\n",
       "      <td>114124.0</td>\n",
       "    </tr>\n",
       "    <tr>\n",
       "      <th>461154</th>\n",
       "      <td>2022-12-27 00:00:00+07:00</td>\n",
       "      <td>WP</td>\n",
       "      <td>4.440000</td>\n",
       "      <td>171960.0</td>\n",
       "    </tr>\n",
       "    <tr>\n",
       "      <th>461155</th>\n",
       "      <td>2022-12-27 00:00:00+07:00</td>\n",
       "      <td>WPH</td>\n",
       "      <td>4.080000</td>\n",
       "      <td>4249300.0</td>\n",
       "    </tr>\n",
       "    <tr>\n",
       "      <th>461156</th>\n",
       "      <td>2022-12-27 00:00:00+07:00</td>\n",
       "      <td>XPG</td>\n",
       "      <td>1.520000</td>\n",
       "      <td>51143600.0</td>\n",
       "    </tr>\n",
       "    <tr>\n",
       "      <th>461157</th>\n",
       "      <td>2022-12-27 00:00:00+07:00</td>\n",
       "      <td>ZEN</td>\n",
       "      <td>16.799999</td>\n",
       "      <td>869730.0</td>\n",
       "    </tr>\n",
       "  </tbody>\n",
       "</table>\n",
       "<p>461158 rows × 4 columns</p>\n",
       "</div>"
      ],
      "text/plain": [
       "                             Date symbol      Close      Volume\n",
       "0       2019-12-16 00:00:00+07:00     2S   1.518708    114333.0\n",
       "1       2019-12-17 00:00:00+07:00     2S   1.526378     98777.0\n",
       "2       2019-12-18 00:00:00+07:00     2S   1.534048    112333.0\n",
       "3       2019-12-19 00:00:00+07:00     2S   1.564729      8888.0\n",
       "4       2019-12-20 00:00:00+07:00     2S   1.549389    105444.0\n",
       "...                           ...    ...        ...         ...\n",
       "461153  2022-12-27 00:00:00+07:00   WORK  18.200001    114124.0\n",
       "461154  2022-12-27 00:00:00+07:00     WP   4.440000    171960.0\n",
       "461155  2022-12-27 00:00:00+07:00    WPH   4.080000   4249300.0\n",
       "461156  2022-12-27 00:00:00+07:00    XPG   1.520000  51143600.0\n",
       "461157  2022-12-27 00:00:00+07:00    ZEN  16.799999    869730.0\n",
       "\n",
       "[461158 rows x 4 columns]"
      ]
     },
     "execution_count": 38,
     "metadata": {},
     "output_type": "execute_result"
    }
   ],
   "source": [
    "temp = temp.reset_index()\n",
    "temp"
   ]
  },
  {
   "cell_type": "code",
   "execution_count": 40,
   "metadata": {},
   "outputs": [
    {
     "data": {
      "text/html": [
       "<div>\n",
       "<style scoped>\n",
       "    .dataframe tbody tr th:only-of-type {\n",
       "        vertical-align: middle;\n",
       "    }\n",
       "\n",
       "    .dataframe tbody tr th {\n",
       "        vertical-align: top;\n",
       "    }\n",
       "\n",
       "    .dataframe thead th {\n",
       "        text-align: right;\n",
       "    }\n",
       "</style>\n",
       "<table border=\"1\" class=\"dataframe\">\n",
       "  <thead>\n",
       "    <tr style=\"text-align: right;\">\n",
       "      <th>symbol</th>\n",
       "      <th>2S</th>\n",
       "      <th>3K-BAT</th>\n",
       "      <th>7UP</th>\n",
       "      <th>A</th>\n",
       "      <th>AAI</th>\n",
       "      <th>AAV</th>\n",
       "      <th>ABPIF</th>\n",
       "      <th>ACC</th>\n",
       "      <th>ACE</th>\n",
       "      <th>ACG</th>\n",
       "      <th>...</th>\n",
       "      <th>WHAUP</th>\n",
       "      <th>WICE</th>\n",
       "      <th>WIIK</th>\n",
       "      <th>WIN</th>\n",
       "      <th>WORK</th>\n",
       "      <th>WORLD</th>\n",
       "      <th>WP</th>\n",
       "      <th>WPH</th>\n",
       "      <th>XPG</th>\n",
       "      <th>ZEN</th>\n",
       "    </tr>\n",
       "    <tr>\n",
       "      <th>Date</th>\n",
       "      <th></th>\n",
       "      <th></th>\n",
       "      <th></th>\n",
       "      <th></th>\n",
       "      <th></th>\n",
       "      <th></th>\n",
       "      <th></th>\n",
       "      <th></th>\n",
       "      <th></th>\n",
       "      <th></th>\n",
       "      <th></th>\n",
       "      <th></th>\n",
       "      <th></th>\n",
       "      <th></th>\n",
       "      <th></th>\n",
       "      <th></th>\n",
       "      <th></th>\n",
       "      <th></th>\n",
       "      <th></th>\n",
       "      <th></th>\n",
       "      <th></th>\n",
       "    </tr>\n",
       "  </thead>\n",
       "  <tbody>\n",
       "    <tr>\n",
       "      <th>2019-12-16 00:00:00+07:00</th>\n",
       "      <td>1.518708</td>\n",
       "      <td>NaN</td>\n",
       "      <td>0.52</td>\n",
       "      <td>6.1131</td>\n",
       "      <td>NaN</td>\n",
       "      <td>2.22</td>\n",
       "      <td>4.56</td>\n",
       "      <td>0.63</td>\n",
       "      <td>4.177079</td>\n",
       "      <td>0.900137</td>\n",
       "      <td>...</td>\n",
       "      <td>4.519948</td>\n",
       "      <td>2.051937</td>\n",
       "      <td>1.160048</td>\n",
       "      <td>0.38</td>\n",
       "      <td>11.850938</td>\n",
       "      <td>0.04238</td>\n",
       "      <td>4.302898</td>\n",
       "      <td>1.736421</td>\n",
       "      <td>0.63</td>\n",
       "      <td>13.001860</td>\n",
       "    </tr>\n",
       "    <tr>\n",
       "      <th>2019-12-16 00:00:00-05:00</th>\n",
       "      <td>NaN</td>\n",
       "      <td>NaN</td>\n",
       "      <td>NaN</td>\n",
       "      <td>NaN</td>\n",
       "      <td>NaN</td>\n",
       "      <td>NaN</td>\n",
       "      <td>NaN</td>\n",
       "      <td>NaN</td>\n",
       "      <td>NaN</td>\n",
       "      <td>NaN</td>\n",
       "      <td>...</td>\n",
       "      <td>NaN</td>\n",
       "      <td>NaN</td>\n",
       "      <td>NaN</td>\n",
       "      <td>NaN</td>\n",
       "      <td>NaN</td>\n",
       "      <td>NaN</td>\n",
       "      <td>NaN</td>\n",
       "      <td>NaN</td>\n",
       "      <td>NaN</td>\n",
       "      <td>NaN</td>\n",
       "    </tr>\n",
       "    <tr>\n",
       "      <th>2019-12-17 00:00:00+07:00</th>\n",
       "      <td>1.526378</td>\n",
       "      <td>NaN</td>\n",
       "      <td>0.52</td>\n",
       "      <td>6.1131</td>\n",
       "      <td>NaN</td>\n",
       "      <td>2.14</td>\n",
       "      <td>4.54</td>\n",
       "      <td>0.61</td>\n",
       "      <td>3.980972</td>\n",
       "      <td>0.891398</td>\n",
       "      <td>...</td>\n",
       "      <td>4.435464</td>\n",
       "      <td>2.033616</td>\n",
       "      <td>1.151326</td>\n",
       "      <td>0.38</td>\n",
       "      <td>11.850938</td>\n",
       "      <td>0.04238</td>\n",
       "      <td>4.302898</td>\n",
       "      <td>1.727651</td>\n",
       "      <td>0.63</td>\n",
       "      <td>12.820016</td>\n",
       "    </tr>\n",
       "    <tr>\n",
       "      <th>2019-12-17 00:00:00-05:00</th>\n",
       "      <td>NaN</td>\n",
       "      <td>NaN</td>\n",
       "      <td>NaN</td>\n",
       "      <td>NaN</td>\n",
       "      <td>NaN</td>\n",
       "      <td>NaN</td>\n",
       "      <td>NaN</td>\n",
       "      <td>NaN</td>\n",
       "      <td>NaN</td>\n",
       "      <td>NaN</td>\n",
       "      <td>...</td>\n",
       "      <td>NaN</td>\n",
       "      <td>NaN</td>\n",
       "      <td>NaN</td>\n",
       "      <td>NaN</td>\n",
       "      <td>NaN</td>\n",
       "      <td>NaN</td>\n",
       "      <td>NaN</td>\n",
       "      <td>NaN</td>\n",
       "      <td>NaN</td>\n",
       "      <td>NaN</td>\n",
       "    </tr>\n",
       "    <tr>\n",
       "      <th>2019-12-18 00:00:00+07:00</th>\n",
       "      <td>1.534048</td>\n",
       "      <td>NaN</td>\n",
       "      <td>0.51</td>\n",
       "      <td>6.1628</td>\n",
       "      <td>NaN</td>\n",
       "      <td>2.18</td>\n",
       "      <td>4.54</td>\n",
       "      <td>0.61</td>\n",
       "      <td>4.039803</td>\n",
       "      <td>0.900137</td>\n",
       "      <td>...</td>\n",
       "      <td>4.519948</td>\n",
       "      <td>2.051937</td>\n",
       "      <td>1.142604</td>\n",
       "      <td>0.38</td>\n",
       "      <td>12.026506</td>\n",
       "      <td>0.04238</td>\n",
       "      <td>4.345927</td>\n",
       "      <td>1.718881</td>\n",
       "      <td>0.64</td>\n",
       "      <td>12.729094</td>\n",
       "    </tr>\n",
       "    <tr>\n",
       "      <th>...</th>\n",
       "      <td>...</td>\n",
       "      <td>...</td>\n",
       "      <td>...</td>\n",
       "      <td>...</td>\n",
       "      <td>...</td>\n",
       "      <td>...</td>\n",
       "      <td>...</td>\n",
       "      <td>...</td>\n",
       "      <td>...</td>\n",
       "      <td>...</td>\n",
       "      <td>...</td>\n",
       "      <td>...</td>\n",
       "      <td>...</td>\n",
       "      <td>...</td>\n",
       "      <td>...</td>\n",
       "      <td>...</td>\n",
       "      <td>...</td>\n",
       "      <td>...</td>\n",
       "      <td>...</td>\n",
       "      <td>...</td>\n",
       "      <td>...</td>\n",
       "    </tr>\n",
       "    <tr>\n",
       "      <th>2022-12-13 00:00:00-05:00</th>\n",
       "      <td>NaN</td>\n",
       "      <td>NaN</td>\n",
       "      <td>NaN</td>\n",
       "      <td>NaN</td>\n",
       "      <td>NaN</td>\n",
       "      <td>NaN</td>\n",
       "      <td>NaN</td>\n",
       "      <td>NaN</td>\n",
       "      <td>NaN</td>\n",
       "      <td>NaN</td>\n",
       "      <td>...</td>\n",
       "      <td>NaN</td>\n",
       "      <td>NaN</td>\n",
       "      <td>NaN</td>\n",
       "      <td>NaN</td>\n",
       "      <td>NaN</td>\n",
       "      <td>NaN</td>\n",
       "      <td>NaN</td>\n",
       "      <td>NaN</td>\n",
       "      <td>NaN</td>\n",
       "      <td>NaN</td>\n",
       "    </tr>\n",
       "    <tr>\n",
       "      <th>2022-12-14 00:00:00+07:00</th>\n",
       "      <td>2.980000</td>\n",
       "      <td>NaN</td>\n",
       "      <td>0.62</td>\n",
       "      <td>4.9800</td>\n",
       "      <td>7.6</td>\n",
       "      <td>3.04</td>\n",
       "      <td>NaN</td>\n",
       "      <td>1.22</td>\n",
       "      <td>2.680000</td>\n",
       "      <td>1.540000</td>\n",
       "      <td>...</td>\n",
       "      <td>4.000000</td>\n",
       "      <td>10.900000</td>\n",
       "      <td>1.800000</td>\n",
       "      <td>0.99</td>\n",
       "      <td>18.700001</td>\n",
       "      <td>NaN</td>\n",
       "      <td>4.520000</td>\n",
       "      <td>3.900000</td>\n",
       "      <td>1.50</td>\n",
       "      <td>17.700001</td>\n",
       "    </tr>\n",
       "    <tr>\n",
       "      <th>2022-12-23 00:00:00-05:00</th>\n",
       "      <td>NaN</td>\n",
       "      <td>NaN</td>\n",
       "      <td>NaN</td>\n",
       "      <td>NaN</td>\n",
       "      <td>NaN</td>\n",
       "      <td>NaN</td>\n",
       "      <td>NaN</td>\n",
       "      <td>NaN</td>\n",
       "      <td>NaN</td>\n",
       "      <td>NaN</td>\n",
       "      <td>...</td>\n",
       "      <td>NaN</td>\n",
       "      <td>NaN</td>\n",
       "      <td>NaN</td>\n",
       "      <td>NaN</td>\n",
       "      <td>NaN</td>\n",
       "      <td>NaN</td>\n",
       "      <td>NaN</td>\n",
       "      <td>NaN</td>\n",
       "      <td>NaN</td>\n",
       "      <td>NaN</td>\n",
       "    </tr>\n",
       "    <tr>\n",
       "      <th>2022-12-26 00:00:00+07:00</th>\n",
       "      <td>NaN</td>\n",
       "      <td>NaN</td>\n",
       "      <td>NaN</td>\n",
       "      <td>NaN</td>\n",
       "      <td>NaN</td>\n",
       "      <td>NaN</td>\n",
       "      <td>NaN</td>\n",
       "      <td>NaN</td>\n",
       "      <td>NaN</td>\n",
       "      <td>NaN</td>\n",
       "      <td>...</td>\n",
       "      <td>NaN</td>\n",
       "      <td>NaN</td>\n",
       "      <td>NaN</td>\n",
       "      <td>NaN</td>\n",
       "      <td>NaN</td>\n",
       "      <td>NaN</td>\n",
       "      <td>NaN</td>\n",
       "      <td>NaN</td>\n",
       "      <td>NaN</td>\n",
       "      <td>NaN</td>\n",
       "    </tr>\n",
       "    <tr>\n",
       "      <th>2022-12-27 00:00:00+07:00</th>\n",
       "      <td>3.040000</td>\n",
       "      <td>63.0</td>\n",
       "      <td>0.60</td>\n",
       "      <td>4.9600</td>\n",
       "      <td>6.9</td>\n",
       "      <td>3.02</td>\n",
       "      <td>NaN</td>\n",
       "      <td>1.15</td>\n",
       "      <td>2.620000</td>\n",
       "      <td>1.530000</td>\n",
       "      <td>...</td>\n",
       "      <td>4.020000</td>\n",
       "      <td>10.200000</td>\n",
       "      <td>1.790000</td>\n",
       "      <td>1.05</td>\n",
       "      <td>18.200001</td>\n",
       "      <td>NaN</td>\n",
       "      <td>4.440000</td>\n",
       "      <td>4.080000</td>\n",
       "      <td>1.52</td>\n",
       "      <td>16.799999</td>\n",
       "    </tr>\n",
       "  </tbody>\n",
       "</table>\n",
       "<p>1463 rows × 674 columns</p>\n",
       "</div>"
      ],
      "text/plain": [
       "symbol                           2S  3K-BAT   7UP       A  AAI   AAV  ABPIF  \\\n",
       "Date                                                                          \n",
       "2019-12-16 00:00:00+07:00  1.518708     NaN  0.52  6.1131  NaN  2.22   4.56   \n",
       "2019-12-16 00:00:00-05:00       NaN     NaN   NaN     NaN  NaN   NaN    NaN   \n",
       "2019-12-17 00:00:00+07:00  1.526378     NaN  0.52  6.1131  NaN  2.14   4.54   \n",
       "2019-12-17 00:00:00-05:00       NaN     NaN   NaN     NaN  NaN   NaN    NaN   \n",
       "2019-12-18 00:00:00+07:00  1.534048     NaN  0.51  6.1628  NaN  2.18   4.54   \n",
       "...                             ...     ...   ...     ...  ...   ...    ...   \n",
       "2022-12-13 00:00:00-05:00       NaN     NaN   NaN     NaN  NaN   NaN    NaN   \n",
       "2022-12-14 00:00:00+07:00  2.980000     NaN  0.62  4.9800  7.6  3.04    NaN   \n",
       "2022-12-23 00:00:00-05:00       NaN     NaN   NaN     NaN  NaN   NaN    NaN   \n",
       "2022-12-26 00:00:00+07:00       NaN     NaN   NaN     NaN  NaN   NaN    NaN   \n",
       "2022-12-27 00:00:00+07:00  3.040000    63.0  0.60  4.9600  6.9  3.02    NaN   \n",
       "\n",
       "symbol                      ACC       ACE       ACG  ...     WHAUP       WICE  \\\n",
       "Date                                                 ...                        \n",
       "2019-12-16 00:00:00+07:00  0.63  4.177079  0.900137  ...  4.519948   2.051937   \n",
       "2019-12-16 00:00:00-05:00   NaN       NaN       NaN  ...       NaN        NaN   \n",
       "2019-12-17 00:00:00+07:00  0.61  3.980972  0.891398  ...  4.435464   2.033616   \n",
       "2019-12-17 00:00:00-05:00   NaN       NaN       NaN  ...       NaN        NaN   \n",
       "2019-12-18 00:00:00+07:00  0.61  4.039803  0.900137  ...  4.519948   2.051937   \n",
       "...                         ...       ...       ...  ...       ...        ...   \n",
       "2022-12-13 00:00:00-05:00   NaN       NaN       NaN  ...       NaN        NaN   \n",
       "2022-12-14 00:00:00+07:00  1.22  2.680000  1.540000  ...  4.000000  10.900000   \n",
       "2022-12-23 00:00:00-05:00   NaN       NaN       NaN  ...       NaN        NaN   \n",
       "2022-12-26 00:00:00+07:00   NaN       NaN       NaN  ...       NaN        NaN   \n",
       "2022-12-27 00:00:00+07:00  1.15  2.620000  1.530000  ...  4.020000  10.200000   \n",
       "\n",
       "symbol                         WIIK   WIN       WORK    WORLD        WP  \\\n",
       "Date                                                                      \n",
       "2019-12-16 00:00:00+07:00  1.160048  0.38  11.850938  0.04238  4.302898   \n",
       "2019-12-16 00:00:00-05:00       NaN   NaN        NaN      NaN       NaN   \n",
       "2019-12-17 00:00:00+07:00  1.151326  0.38  11.850938  0.04238  4.302898   \n",
       "2019-12-17 00:00:00-05:00       NaN   NaN        NaN      NaN       NaN   \n",
       "2019-12-18 00:00:00+07:00  1.142604  0.38  12.026506  0.04238  4.345927   \n",
       "...                             ...   ...        ...      ...       ...   \n",
       "2022-12-13 00:00:00-05:00       NaN   NaN        NaN      NaN       NaN   \n",
       "2022-12-14 00:00:00+07:00  1.800000  0.99  18.700001      NaN  4.520000   \n",
       "2022-12-23 00:00:00-05:00       NaN   NaN        NaN      NaN       NaN   \n",
       "2022-12-26 00:00:00+07:00       NaN   NaN        NaN      NaN       NaN   \n",
       "2022-12-27 00:00:00+07:00  1.790000  1.05  18.200001      NaN  4.440000   \n",
       "\n",
       "symbol                          WPH   XPG        ZEN  \n",
       "Date                                                  \n",
       "2019-12-16 00:00:00+07:00  1.736421  0.63  13.001860  \n",
       "2019-12-16 00:00:00-05:00       NaN   NaN        NaN  \n",
       "2019-12-17 00:00:00+07:00  1.727651  0.63  12.820016  \n",
       "2019-12-17 00:00:00-05:00       NaN   NaN        NaN  \n",
       "2019-12-18 00:00:00+07:00  1.718881  0.64  12.729094  \n",
       "...                             ...   ...        ...  \n",
       "2022-12-13 00:00:00-05:00       NaN   NaN        NaN  \n",
       "2022-12-14 00:00:00+07:00  3.900000  1.50  17.700001  \n",
       "2022-12-23 00:00:00-05:00       NaN   NaN        NaN  \n",
       "2022-12-26 00:00:00+07:00       NaN   NaN        NaN  \n",
       "2022-12-27 00:00:00+07:00  4.080000  1.52  16.799999  \n",
       "\n",
       "[1463 rows x 674 columns]"
      ]
     },
     "execution_count": 40,
     "metadata": {},
     "output_type": "execute_result"
    }
   ],
   "source": [
    "pd.pivot(temp, index='Date', columns=['symbol'], values='Close')"
   ]
  },
  {
   "cell_type": "code",
   "execution_count": 27,
   "metadata": {},
   "outputs": [],
   "source": [
    "from stock_analytics.utils import transform_float64_to_float16"
   ]
  },
  {
   "cell_type": "code",
   "execution_count": 54,
   "metadata": {},
   "outputs": [
    {
     "data": {
      "text/plain": [
       "246"
      ]
     },
     "execution_count": 54,
     "metadata": {},
     "output_type": "execute_result"
    }
   ],
   "source": [
    "import yfinance as yf\n",
    "name_bk = \"TOPP.BK\"\n",
    "stock = yf.Ticker(name_bk)\n",
    "df = stock.history(period=\"1y\", interval=\"1d\")\n",
    "df.shape[0]"
   ]
  },
  {
   "cell_type": "code",
   "execution_count": 50,
   "metadata": {},
   "outputs": [
    {
     "data": {
      "text/plain": [
       "<Axes: xlabel='Date'>"
      ]
     },
     "execution_count": 50,
     "metadata": {},
     "output_type": "execute_result"
    },
    {
     "data": {
      "image/png": "[encoded data removed]",
      "text/plain": [
       "<Figure size 640x480 with 1 Axes>"
      ]
     },
     "metadata": {},
     "output_type": "display_data"
    }
   ],
   "source": [
    "df.Close.plot()"
   ]
  },
  {
   "cell_type": "code",
   "execution_count": 55,
   "metadata": {},
   "outputs": [],
   "source": [
    "name_bk = \"SDF.BK\"\n",
    "stock = yf.Ticker(name_bk)\n",
    "# df = stock.history(period=\"1y\", interval=\"1d\")"
   ]
  },
  {
   "cell_type": "code",
   "execution_count": 73,
   "metadata": {},
   "outputs": [],
   "source": [
    "from stock_analytics.ingestion import request_all_history_data_from_yf"
   ]
  },
  {
   "cell_type": "code",
   "execution_count": 74,
   "metadata": {},
   "outputs": [
    {
     "name": "stderr",
     "output_type": "stream",
     "text": [
      "  0%|          | 0/677 [00:00<?, ?it/s]"
     ]
    },
    {
     "name": "stdout",
     "output_type": "stream",
     "text": [
      "[2023-10-28 13:57:02,137: INFO: ingestion: Download 2S.BK]\n"
     ]
    },
    {
     "name": "stderr",
     "output_type": "stream",
     "text": [
      "  0%|          | 1/677 [00:00<02:55,  3.86it/s]"
     ]
    },
    {
     "name": "stdout",
     "output_type": "stream",
     "text": [
      "[2023-10-28 13:57:02,321: INFO: ingestion: Download 3K-BAT.BK]\n"
     ]
    },
    {
     "name": "stderr",
     "output_type": "stream",
     "text": [
      "  0%|          | 2/677 [00:00<02:25,  4.65it/s]"
     ]
    },
    {
     "name": "stdout",
     "output_type": "stream",
     "text": [
      "[2023-10-28 13:57:02,540: INFO: ingestion: Download 7UP.BK]\n"
     ]
    },
    {
     "name": "stderr",
     "output_type": "stream",
     "text": [
      "  0%|          | 3/677 [00:00<02:26,  4.61it/s]"
     ]
    },
    {
     "name": "stdout",
     "output_type": "stream",
     "text": [
      "[2023-10-28 13:57:02,784: INFO: ingestion: Download A.BK]\n"
     ]
    },
    {
     "name": "stderr",
     "output_type": "stream",
     "text": [
      "  1%|          | 4/677 [00:00<02:33,  4.39it/s]"
     ]
    },
    {
     "name": "stdout",
     "output_type": "stream",
     "text": [
      "[2023-10-28 13:57:02,939: INFO: ingestion: Download AAI.BK]\n"
     ]
    },
    {
     "name": "stderr",
     "output_type": "stream",
     "text": [
      "  1%|          | 5/677 [00:01<02:15,  4.97it/s]"
     ]
    },
    {
     "name": "stdout",
     "output_type": "stream",
     "text": [
      "[2023-10-28 13:57:03,152: INFO: ingestion: Download AAV.BK]\n"
     ]
    },
    {
     "name": "stderr",
     "output_type": "stream",
     "text": [
      "  1%|          | 6/677 [00:01<02:17,  4.87it/s]"
     ]
    },
    {
     "name": "stdout",
     "output_type": "stream",
     "text": [
      "[2023-10-28 13:57:03,381: INFO: ingestion: Download ABPIF.BK]\n"
     ]
    },
    {
     "name": "stderr",
     "output_type": "stream",
     "text": [
      "  1%|          | 7/677 [00:01<02:22,  4.69it/s]"
     ]
    },
    {
     "name": "stdout",
     "output_type": "stream",
     "text": [
      "[2023-10-28 13:57:03,607: INFO: ingestion: Download ACC.BK]\n"
     ]
    },
    {
     "name": "stderr",
     "output_type": "stream",
     "text": [
      "  1%|          | 8/677 [00:01<02:25,  4.60it/s]"
     ]
    },
    {
     "name": "stdout",
     "output_type": "stream",
     "text": [
      "[2023-10-28 13:57:03,818: INFO: ingestion: Download ACE.BK]\n"
     ]
    },
    {
     "name": "stderr",
     "output_type": "stream",
     "text": [
      "  1%|▏         | 9/677 [00:01<02:23,  4.64it/s]"
     ]
    },
    {
     "name": "stdout",
     "output_type": "stream",
     "text": [
      "[2023-10-28 13:57:04,024: INFO: ingestion: Download ACG.BK]\n"
     ]
    },
    {
     "name": "stderr",
     "output_type": "stream",
     "text": [
      "  1%|▏         | 10/677 [00:02<02:21,  4.71it/s]"
     ]
    },
    {
     "name": "stdout",
     "output_type": "stream",
     "text": [
      "[2023-10-28 13:57:04,452: INFO: ingestion: Download ADVANC.BK]\n"
     ]
    },
    {
     "name": "stderr",
     "output_type": "stream",
     "text": [
      "  2%|▏         | 11/677 [00:02<03:05,  3.59it/s]"
     ]
    },
    {
     "name": "stdout",
     "output_type": "stream",
     "text": [
      "[2023-10-28 13:57:04,885: INFO: ingestion: Download AEONTS.BK]\n"
     ]
    },
    {
     "name": "stderr",
     "output_type": "stream",
     "text": [
      "  2%|▏         | 12/677 [00:03<03:36,  3.07it/s]"
     ]
    },
    {
     "name": "stdout",
     "output_type": "stream",
     "text": [
      "[2023-10-28 13:57:05,327: INFO: ingestion: Download AFC.BK]\n"
     ]
    },
    {
     "name": "stderr",
     "output_type": "stream",
     "text": [
      "  2%|▏         | 13/677 [00:03<03:59,  2.77it/s]"
     ]
    },
    {
     "name": "stdout",
     "output_type": "stream",
     "text": [
      "[2023-10-28 13:57:05,735: INFO: ingestion: Download AGE.BK]\n"
     ]
    },
    {
     "name": "stderr",
     "output_type": "stream",
     "text": [
      "  2%|▏         | 14/677 [00:03<04:08,  2.67it/s]"
     ]
    },
    {
     "name": "stdout",
     "output_type": "stream",
     "text": [
      "[2023-10-28 13:57:06,139: INFO: ingestion: Download AH.BK]\n"
     ]
    },
    {
     "name": "stderr",
     "output_type": "stream",
     "text": [
      "  2%|▏         | 15/677 [00:04<04:13,  2.61it/s]"
     ]
    },
    {
     "name": "stdout",
     "output_type": "stream",
     "text": [
      "[2023-10-28 13:57:06,540: INFO: ingestion: Download AHC.BK]\n"
     ]
    },
    {
     "name": "stderr",
     "output_type": "stream",
     "text": [
      "  2%|▏         | 16/677 [00:04<04:17,  2.57it/s]"
     ]
    },
    {
     "name": "stdout",
     "output_type": "stream",
     "text": [
      "[2023-10-28 13:57:06,945: INFO: ingestion: Download AI.BK]\n"
     ]
    },
    {
     "name": "stderr",
     "output_type": "stream",
     "text": [
      "  3%|▎         | 17/677 [00:05<04:20,  2.54it/s]"
     ]
    },
    {
     "name": "stdout",
     "output_type": "stream",
     "text": [
      "[2023-10-28 13:57:07,312: INFO: ingestion: Download AIE.BK]\n"
     ]
    },
    {
     "name": "stderr",
     "output_type": "stream",
     "text": [
      "  3%|▎         | 18/677 [00:05<04:14,  2.59it/s]"
     ]
    },
    {
     "name": "stdout",
     "output_type": "stream",
     "text": [
      "[2023-10-28 13:57:07,677: INFO: ingestion: Download AIMCG.BK]\n"
     ]
    },
    {
     "name": "stderr",
     "output_type": "stream",
     "text": [
      "  3%|▎         | 19/677 [00:05<04:09,  2.63it/s]"
     ]
    },
    {
     "name": "stdout",
     "output_type": "stream",
     "text": [
      "[2023-10-28 13:57:08,049: INFO: ingestion: Download AIMIRT.BK]\n"
     ]
    },
    {
     "name": "stderr",
     "output_type": "stream",
     "text": [
      "  3%|▎         | 20/677 [00:06<04:07,  2.65it/s]"
     ]
    },
    {
     "name": "stdout",
     "output_type": "stream",
     "text": [
      "[2023-10-28 13:57:08,449: INFO: ingestion: Download AIT.BK]\n"
     ]
    },
    {
     "name": "stderr",
     "output_type": "stream",
     "text": [
      "  3%|▎         | 21/677 [00:06<04:12,  2.60it/s]"
     ]
    },
    {
     "name": "stdout",
     "output_type": "stream",
     "text": [
      "[2023-10-28 13:57:08,868: INFO: ingestion: Download AJ.BK]\n"
     ]
    },
    {
     "name": "stderr",
     "output_type": "stream",
     "text": [
      "  3%|▎         | 22/677 [00:06<04:18,  2.53it/s]"
     ]
    },
    {
     "name": "stdout",
     "output_type": "stream",
     "text": [
      "[2023-10-28 13:57:09,217: INFO: ingestion: Download AJA.BK]\n"
     ]
    },
    {
     "name": "stderr",
     "output_type": "stream",
     "text": [
      "  3%|▎         | 23/677 [00:07<04:09,  2.63it/s]"
     ]
    },
    {
     "name": "stdout",
     "output_type": "stream",
     "text": [
      "[2023-10-28 13:57:09,620: INFO: ingestion: Download AKR.BK]\n"
     ]
    },
    {
     "name": "stderr",
     "output_type": "stream",
     "text": [
      "  4%|▎         | 24/677 [00:07<04:12,  2.58it/s]"
     ]
    },
    {
     "name": "stdout",
     "output_type": "stream",
     "text": [
      "[2023-10-28 13:57:09,969: INFO: ingestion: Download ALLA.BK]\n"
     ]
    },
    {
     "name": "stderr",
     "output_type": "stream",
     "text": [
      "  4%|▎         | 25/677 [00:08<04:05,  2.66it/s]"
     ]
    },
    {
     "name": "stdout",
     "output_type": "stream",
     "text": [
      "[2023-10-28 13:57:10,329: INFO: ingestion: Download ALLY.BK]\n"
     ]
    },
    {
     "name": "stderr",
     "output_type": "stream",
     "text": [
      "  4%|▍         | 26/677 [00:08<04:01,  2.69it/s]"
     ]
    },
    {
     "name": "stdout",
     "output_type": "stream",
     "text": [
      "[2023-10-28 13:57:10,712: INFO: ingestion: Download ALT.BK]\n"
     ]
    },
    {
     "name": "stderr",
     "output_type": "stream",
     "text": [
      "  4%|▍         | 27/677 [00:08<04:03,  2.67it/s]"
     ]
    },
    {
     "name": "stdout",
     "output_type": "stream",
     "text": [
      "[2023-10-28 13:57:11,118: INFO: ingestion: Download ALUCON.BK]\n"
     ]
    },
    {
     "name": "stderr",
     "output_type": "stream",
     "text": [
      "  4%|▍         | 28/677 [00:09<04:09,  2.60it/s]"
     ]
    },
    {
     "name": "stdout",
     "output_type": "stream",
     "text": [
      "[2023-10-28 13:57:11,493: INFO: ingestion: Download AMANAH.BK]\n"
     ]
    },
    {
     "name": "stderr",
     "output_type": "stream",
     "text": [
      "  4%|▍         | 29/677 [00:09<04:07,  2.62it/s]"
     ]
    },
    {
     "name": "stdout",
     "output_type": "stream",
     "text": [
      "[2023-10-28 13:57:11,902: INFO: ingestion: Download AMARIN.BK]\n"
     ]
    },
    {
     "name": "stderr",
     "output_type": "stream",
     "text": [
      "  4%|▍         | 30/677 [00:10<04:12,  2.57it/s]"
     ]
    },
    {
     "name": "stdout",
     "output_type": "stream",
     "text": [
      "[2023-10-28 13:57:12,292: INFO: ingestion: Download AMATA.BK]\n"
     ]
    },
    {
     "name": "stderr",
     "output_type": "stream",
     "text": [
      "  5%|▍         | 31/677 [00:10<04:11,  2.57it/s]"
     ]
    },
    {
     "name": "stdout",
     "output_type": "stream",
     "text": [
      "[2023-10-28 13:57:12,681: INFO: ingestion: Download AMATAR.BK]\n"
     ]
    },
    {
     "name": "stderr",
     "output_type": "stream",
     "text": [
      "  5%|▍         | 32/677 [00:10<04:11,  2.57it/s]"
     ]
    },
    {
     "name": "stdout",
     "output_type": "stream",
     "text": [
      "[2023-10-28 13:57:13,064: INFO: ingestion: Download AMATAV.BK]\n"
     ]
    },
    {
     "name": "stderr",
     "output_type": "stream",
     "text": [
      "  5%|▍         | 33/677 [00:11<04:09,  2.58it/s]"
     ]
    },
    {
     "name": "stdout",
     "output_type": "stream",
     "text": [
      "[2023-10-28 13:57:13,453: INFO: ingestion: Download AMC.BK]\n"
     ]
    },
    {
     "name": "stderr",
     "output_type": "stream",
     "text": [
      "  5%|▌         | 34/677 [00:11<04:09,  2.58it/s]"
     ]
    },
    {
     "name": "stdout",
     "output_type": "stream",
     "text": [
      "[2023-10-28 13:57:13,800: INFO: ingestion: Download AMR.BK]\n"
     ]
    },
    {
     "name": "stderr",
     "output_type": "stream",
     "text": [
      "  5%|▌         | 35/677 [00:11<04:01,  2.66it/s]"
     ]
    },
    {
     "name": "stdout",
     "output_type": "stream",
     "text": [
      "[2023-10-28 13:57:14,156: INFO: ingestion: Download ANAN.BK]\n"
     ]
    },
    {
     "name": "stderr",
     "output_type": "stream",
     "text": [
      "  5%|▌         | 36/677 [00:12<03:57,  2.70it/s]"
     ]
    },
    {
     "name": "stdout",
     "output_type": "stream",
     "text": [
      "[2023-10-28 13:57:14,548: INFO: ingestion: Download AOT.BK]\n"
     ]
    },
    {
     "name": "stderr",
     "output_type": "stream",
     "text": [
      "  5%|▌         | 37/677 [00:12<04:00,  2.66it/s]"
     ]
    },
    {
     "name": "stdout",
     "output_type": "stream",
     "text": [
      "[2023-10-28 13:57:14,974: INFO: ingestion: Download AP.BK]\n"
     ]
    },
    {
     "name": "stderr",
     "output_type": "stream",
     "text": [
      "  6%|▌         | 38/677 [00:13<04:10,  2.56it/s]"
     ]
    },
    {
     "name": "stdout",
     "output_type": "stream",
     "text": [
      "[2023-10-28 13:57:15,348: INFO: ingestion: Download APCO.BK]\n"
     ]
    },
    {
     "name": "stderr",
     "output_type": "stream",
     "text": [
      "  6%|▌         | 39/677 [00:13<04:06,  2.59it/s]"
     ]
    },
    {
     "name": "stdout",
     "output_type": "stream",
     "text": [
      "[2023-10-28 13:57:15,704: INFO: ingestion: Download APCS.BK]\n"
     ]
    },
    {
     "name": "stderr",
     "output_type": "stream",
     "text": [
      "  6%|▌         | 40/677 [00:13<04:00,  2.65it/s]"
     ]
    },
    {
     "name": "stdout",
     "output_type": "stream",
     "text": [
      "[2023-10-28 13:57:16,054: INFO: ingestion: Download APEX.BK]\n"
     ]
    },
    {
     "name": "stderr",
     "output_type": "stream",
     "text": [
      "  6%|▌         | 41/677 [00:14<03:54,  2.71it/s]"
     ]
    },
    {
     "name": "stdout",
     "output_type": "stream",
     "text": [
      "[2023-10-28 13:57:16,473: INFO: ingestion: Download APURE.BK]\n"
     ]
    },
    {
     "name": "stderr",
     "output_type": "stream",
     "text": [
      "  6%|▌         | 42/677 [00:14<04:03,  2.60it/s]"
     ]
    },
    {
     "name": "stdout",
     "output_type": "stream",
     "text": [
      "[2023-10-28 13:57:16,777: ERROR: base: AQ.BK: No data found, symbol may be delisted]\n",
      "[2023-10-28 13:57:16,777: INFO: ingestion: Download AQ.BK]\n"
     ]
    },
    {
     "name": "stderr",
     "output_type": "stream",
     "text": [
      "  6%|▋         | 43/677 [00:14<03:48,  2.78it/s]"
     ]
    },
    {
     "name": "stdout",
     "output_type": "stream",
     "text": [
      "[2023-10-28 13:57:17,165: INFO: ingestion: Download AQUA.BK]\n"
     ]
    },
    {
     "name": "stderr",
     "output_type": "stream",
     "text": [
      "  6%|▋         | 44/677 [00:15<03:53,  2.71it/s]"
     ]
    },
    {
     "name": "stdout",
     "output_type": "stream",
     "text": [
      "[2023-10-28 13:57:17,547: INFO: ingestion: Download AS.BK]\n"
     ]
    },
    {
     "name": "stderr",
     "output_type": "stream",
     "text": [
      "  7%|▋         | 45/677 [00:15<03:55,  2.69it/s]"
     ]
    },
    {
     "name": "stdout",
     "output_type": "stream",
     "text": [
      "[2023-10-28 13:57:17,904: INFO: ingestion: Download ASAP.BK]\n"
     ]
    },
    {
     "name": "stderr",
     "output_type": "stream",
     "text": [
      "  7%|▋         | 46/677 [00:16<03:52,  2.72it/s]"
     ]
    },
    {
     "name": "stdout",
     "output_type": "stream",
     "text": [
      "[2023-10-28 13:57:18,277: INFO: ingestion: Download ASEFA.BK]\n"
     ]
    },
    {
     "name": "stderr",
     "output_type": "stream",
     "text": [
      "  7%|▋         | 47/677 [00:16<03:52,  2.71it/s]"
     ]
    },
    {
     "name": "stdout",
     "output_type": "stream",
     "text": [
      "[2023-10-28 13:57:18,982: INFO: ingestion: Download ASIA.BK]\n"
     ]
    },
    {
     "name": "stderr",
     "output_type": "stream",
     "text": [
      "  7%|▋         | 48/677 [00:17<04:55,  2.13it/s]"
     ]
    },
    {
     "name": "stdout",
     "output_type": "stream",
     "text": [
      "[2023-10-28 13:57:19,412: INFO: ingestion: Download ASIAN.BK]\n"
     ]
    },
    {
     "name": "stderr",
     "output_type": "stream",
     "text": [
      "  7%|▋         | 49/677 [00:17<04:47,  2.18it/s]"
     ]
    },
    {
     "name": "stdout",
     "output_type": "stream",
     "text": [
      "[2023-10-28 13:57:19,839: INFO: ingestion: Download ASIMAR.BK]\n"
     ]
    },
    {
     "name": "stderr",
     "output_type": "stream",
     "text": [
      "  7%|▋         | 50/677 [00:17<04:41,  2.23it/s]"
     ]
    },
    {
     "name": "stdout",
     "output_type": "stream",
     "text": [
      "[2023-10-28 13:57:20,218: INFO: ingestion: Download ASK.BK]\n"
     ]
    },
    {
     "name": "stderr",
     "output_type": "stream",
     "text": [
      "  8%|▊         | 51/677 [00:18<04:27,  2.34it/s]"
     ]
    },
    {
     "name": "stdout",
     "output_type": "stream",
     "text": [
      "[2023-10-28 13:57:20,646: INFO: ingestion: Download ASP.BK]\n"
     ]
    },
    {
     "name": "stderr",
     "output_type": "stream",
     "text": [
      "  8%|▊         | 52/677 [00:18<04:27,  2.34it/s]"
     ]
    },
    {
     "name": "stdout",
     "output_type": "stream",
     "text": [
      "[2023-10-28 13:57:21,010: INFO: ingestion: Download ASW.BK]\n"
     ]
    },
    {
     "name": "stderr",
     "output_type": "stream",
     "text": [
      "  8%|▊         | 53/677 [00:19<04:15,  2.45it/s]"
     ]
    },
    {
     "name": "stdout",
     "output_type": "stream",
     "text": [
      "[2023-10-28 13:57:21,318: INFO: ingestion: Download AURA.BK]\n"
     ]
    },
    {
     "name": "stderr",
     "output_type": "stream",
     "text": [
      "  8%|▊         | 54/677 [00:19<03:55,  2.64it/s]"
     ]
    },
    {
     "name": "stdout",
     "output_type": "stream",
     "text": [
      "[2023-10-28 13:57:21,695: INFO: ingestion: Download AWC.BK]\n"
     ]
    },
    {
     "name": "stderr",
     "output_type": "stream",
     "text": [
      "  8%|▊         | 55/677 [00:19<03:55,  2.65it/s]"
     ]
    },
    {
     "name": "stdout",
     "output_type": "stream",
     "text": [
      "[2023-10-28 13:57:22,168: INFO: ingestion: Download AYUD.BK]\n"
     ]
    },
    {
     "name": "stderr",
     "output_type": "stream",
     "text": [
      "  8%|▊         | 56/677 [00:20<04:12,  2.46it/s]"
     ]
    },
    {
     "name": "stdout",
     "output_type": "stream",
     "text": [
      "[2023-10-28 13:57:22,536: INFO: ingestion: Download B.BK]\n"
     ]
    },
    {
     "name": "stderr",
     "output_type": "stream",
     "text": [
      "  8%|▊         | 57/677 [00:20<04:04,  2.53it/s]"
     ]
    },
    {
     "name": "stdout",
     "output_type": "stream",
     "text": [
      "[2023-10-28 13:57:22,893: INFO: ingestion: Download B-WORK.BK]\n"
     ]
    },
    {
     "name": "stderr",
     "output_type": "stream",
     "text": [
      "  9%|▊         | 58/677 [00:21<03:57,  2.61it/s]"
     ]
    },
    {
     "name": "stdout",
     "output_type": "stream",
     "text": [
      "[2023-10-28 13:57:23,281: INFO: ingestion: Download B52.BK]\n"
     ]
    },
    {
     "name": "stderr",
     "output_type": "stream",
     "text": [
      "  9%|▊         | 59/677 [00:21<03:57,  2.60it/s]"
     ]
    },
    {
     "name": "stdout",
     "output_type": "stream",
     "text": [
      "[2023-10-28 13:57:23,675: INFO: ingestion: Download BA.BK]\n"
     ]
    },
    {
     "name": "stderr",
     "output_type": "stream",
     "text": [
      "  9%|▉         | 60/677 [00:21<03:59,  2.58it/s]"
     ]
    },
    {
     "name": "stdout",
     "output_type": "stream",
     "text": [
      "[2023-10-28 13:57:24,107: INFO: ingestion: Download BAFS.BK]\n"
     ]
    },
    {
     "name": "stderr",
     "output_type": "stream",
     "text": [
      "  9%|▉         | 61/677 [00:22<04:07,  2.49it/s]"
     ]
    },
    {
     "name": "stdout",
     "output_type": "stream",
     "text": [
      "[2023-10-28 13:57:24,489: INFO: ingestion: Download BAM.BK]\n"
     ]
    },
    {
     "name": "stderr",
     "output_type": "stream",
     "text": [
      "  9%|▉         | 62/677 [00:22<04:03,  2.53it/s]"
     ]
    },
    {
     "name": "stdout",
     "output_type": "stream",
     "text": [
      "[2023-10-28 13:57:24,937: INFO: ingestion: Download BANPU.BK]\n"
     ]
    },
    {
     "name": "stderr",
     "output_type": "stream",
     "text": [
      "  9%|▉         | 63/677 [00:23<04:12,  2.43it/s]"
     ]
    },
    {
     "name": "stdout",
     "output_type": "stream",
     "text": [
      "[2023-10-28 13:57:25,247: INFO: ingestion: Download BAREIT.BK]\n"
     ]
    },
    {
     "name": "stderr",
     "output_type": "stream",
     "text": [
      "  9%|▉         | 64/677 [00:23<03:53,  2.63it/s]"
     ]
    },
    {
     "name": "stdout",
     "output_type": "stream",
     "text": [
      "[2023-10-28 13:57:25,669: INFO: ingestion: Download BAY.BK]\n"
     ]
    },
    {
     "name": "stderr",
     "output_type": "stream",
     "text": [
      " 10%|▉         | 65/677 [00:23<04:00,  2.54it/s]"
     ]
    },
    {
     "name": "stdout",
     "output_type": "stream",
     "text": [
      "[2023-10-28 13:57:26,002: INFO: ingestion: Download BBGI.BK]\n"
     ]
    },
    {
     "name": "stderr",
     "output_type": "stream",
     "text": [
      " 10%|▉         | 66/677 [00:24<03:49,  2.67it/s]"
     ]
    },
    {
     "name": "stdout",
     "output_type": "stream",
     "text": [
      "[2023-10-28 13:57:26,416: INFO: ingestion: Download BBL.BK]\n"
     ]
    },
    {
     "name": "stderr",
     "output_type": "stream",
     "text": [
      " 10%|▉         | 67/677 [00:24<03:55,  2.59it/s]"
     ]
    },
    {
     "name": "stdout",
     "output_type": "stream",
     "text": [
      "[2023-10-28 13:57:26,807: INFO: ingestion: Download BCH.BK]\n"
     ]
    },
    {
     "name": "stderr",
     "output_type": "stream",
     "text": [
      " 10%|█         | 68/677 [00:24<03:56,  2.58it/s]"
     ]
    },
    {
     "name": "stdout",
     "output_type": "stream",
     "text": [
      "[2023-10-28 13:57:27,246: INFO: ingestion: Download BCP.BK]\n"
     ]
    },
    {
     "name": "stderr",
     "output_type": "stream",
     "text": [
      " 10%|█         | 69/677 [00:25<04:05,  2.48it/s]"
     ]
    },
    {
     "name": "stdout",
     "output_type": "stream",
     "text": [
      "[2023-10-28 13:57:27,624: INFO: ingestion: Download BCPG.BK]\n"
     ]
    },
    {
     "name": "stderr",
     "output_type": "stream",
     "text": [
      " 10%|█         | 70/677 [00:25<04:00,  2.53it/s]"
     ]
    },
    {
     "name": "stdout",
     "output_type": "stream",
     "text": [
      "[2023-10-28 13:57:28,055: INFO: ingestion: Download BCT.BK]\n"
     ]
    },
    {
     "name": "stderr",
     "output_type": "stream",
     "text": [
      " 10%|█         | 71/677 [00:26<04:06,  2.46it/s]"
     ]
    },
    {
     "name": "stdout",
     "output_type": "stream",
     "text": [
      "[2023-10-28 13:57:28,481: INFO: ingestion: Download BDMS.BK]\n"
     ]
    },
    {
     "name": "stderr",
     "output_type": "stream",
     "text": [
      " 11%|█         | 72/677 [00:26<04:09,  2.43it/s]"
     ]
    },
    {
     "name": "stdout",
     "output_type": "stream",
     "text": [
      "[2023-10-28 13:57:28,863: INFO: ingestion: Download BEAUTY.BK]\n"
     ]
    },
    {
     "name": "stderr",
     "output_type": "stream",
     "text": [
      " 11%|█         | 73/677 [00:26<04:03,  2.48it/s]"
     ]
    },
    {
     "name": "stdout",
     "output_type": "stream",
     "text": [
      "[2023-10-28 13:57:29,281: INFO: ingestion: Download BEC.BK]\n"
     ]
    },
    {
     "name": "stderr",
     "output_type": "stream",
     "text": [
      " 11%|█         | 74/677 [00:27<04:05,  2.45it/s]"
     ]
    },
    {
     "name": "stdout",
     "output_type": "stream",
     "text": [
      "[2023-10-28 13:57:29,660: INFO: ingestion: Download BEM.BK]\n"
     ]
    },
    {
     "name": "stderr",
     "output_type": "stream",
     "text": [
      " 11%|█         | 75/677 [00:27<04:00,  2.51it/s]"
     ]
    },
    {
     "name": "stdout",
     "output_type": "stream",
     "text": [
      "[2023-10-28 13:57:30,067: INFO: ingestion: Download BEYOND.BK]\n"
     ]
    },
    {
     "name": "stderr",
     "output_type": "stream",
     "text": [
      " 11%|█         | 76/677 [00:28<04:01,  2.49it/s]"
     ]
    },
    {
     "name": "stdout",
     "output_type": "stream",
     "text": [
      "[2023-10-28 13:57:30,460: INFO: ingestion: Download BGC.BK]\n"
     ]
    },
    {
     "name": "stderr",
     "output_type": "stream",
     "text": [
      " 11%|█▏        | 77/677 [00:28<03:59,  2.51it/s]"
     ]
    },
    {
     "name": "stdout",
     "output_type": "stream",
     "text": [
      "[2023-10-28 13:57:30,847: INFO: ingestion: Download BGRIM.BK]\n"
     ]
    },
    {
     "name": "stderr",
     "output_type": "stream",
     "text": [
      " 12%|█▏        | 78/677 [00:28<03:56,  2.53it/s]"
     ]
    },
    {
     "name": "stdout",
     "output_type": "stream",
     "text": [
      "[2023-10-28 13:57:31,268: INFO: ingestion: Download BH.BK]\n"
     ]
    },
    {
     "name": "stderr",
     "output_type": "stream",
     "text": [
      " 12%|█▏        | 79/677 [00:29<04:00,  2.48it/s]"
     ]
    },
    {
     "name": "stdout",
     "output_type": "stream",
     "text": [
      "[2023-10-28 13:57:31,672: INFO: ingestion: Download BIG.BK]\n"
     ]
    },
    {
     "name": "stderr",
     "output_type": "stream",
     "text": [
      " 12%|█▏        | 80/677 [00:29<04:00,  2.48it/s]"
     ]
    },
    {
     "name": "stdout",
     "output_type": "stream",
     "text": [
      "[2023-10-28 13:57:32,050: INFO: ingestion: Download BIOTEC.BK]\n"
     ]
    },
    {
     "name": "stderr",
     "output_type": "stream",
     "text": [
      " 12%|█▏        | 81/677 [00:30<03:55,  2.53it/s]"
     ]
    },
    {
     "name": "stdout",
     "output_type": "stream",
     "text": [
      "[2023-10-28 13:57:32,426: INFO: ingestion: Download BIZ.BK]\n"
     ]
    },
    {
     "name": "stderr",
     "output_type": "stream",
     "text": [
      " 12%|█▏        | 82/677 [00:30<03:51,  2.57it/s]"
     ]
    },
    {
     "name": "stdout",
     "output_type": "stream",
     "text": [
      "[2023-10-28 13:57:32,833: INFO: ingestion: Download BJC.BK]\n"
     ]
    },
    {
     "name": "stderr",
     "output_type": "stream",
     "text": [
      " 12%|█▏        | 83/677 [00:30<03:54,  2.53it/s]"
     ]
    },
    {
     "name": "stdout",
     "output_type": "stream",
     "text": [
      "[2023-10-28 13:57:33,216: INFO: ingestion: Download BJCHI.BK]\n"
     ]
    },
    {
     "name": "stderr",
     "output_type": "stream",
     "text": [
      " 12%|█▏        | 84/677 [00:31<03:52,  2.56it/s]"
     ]
    },
    {
     "name": "stdout",
     "output_type": "stream",
     "text": [
      "[2023-10-28 13:57:33,602: INFO: ingestion: Download BKD.BK]\n"
     ]
    },
    {
     "name": "stderr",
     "output_type": "stream",
     "text": [
      " 13%|█▎        | 85/677 [00:31<03:50,  2.56it/s]"
     ]
    },
    {
     "name": "stdout",
     "output_type": "stream",
     "text": [
      "[2023-10-28 13:57:34,024: INFO: ingestion: Download BKI.BK]\n"
     ]
    },
    {
     "name": "stderr",
     "output_type": "stream",
     "text": [
      " 13%|█▎        | 86/677 [00:32<03:56,  2.50it/s]"
     ]
    },
    {
     "name": "stdout",
     "output_type": "stream",
     "text": [
      "[2023-10-28 13:57:34,407: INFO: ingestion: Download BKKCP.BK]\n"
     ]
    },
    {
     "name": "stderr",
     "output_type": "stream",
     "text": [
      " 13%|█▎        | 87/677 [00:32<03:52,  2.54it/s]"
     ]
    },
    {
     "name": "stdout",
     "output_type": "stream",
     "text": [
      "[2023-10-28 13:57:34,827: INFO: ingestion: Download BLA.BK]\n"
     ]
    },
    {
     "name": "stderr",
     "output_type": "stream",
     "text": [
      " 13%|█▎        | 88/677 [00:32<03:56,  2.49it/s]"
     ]
    },
    {
     "name": "stdout",
     "output_type": "stream",
     "text": [
      "[2023-10-28 13:57:35,247: INFO: ingestion: Download BLAND.BK]\n"
     ]
    },
    {
     "name": "stderr",
     "output_type": "stream",
     "text": [
      " 13%|█▎        | 89/677 [00:33<03:59,  2.45it/s]"
     ]
    },
    {
     "name": "stdout",
     "output_type": "stream",
     "text": [
      "[2023-10-28 13:57:35,596: INFO: ingestion: Download BLISS.BK]\n"
     ]
    },
    {
     "name": "stderr",
     "output_type": "stream",
     "text": [
      " 13%|█▎        | 90/677 [00:33<03:48,  2.56it/s]"
     ]
    },
    {
     "name": "stdout",
     "output_type": "stream",
     "text": [
      "[2023-10-28 13:57:35,971: INFO: ingestion: Download BOFFICE.BK]\n"
     ]
    },
    {
     "name": "stderr",
     "output_type": "stream",
     "text": [
      " 13%|█▎        | 91/677 [00:34<03:45,  2.60it/s]"
     ]
    },
    {
     "name": "stdout",
     "output_type": "stream",
     "text": [
      "[2023-10-28 13:57:36,389: INFO: ingestion: Download BPP.BK]\n"
     ]
    },
    {
     "name": "stderr",
     "output_type": "stream",
     "text": [
      " 14%|█▎        | 92/677 [00:34<03:51,  2.53it/s]"
     ]
    },
    {
     "name": "stdout",
     "output_type": "stream",
     "text": [
      "[2023-10-28 13:57:36,828: INFO: ingestion: Download BR.BK]\n"
     ]
    },
    {
     "name": "stderr",
     "output_type": "stream",
     "text": [
      " 14%|█▎        | 93/677 [00:34<03:58,  2.45it/s]"
     ]
    },
    {
     "name": "stdout",
     "output_type": "stream",
     "text": [
      "[2023-10-28 13:57:37,168: INFO: ingestion: Download BRI.BK]\n"
     ]
    },
    {
     "name": "stderr",
     "output_type": "stream",
     "text": [
      " 14%|█▍        | 94/677 [00:35<03:46,  2.58it/s]"
     ]
    },
    {
     "name": "stdout",
     "output_type": "stream",
     "text": [
      "[2023-10-28 13:57:37,577: INFO: ingestion: Download BROCK.BK]\n"
     ]
    },
    {
     "name": "stderr",
     "output_type": "stream",
     "text": [
      " 14%|█▍        | 95/677 [00:35<03:49,  2.54it/s]"
     ]
    },
    {
     "name": "stdout",
     "output_type": "stream",
     "text": [
      "[2023-10-28 13:57:37,973: INFO: ingestion: Download BRR.BK]\n"
     ]
    },
    {
     "name": "stderr",
     "output_type": "stream",
     "text": [
      " 14%|█▍        | 96/677 [00:36<03:49,  2.53it/s]"
     ]
    },
    {
     "name": "stdout",
     "output_type": "stream",
     "text": [
      "[2023-10-28 13:57:38,356: INFO: ingestion: Download BRRGIF.BK]\n"
     ]
    },
    {
     "name": "stderr",
     "output_type": "stream",
     "text": [
      " 14%|█▍        | 97/677 [00:36<03:47,  2.55it/s]"
     ]
    },
    {
     "name": "stdout",
     "output_type": "stream",
     "text": [
      "[2023-10-28 13:57:38,758: INFO: ingestion: Download BSBM.BK]\n"
     ]
    },
    {
     "name": "stderr",
     "output_type": "stream",
     "text": [
      " 14%|█▍        | 98/677 [00:36<03:48,  2.54it/s]"
     ]
    },
    {
     "name": "stdout",
     "output_type": "stream",
     "text": [
      "[2023-10-28 13:57:39,057: INFO: ingestion: Download BTG.BK]\n"
     ]
    },
    {
     "name": "stderr",
     "output_type": "stream",
     "text": [
      " 15%|█▍        | 99/677 [00:37<03:31,  2.73it/s]"
     ]
    },
    {
     "name": "stdout",
     "output_type": "stream",
     "text": [
      "[2023-10-28 13:57:39,469: INFO: ingestion: Download BTNC.BK]\n"
     ]
    },
    {
     "name": "stderr",
     "output_type": "stream",
     "text": [
      " 15%|█▍        | 100/677 [00:37<03:39,  2.63it/s]"
     ]
    },
    {
     "name": "stdout",
     "output_type": "stream",
     "text": [
      "[2023-10-28 13:57:40,250: INFO: ingestion: Download BTS.BK]\n"
     ]
    },
    {
     "name": "stderr",
     "output_type": "stream",
     "text": [
      " 15%|█▍        | 101/677 [00:38<04:47,  2.00it/s]"
     ]
    },
    {
     "name": "stdout",
     "output_type": "stream",
     "text": [
      "[2023-10-28 13:57:40,580: INFO: ingestion: Download BTSGIF.BK]\n"
     ]
    },
    {
     "name": "stderr",
     "output_type": "stream",
     "text": [
      " 15%|█▌        | 102/677 [00:38<04:18,  2.23it/s]"
     ]
    },
    {
     "name": "stdout",
     "output_type": "stream",
     "text": [
      "[2023-10-28 13:57:40,994: INFO: ingestion: Download BUI.BK]\n"
     ]
    },
    {
     "name": "stderr",
     "output_type": "stream",
     "text": [
      " 15%|█▌        | 103/677 [00:39<04:11,  2.28it/s]"
     ]
    },
    {
     "name": "stdout",
     "output_type": "stream",
     "text": [
      "[2023-10-28 13:57:41,345: INFO: ingestion: Download BWG.BK]\n"
     ]
    },
    {
     "name": "stderr",
     "output_type": "stream",
     "text": [
      " 15%|█▌        | 104/677 [00:39<03:56,  2.43it/s]"
     ]
    },
    {
     "name": "stdout",
     "output_type": "stream",
     "text": [
      "[2023-10-28 13:57:41,682: INFO: ingestion: Download BYD.BK]\n"
     ]
    },
    {
     "name": "stderr",
     "output_type": "stream",
     "text": [
      " 16%|█▌        | 105/677 [00:39<03:42,  2.57it/s]"
     ]
    },
    {
     "name": "stdout",
     "output_type": "stream",
     "text": [
      "[2023-10-28 13:57:42,041: INFO: ingestion: Download CBG.BK]\n"
     ]
    },
    {
     "name": "stderr",
     "output_type": "stream",
     "text": [
      " 16%|█▌        | 106/677 [00:40<03:37,  2.63it/s]"
     ]
    },
    {
     "name": "stdout",
     "output_type": "stream",
     "text": [
      "[2023-10-28 13:57:42,446: INFO: ingestion: Download CCET.BK]\n"
     ]
    },
    {
     "name": "stderr",
     "output_type": "stream",
     "text": [
      " 16%|█▌        | 107/677 [00:40<03:41,  2.58it/s]"
     ]
    },
    {
     "name": "stdout",
     "output_type": "stream",
     "text": [
      "[2023-10-28 13:57:42,833: INFO: ingestion: Download CCP.BK]\n"
     ]
    },
    {
     "name": "stderr",
     "output_type": "stream",
     "text": [
      " 16%|█▌        | 108/677 [00:40<03:40,  2.58it/s]"
     ]
    },
    {
     "name": "stdout",
     "output_type": "stream",
     "text": [
      "[2023-10-28 13:57:43,214: INFO: ingestion: Download CEN.BK]\n"
     ]
    },
    {
     "name": "stderr",
     "output_type": "stream",
     "text": [
      " 16%|█▌        | 109/677 [00:41<03:38,  2.59it/s]"
     ]
    },
    {
     "name": "stdout",
     "output_type": "stream",
     "text": [
      "[2023-10-28 13:57:43,593: INFO: ingestion: Download CENTEL.BK]\n"
     ]
    },
    {
     "name": "stderr",
     "output_type": "stream",
     "text": [
      " 16%|█▌        | 110/677 [00:41<03:37,  2.61it/s]"
     ]
    },
    {
     "name": "stdout",
     "output_type": "stream",
     "text": [
      "[2023-10-28 13:57:43,984: INFO: ingestion: Download CFRESH.BK]\n"
     ]
    },
    {
     "name": "stderr",
     "output_type": "stream",
     "text": [
      " 16%|█▋        | 111/677 [00:42<03:38,  2.59it/s]"
     ]
    },
    {
     "name": "stdout",
     "output_type": "stream",
     "text": [
      "[2023-10-28 13:57:44,331: INFO: ingestion: Download CGD.BK]\n"
     ]
    },
    {
     "name": "stderr",
     "output_type": "stream",
     "text": [
      " 17%|█▋        | 112/677 [00:42<03:31,  2.67it/s]"
     ]
    },
    {
     "name": "stdout",
     "output_type": "stream",
     "text": [
      "[2023-10-28 13:57:44,724: INFO: ingestion: Download CGH.BK]\n"
     ]
    },
    {
     "name": "stderr",
     "output_type": "stream",
     "text": [
      " 17%|█▋        | 113/677 [00:42<03:34,  2.63it/s]"
     ]
    },
    {
     "name": "stdout",
     "output_type": "stream",
     "text": [
      "[2023-10-28 13:57:45,042: INFO: ingestion: Download CH.BK]\n"
     ]
    },
    {
     "name": "stderr",
     "output_type": "stream",
     "text": [
      " 17%|█▋        | 114/677 [00:43<03:23,  2.77it/s]"
     ]
    },
    {
     "name": "stdout",
     "output_type": "stream",
     "text": [
      "[2023-10-28 13:57:45,457: INFO: ingestion: Download CHARAN.BK]\n"
     ]
    },
    {
     "name": "stderr",
     "output_type": "stream",
     "text": [
      " 17%|█▋        | 115/677 [00:43<03:32,  2.65it/s]"
     ]
    },
    {
     "name": "stdout",
     "output_type": "stream",
     "text": [
      "[2023-10-28 13:57:45,847: INFO: ingestion: Download CHAYO.BK]\n"
     ]
    },
    {
     "name": "stderr",
     "output_type": "stream",
     "text": [
      " 17%|█▋        | 116/677 [00:43<03:33,  2.62it/s]"
     ]
    },
    {
     "name": "stdout",
     "output_type": "stream",
     "text": [
      "[2023-10-28 13:57:46,217: INFO: ingestion: Download CHG.BK]\n"
     ]
    },
    {
     "name": "stderr",
     "output_type": "stream",
     "text": [
      " 17%|█▋        | 117/677 [00:44<03:31,  2.65it/s]"
     ]
    },
    {
     "name": "stdout",
     "output_type": "stream",
     "text": [
      "[2023-10-28 13:57:46,653: INFO: ingestion: Download CHOTI.BK]\n"
     ]
    },
    {
     "name": "stderr",
     "output_type": "stream",
     "text": [
      " 17%|█▋        | 118/677 [00:44<03:41,  2.53it/s]"
     ]
    },
    {
     "name": "stdout",
     "output_type": "stream",
     "text": [
      "[2023-10-28 13:57:47,029: INFO: ingestion: Download CI.BK]\n"
     ]
    },
    {
     "name": "stderr",
     "output_type": "stream",
     "text": [
      " 18%|█▊        | 119/677 [00:45<03:37,  2.57it/s]"
     ]
    },
    {
     "name": "stdout",
     "output_type": "stream",
     "text": [
      "[2023-10-28 13:57:47,451: INFO: ingestion: Download CIMBT.BK]\n"
     ]
    },
    {
     "name": "stderr",
     "output_type": "stream",
     "text": [
      " 18%|█▊        | 120/677 [00:45<03:42,  2.51it/s]"
     ]
    },
    {
     "name": "stdout",
     "output_type": "stream",
     "text": [
      "[2023-10-28 13:57:47,824: INFO: ingestion: Download CITY.BK]\n"
     ]
    },
    {
     "name": "stderr",
     "output_type": "stream",
     "text": [
      " 18%|█▊        | 121/677 [00:45<03:37,  2.56it/s]"
     ]
    },
    {
     "name": "stdout",
     "output_type": "stream",
     "text": [
      "[2023-10-28 13:57:48,167: INFO: ingestion: Download CIVIL.BK]\n"
     ]
    },
    {
     "name": "stderr",
     "output_type": "stream",
     "text": [
      " 18%|█▊        | 122/677 [00:46<03:29,  2.65it/s]"
     ]
    },
    {
     "name": "stdout",
     "output_type": "stream",
     "text": [
      "[2023-10-28 13:57:48,629: INFO: ingestion: Download CK.BK]\n"
     ]
    },
    {
     "name": "stderr",
     "output_type": "stream",
     "text": [
      " 18%|█▊        | 123/677 [00:46<03:43,  2.48it/s]"
     ]
    },
    {
     "name": "stdout",
     "output_type": "stream",
     "text": [
      "[2023-10-28 13:57:49,001: INFO: ingestion: Download CKP.BK]\n"
     ]
    },
    {
     "name": "stderr",
     "output_type": "stream",
     "text": [
      " 18%|█▊        | 124/677 [00:47<03:37,  2.54it/s]"
     ]
    },
    {
     "name": "stdout",
     "output_type": "stream",
     "text": [
      "[2023-10-28 13:57:49,440: INFO: ingestion: Download CM.BK]\n"
     ]
    },
    {
     "name": "stderr",
     "output_type": "stream",
     "text": [
      " 18%|█▊        | 125/677 [00:47<03:44,  2.46it/s]"
     ]
    },
    {
     "name": "stdout",
     "output_type": "stream",
     "text": [
      "[2023-10-28 13:57:49,817: INFO: ingestion: Download CMAN.BK]\n"
     ]
    },
    {
     "name": "stderr",
     "output_type": "stream",
     "text": [
      " 19%|█▊        | 126/677 [00:47<03:39,  2.51it/s]"
     ]
    },
    {
     "name": "stdout",
     "output_type": "stream",
     "text": [
      "[2023-10-28 13:57:50,186: INFO: ingestion: Download CMC.BK]\n"
     ]
    },
    {
     "name": "stderr",
     "output_type": "stream",
     "text": [
      " 19%|█▉        | 127/677 [00:48<03:34,  2.57it/s]"
     ]
    },
    {
     "name": "stdout",
     "output_type": "stream",
     "text": [
      "[2023-10-28 13:57:50,618: INFO: ingestion: Download CMR.BK]\n"
     ]
    },
    {
     "name": "stderr",
     "output_type": "stream",
     "text": [
      " 19%|█▉        | 128/677 [00:48<03:40,  2.49it/s]"
     ]
    },
    {
     "name": "stdout",
     "output_type": "stream",
     "text": [
      "[2023-10-28 13:57:51,038: INFO: ingestion: Download CNT.BK]\n"
     ]
    },
    {
     "name": "stderr",
     "output_type": "stream",
     "text": [
      " 19%|█▉        | 129/677 [00:49<03:43,  2.45it/s]"
     ]
    },
    {
     "name": "stdout",
     "output_type": "stream",
     "text": [
      "[2023-10-28 13:57:51,430: INFO: ingestion: Download COM7.BK]\n"
     ]
    },
    {
     "name": "stderr",
     "output_type": "stream",
     "text": [
      " 19%|█▉        | 130/677 [00:49<03:40,  2.48it/s]"
     ]
    },
    {
     "name": "stdout",
     "output_type": "stream",
     "text": [
      "[2023-10-28 13:57:51,786: INFO: ingestion: Download COTTO.BK]\n"
     ]
    },
    {
     "name": "stderr",
     "output_type": "stream",
     "text": [
      " 19%|█▉        | 131/677 [00:49<03:32,  2.57it/s]"
     ]
    },
    {
     "name": "stdout",
     "output_type": "stream",
     "text": [
      "[2023-10-28 13:57:52,190: INFO: ingestion: Download CPALL.BK]\n"
     ]
    },
    {
     "name": "stderr",
     "output_type": "stream",
     "text": [
      " 19%|█▉        | 132/677 [00:50<03:34,  2.54it/s]"
     ]
    },
    {
     "name": "stdout",
     "output_type": "stream",
     "text": [
      "[2023-10-28 13:57:52,633: INFO: ingestion: Download CPF.BK]\n"
     ]
    },
    {
     "name": "stderr",
     "output_type": "stream",
     "text": [
      " 20%|█▉        | 133/677 [00:50<03:42,  2.45it/s]"
     ]
    },
    {
     "name": "stdout",
     "output_type": "stream",
     "text": [
      "[2023-10-28 13:57:53,027: INFO: ingestion: Download CPH.BK]\n"
     ]
    },
    {
     "name": "stderr",
     "output_type": "stream",
     "text": [
      " 20%|█▉        | 134/677 [00:51<03:39,  2.48it/s]"
     ]
    },
    {
     "name": "stdout",
     "output_type": "stream",
     "text": [
      "[2023-10-28 13:57:53,479: INFO: ingestion: Download CPI.BK]\n"
     ]
    },
    {
     "name": "stderr",
     "output_type": "stream",
     "text": [
      " 20%|█▉        | 135/677 [00:51<03:46,  2.39it/s]"
     ]
    },
    {
     "name": "stdout",
     "output_type": "stream",
     "text": [
      "[2023-10-28 13:57:53,914: INFO: ingestion: Download CPL.BK]\n"
     ]
    },
    {
     "name": "stderr",
     "output_type": "stream",
     "text": [
      " 20%|██        | 136/677 [00:52<03:48,  2.36it/s]"
     ]
    },
    {
     "name": "stdout",
     "output_type": "stream",
     "text": [
      "[2023-10-28 13:57:54,332: INFO: ingestion: Download CPN.BK]\n"
     ]
    },
    {
     "name": "stderr",
     "output_type": "stream",
     "text": [
      " 20%|██        | 137/677 [00:52<03:47,  2.37it/s]"
     ]
    },
    {
     "name": "stdout",
     "output_type": "stream",
     "text": [
      "[2023-10-28 13:57:54,643: INFO: ingestion: Download CPNCG.BK]\n"
     ]
    },
    {
     "name": "stderr",
     "output_type": "stream",
     "text": [
      " 20%|██        | 138/677 [00:52<03:29,  2.57it/s]"
     ]
    },
    {
     "name": "stdout",
     "output_type": "stream",
     "text": [
      "[2023-10-28 13:57:55,043: INFO: ingestion: Download CPNREIT.BK]\n"
     ]
    },
    {
     "name": "stderr",
     "output_type": "stream",
     "text": [
      " 21%|██        | 139/677 [00:53<03:30,  2.55it/s]"
     ]
    },
    {
     "name": "stdout",
     "output_type": "stream",
     "text": [
      "[2023-10-28 13:57:55,436: INFO: ingestion: Download CPT.BK]\n"
     ]
    },
    {
     "name": "stderr",
     "output_type": "stream",
     "text": [
      " 21%|██        | 140/677 [00:53<03:30,  2.55it/s]"
     ]
    },
    {
     "name": "stdout",
     "output_type": "stream",
     "text": [
      "[2023-10-28 13:57:55,744: INFO: ingestion: Download CPTGF.BK]\n"
     ]
    },
    {
     "name": "stderr",
     "output_type": "stream",
     "text": [
      " 21%|██        | 141/677 [00:53<03:16,  2.72it/s]"
     ]
    },
    {
     "name": "stdout",
     "output_type": "stream",
     "text": [
      "[2023-10-28 13:57:56,103: INFO: ingestion: Download CPW.BK]\n"
     ]
    },
    {
     "name": "stderr",
     "output_type": "stream",
     "text": [
      " 21%|██        | 142/677 [00:54<03:15,  2.74it/s]"
     ]
    },
    {
     "name": "stdout",
     "output_type": "stream",
     "text": [
      "[2023-10-28 13:57:56,507: INFO: ingestion: Download CRANE.BK]\n"
     ]
    },
    {
     "name": "stderr",
     "output_type": "stream",
     "text": [
      " 21%|██        | 143/677 [00:54<03:21,  2.66it/s]"
     ]
    },
    {
     "name": "stdout",
     "output_type": "stream",
     "text": [
      "[2023-10-28 13:57:56,907: INFO: ingestion: Download CRC.BK]\n"
     ]
    },
    {
     "name": "stderr",
     "output_type": "stream",
     "text": [
      " 21%|██▏       | 144/677 [00:55<03:24,  2.61it/s]"
     ]
    },
    {
     "name": "stdout",
     "output_type": "stream",
     "text": [
      "[2023-10-28 13:57:57,377: INFO: ingestion: Download CSC.BK]\n"
     ]
    },
    {
     "name": "stderr",
     "output_type": "stream",
     "text": [
      " 21%|██▏       | 145/677 [00:55<03:37,  2.44it/s]"
     ]
    },
    {
     "name": "stdout",
     "output_type": "stream",
     "text": [
      "[2023-10-28 13:57:57,828: INFO: ingestion: Download CSP.BK]\n"
     ]
    },
    {
     "name": "stderr",
     "output_type": "stream",
     "text": [
      " 22%|██▏       | 146/677 [00:55<03:44,  2.37it/s]"
     ]
    },
    {
     "name": "stdout",
     "output_type": "stream",
     "text": [
      "[2023-10-28 13:57:58,310: INFO: ingestion: Download CSR.BK]\n"
     ]
    },
    {
     "name": "stderr",
     "output_type": "stream",
     "text": [
      " 22%|██▏       | 147/677 [00:56<03:53,  2.27it/s]"
     ]
    },
    {
     "name": "stdout",
     "output_type": "stream",
     "text": [
      "[2023-10-28 13:57:58,741: INFO: ingestion: Download CSS.BK]\n"
     ]
    },
    {
     "name": "stderr",
     "output_type": "stream",
     "text": [
      " 22%|██▏       | 148/677 [00:56<03:51,  2.29it/s]"
     ]
    },
    {
     "name": "stdout",
     "output_type": "stream",
     "text": [
      "[2023-10-28 13:57:59,091: INFO: ingestion: Download CTARAF.BK]\n"
     ]
    },
    {
     "name": "stderr",
     "output_type": "stream",
     "text": [
      " 22%|██▏       | 149/677 [00:57<03:37,  2.43it/s]"
     ]
    },
    {
     "name": "stdout",
     "output_type": "stream",
     "text": [
      "[2023-10-28 13:57:59,562: INFO: ingestion: Download CTW.BK]\n"
     ]
    },
    {
     "name": "stderr",
     "output_type": "stream",
     "text": [
      " 22%|██▏       | 150/677 [00:57<03:46,  2.33it/s]"
     ]
    },
    {
     "name": "stdout",
     "output_type": "stream",
     "text": [
      "[2023-10-28 13:57:59,936: INFO: ingestion: Download CV.BK]\n"
     ]
    },
    {
     "name": "stderr",
     "output_type": "stream",
     "text": [
      " 22%|██▏       | 151/677 [00:58<03:36,  2.42it/s]"
     ]
    },
    {
     "name": "stdout",
     "output_type": "stream",
     "text": [
      "[2023-10-28 13:58:00,380: INFO: ingestion: Download CWT.BK]\n"
     ]
    },
    {
     "name": "stderr",
     "output_type": "stream",
     "text": [
      " 22%|██▏       | 152/677 [00:58<03:41,  2.37it/s]"
     ]
    },
    {
     "name": "stdout",
     "output_type": "stream",
     "text": [
      "[2023-10-28 13:58:00,828: INFO: ingestion: Download DCC.BK]\n"
     ]
    },
    {
     "name": "stderr",
     "output_type": "stream",
     "text": [
      " 23%|██▎       | 153/677 [00:58<03:45,  2.33it/s]"
     ]
    },
    {
     "name": "stdout",
     "output_type": "stream",
     "text": [
      "[2023-10-28 13:58:01,264: INFO: ingestion: Download DCON.BK]\n"
     ]
    },
    {
     "name": "stderr",
     "output_type": "stream",
     "text": [
      " 23%|██▎       | 154/677 [00:59<03:45,  2.32it/s]"
     ]
    },
    {
     "name": "stdout",
     "output_type": "stream",
     "text": [
      "[2023-10-28 13:58:01,652: INFO: ingestion: Download DDD.BK]\n"
     ]
    },
    {
     "name": "stderr",
     "output_type": "stream",
     "text": [
      " 23%|██▎       | 155/677 [00:59<03:38,  2.39it/s]"
     ]
    },
    {
     "name": "stdout",
     "output_type": "stream",
     "text": [
      "[2023-10-28 13:58:02,103: INFO: ingestion: Download DELTA.BK]\n"
     ]
    },
    {
     "name": "stderr",
     "output_type": "stream",
     "text": [
      " 23%|██▎       | 156/677 [01:00<03:43,  2.33it/s]"
     ]
    },
    {
     "name": "stdout",
     "output_type": "stream",
     "text": [
      "[2023-10-28 13:58:02,575: INFO: ingestion: Download DEMCO.BK]\n"
     ]
    },
    {
     "name": "stderr",
     "output_type": "stream",
     "text": [
      " 23%|██▎       | 157/677 [01:00<03:49,  2.27it/s]"
     ]
    },
    {
     "name": "stdout",
     "output_type": "stream",
     "text": [
      "[2023-10-28 13:58:02,902: INFO: ingestion: Download DIF.BK]\n"
     ]
    },
    {
     "name": "stderr",
     "output_type": "stream",
     "text": [
      " 23%|██▎       | 158/677 [01:01<03:31,  2.46it/s]"
     ]
    },
    {
     "name": "stdout",
     "output_type": "stream",
     "text": [
      "[2023-10-28 13:58:03,257: INFO: ingestion: Download DMT.BK]\n"
     ]
    },
    {
     "name": "stderr",
     "output_type": "stream",
     "text": [
      " 23%|██▎       | 159/677 [01:01<03:22,  2.55it/s]"
     ]
    },
    {
     "name": "stdout",
     "output_type": "stream",
     "text": [
      "[2023-10-28 13:58:04,716: INFO: ingestion: Download DOHOME.BK]\n"
     ]
    },
    {
     "name": "stderr",
     "output_type": "stream",
     "text": [
      " 24%|██▎       | 160/677 [01:02<06:07,  1.41it/s]"
     ]
    },
    {
     "name": "stdout",
     "output_type": "stream",
     "text": [
      "[2023-10-28 13:58:05,111: INFO: ingestion: Download DREIT.BK]\n"
     ]
    },
    {
     "name": "stderr",
     "output_type": "stream",
     "text": [
      " 24%|██▍       | 161/677 [01:03<05:18,  1.62it/s]"
     ]
    },
    {
     "name": "stdout",
     "output_type": "stream",
     "text": [
      "[2023-10-28 13:58:05,507: INFO: ingestion: Download DRT.BK]\n"
     ]
    },
    {
     "name": "stderr",
     "output_type": "stream",
     "text": [
      " 24%|██▍       | 162/677 [01:03<04:43,  1.82it/s]"
     ]
    },
    {
     "name": "stdout",
     "output_type": "stream",
     "text": [
      "[2023-10-28 13:58:05,819: ERROR: base: DTAC.BK: No data found, symbol may be delisted]\n",
      "[2023-10-28 13:58:05,820: INFO: ingestion: Download DTAC.BK]\n"
     ]
    },
    {
     "name": "stderr",
     "output_type": "stream",
     "text": [
      " 24%|██▍       | 163/677 [01:03<04:06,  2.09it/s]"
     ]
    },
    {
     "name": "stdout",
     "output_type": "stream",
     "text": [
      "[2023-10-28 13:58:06,247: INFO: ingestion: Download DTCI.BK]\n"
     ]
    },
    {
     "name": "stderr",
     "output_type": "stream",
     "text": [
      " 24%|██▍       | 164/677 [01:04<03:57,  2.16it/s]"
     ]
    },
    {
     "name": "stdout",
     "output_type": "stream",
     "text": [
      "[2023-10-28 13:58:06,675: INFO: ingestion: Download DUSIT.BK]\n"
     ]
    },
    {
     "name": "stderr",
     "output_type": "stream",
     "text": [
      " 24%|██▍       | 165/677 [01:04<03:51,  2.21it/s]"
     ]
    },
    {
     "name": "stdout",
     "output_type": "stream",
     "text": [
      "[2023-10-28 13:58:07,047: INFO: ingestion: Download EA.BK]\n"
     ]
    },
    {
     "name": "stderr",
     "output_type": "stream",
     "text": [
      " 25%|██▍       | 166/677 [01:05<03:39,  2.33it/s]"
     ]
    },
    {
     "name": "stdout",
     "output_type": "stream",
     "text": [
      "[2023-10-28 13:58:07,427: INFO: ingestion: Download EASON.BK]\n"
     ]
    },
    {
     "name": "stderr",
     "output_type": "stream",
     "text": [
      " 25%|██▍       | 167/677 [01:05<03:31,  2.42it/s]"
     ]
    },
    {
     "name": "stdout",
     "output_type": "stream",
     "text": [
      "[2023-10-28 13:58:07,831: INFO: ingestion: Download EASTW.BK]\n"
     ]
    },
    {
     "name": "stderr",
     "output_type": "stream",
     "text": [
      " 25%|██▍       | 168/677 [01:05<03:29,  2.43it/s]"
     ]
    },
    {
     "name": "stdout",
     "output_type": "stream",
     "text": [
      "[2023-10-28 13:58:08,237: INFO: ingestion: Download ECL.BK]\n"
     ]
    },
    {
     "name": "stderr",
     "output_type": "stream",
     "text": [
      " 25%|██▍       | 169/677 [01:06<03:28,  2.44it/s]"
     ]
    },
    {
     "name": "stdout",
     "output_type": "stream",
     "text": [
      "[2023-10-28 13:58:08,598: INFO: ingestion: Download EE.BK]\n"
     ]
    },
    {
     "name": "stderr",
     "output_type": "stream",
     "text": [
      " 25%|██▌       | 170/677 [01:06<03:20,  2.53it/s]"
     ]
    },
    {
     "name": "stdout",
     "output_type": "stream",
     "text": [
      "[2023-10-28 13:58:08,896: INFO: ingestion: Download EGATIF.BK]\n"
     ]
    },
    {
     "name": "stderr",
     "output_type": "stream",
     "text": [
      " 25%|██▌       | 171/677 [01:07<03:05,  2.73it/s]"
     ]
    },
    {
     "name": "stdout",
     "output_type": "stream",
     "text": [
      "[2023-10-28 13:58:09,334: INFO: ingestion: Download EGCO.BK]\n"
     ]
    },
    {
     "name": "stderr",
     "output_type": "stream",
     "text": [
      " 25%|██▌       | 172/677 [01:07<03:15,  2.58it/s]"
     ]
    },
    {
     "name": "stdout",
     "output_type": "stream",
     "text": [
      "[2023-10-28 13:58:09,736: INFO: ingestion: Download EKH.BK]\n"
     ]
    },
    {
     "name": "stderr",
     "output_type": "stream",
     "text": [
      " 26%|██▌       | 173/677 [01:07<03:17,  2.55it/s]"
     ]
    },
    {
     "name": "stdout",
     "output_type": "stream",
     "text": [
      "[2023-10-28 13:58:10,126: INFO: ingestion: Download EMC.BK]\n"
     ]
    },
    {
     "name": "stderr",
     "output_type": "stream",
     "text": [
      " 26%|██▌       | 174/677 [01:08<03:16,  2.56it/s]"
     ]
    },
    {
     "name": "stdout",
     "output_type": "stream",
     "text": [
      "[2023-10-28 13:58:10,613: INFO: ingestion: Download EP.BK]\n"
     ]
    },
    {
     "name": "stderr",
     "output_type": "stream",
     "text": [
      " 26%|██▌       | 175/677 [01:08<03:30,  2.38it/s]"
     ]
    },
    {
     "name": "stdout",
     "output_type": "stream",
     "text": [
      "[2023-10-28 13:58:11,052: INFO: ingestion: Download EPG.BK]\n"
     ]
    },
    {
     "name": "stderr",
     "output_type": "stream",
     "text": [
      " 26%|██▌       | 176/677 [01:09<03:33,  2.35it/s]"
     ]
    },
    {
     "name": "stdout",
     "output_type": "stream",
     "text": [
      "[2023-10-28 13:58:11,520: INFO: ingestion: Download ERW.BK]\n"
     ]
    },
    {
     "name": "stderr",
     "output_type": "stream",
     "text": [
      " 26%|██▌       | 177/677 [01:09<03:39,  2.28it/s]"
     ]
    },
    {
     "name": "stdout",
     "output_type": "stream",
     "text": [
      "[2023-10-28 13:58:11,862: INFO: ingestion: Download ERWPF.BK]\n"
     ]
    },
    {
     "name": "stderr",
     "output_type": "stream",
     "text": [
      " 26%|██▋       | 178/677 [01:09<03:24,  2.44it/s]"
     ]
    },
    {
     "name": "stdout",
     "output_type": "stream",
     "text": [
      "[2023-10-28 13:58:12,252: INFO: ingestion: Download ESSO.BK]\n"
     ]
    },
    {
     "name": "stderr",
     "output_type": "stream",
     "text": [
      " 26%|██▋       | 179/677 [01:10<03:20,  2.48it/s]"
     ]
    },
    {
     "name": "stdout",
     "output_type": "stream",
     "text": [
      "[2023-10-28 13:58:12,674: INFO: ingestion: Download ESTAR.BK]\n"
     ]
    },
    {
     "name": "stderr",
     "output_type": "stream",
     "text": [
      " 27%|██▋       | 180/677 [01:10<03:23,  2.44it/s]"
     ]
    },
    {
     "name": "stdout",
     "output_type": "stream",
     "text": [
      "[2023-10-28 13:58:13,030: INFO: ingestion: Download ETC.BK]\n"
     ]
    },
    {
     "name": "stderr",
     "output_type": "stream",
     "text": [
      " 27%|██▋       | 181/677 [01:11<03:15,  2.54it/s]"
     ]
    },
    {
     "name": "stdout",
     "output_type": "stream",
     "text": [
      "[2023-10-28 13:58:13,403: INFO: ingestion: Download EVER.BK]\n"
     ]
    },
    {
     "name": "stderr",
     "output_type": "stream",
     "text": [
      " 27%|██▋       | 182/677 [01:11<03:11,  2.58it/s]"
     ]
    },
    {
     "name": "stdout",
     "output_type": "stream",
     "text": [
      "[2023-10-28 13:58:13,773: INFO: ingestion: Download F&D.BK]\n"
     ]
    },
    {
     "name": "stderr",
     "output_type": "stream",
     "text": [
      " 27%|██▋       | 183/677 [01:11<03:08,  2.62it/s]"
     ]
    },
    {
     "name": "stdout",
     "output_type": "stream",
     "text": [
      "[2023-10-28 13:58:14,171: INFO: ingestion: Download FANCY.BK]\n"
     ]
    },
    {
     "name": "stderr",
     "output_type": "stream",
     "text": [
      " 27%|██▋       | 184/677 [01:12<03:10,  2.59it/s]"
     ]
    },
    {
     "name": "stdout",
     "output_type": "stream",
     "text": [
      "[2023-10-28 13:58:14,534: INFO: ingestion: Download FE.BK]\n"
     ]
    },
    {
     "name": "stderr",
     "output_type": "stream",
     "text": [
      " 27%|██▋       | 185/677 [01:12<03:06,  2.63it/s]"
     ]
    },
    {
     "name": "stdout",
     "output_type": "stream",
     "text": [
      "[2023-10-28 13:58:14,925: INFO: ingestion: Download FMT.BK]\n"
     ]
    },
    {
     "name": "stderr",
     "output_type": "stream",
     "text": [
      " 27%|██▋       | 186/677 [01:13<03:08,  2.61it/s]"
     ]
    },
    {
     "name": "stdout",
     "output_type": "stream",
     "text": [
      "[2023-10-28 13:58:15,288: INFO: ingestion: Download FN.BK]\n"
     ]
    },
    {
     "name": "stderr",
     "output_type": "stream",
     "text": [
      " 28%|██▊       | 187/677 [01:13<03:04,  2.65it/s]"
     ]
    },
    {
     "name": "stdout",
     "output_type": "stream",
     "text": [
      "[2023-10-28 13:58:15,685: INFO: ingestion: Download FNS.BK]\n"
     ]
    },
    {
     "name": "stderr",
     "output_type": "stream",
     "text": [
      " 28%|██▊       | 188/677 [01:13<03:07,  2.61it/s]"
     ]
    },
    {
     "name": "stdout",
     "output_type": "stream",
     "text": [
      "[2023-10-28 13:58:16,088: INFO: ingestion: Download FORTH.BK]\n"
     ]
    },
    {
     "name": "stderr",
     "output_type": "stream",
     "text": [
      " 28%|██▊       | 189/677 [01:14<03:09,  2.57it/s]"
     ]
    },
    {
     "name": "stdout",
     "output_type": "stream",
     "text": [
      "[2023-10-28 13:58:16,471: INFO: ingestion: Download FPT.BK]\n"
     ]
    },
    {
     "name": "stderr",
     "output_type": "stream",
     "text": [
      " 28%|██▊       | 190/677 [01:14<03:08,  2.58it/s]"
     ]
    },
    {
     "name": "stdout",
     "output_type": "stream",
     "text": [
      "[2023-10-28 13:58:16,788: ERROR: base: FSS.BK: No data found, symbol may be delisted]\n",
      "[2023-10-28 13:58:16,789: INFO: ingestion: Download FSS.BK]\n"
     ]
    },
    {
     "name": "stderr",
     "output_type": "stream",
     "text": [
      " 28%|██▊       | 191/677 [01:14<02:58,  2.73it/s]"
     ]
    },
    {
     "name": "stdout",
     "output_type": "stream",
     "text": [
      "[2023-10-28 13:58:17,225: INFO: ingestion: Download FTE.BK]\n"
     ]
    },
    {
     "name": "stderr",
     "output_type": "stream",
     "text": [
      " 28%|██▊       | 192/677 [01:15<03:07,  2.58it/s]"
     ]
    },
    {
     "name": "stdout",
     "output_type": "stream",
     "text": [
      "[2023-10-28 13:58:17,555: INFO: ingestion: Download FTI.BK]\n"
     ]
    },
    {
     "name": "stderr",
     "output_type": "stream",
     "text": [
      " 29%|██▊       | 193/677 [01:15<02:59,  2.70it/s]"
     ]
    },
    {
     "name": "stdout",
     "output_type": "stream",
     "text": [
      "[2023-10-28 13:58:17,923: INFO: ingestion: Download FTREIT.BK]\n"
     ]
    },
    {
     "name": "stderr",
     "output_type": "stream",
     "text": [
      " 29%|██▊       | 194/677 [01:16<02:58,  2.71it/s]"
     ]
    },
    {
     "name": "stdout",
     "output_type": "stream",
     "text": [
      "[2023-10-28 13:58:18,247: INFO: ingestion: Download FUTUREPF.BK]\n"
     ]
    },
    {
     "name": "stderr",
     "output_type": "stream",
     "text": [
      " 29%|██▉       | 195/677 [01:16<02:51,  2.81it/s]"
     ]
    },
    {
     "name": "stdout",
     "output_type": "stream",
     "text": [
      "[2023-10-28 13:58:18,623: INFO: ingestion: Download GAHREIT.BK]\n"
     ]
    },
    {
     "name": "stderr",
     "output_type": "stream",
     "text": [
      " 29%|██▉       | 196/677 [01:16<02:54,  2.76it/s]"
     ]
    },
    {
     "name": "stdout",
     "output_type": "stream",
     "text": [
      "[2023-10-28 13:58:19,046: INFO: ingestion: Download GBX.BK]\n"
     ]
    },
    {
     "name": "stderr",
     "output_type": "stream",
     "text": [
      " 29%|██▉       | 197/677 [01:17<03:02,  2.63it/s]"
     ]
    },
    {
     "name": "stdout",
     "output_type": "stream",
     "text": [
      "[2023-10-28 13:58:19,483: INFO: ingestion: Download GC.BK]\n"
     ]
    },
    {
     "name": "stderr",
     "output_type": "stream",
     "text": [
      " 29%|██▉       | 198/677 [01:17<03:10,  2.52it/s]"
     ]
    },
    {
     "name": "stdout",
     "output_type": "stream",
     "text": [
      "[2023-10-28 13:58:19,858: INFO: ingestion: Download GEL.BK]\n"
     ]
    },
    {
     "name": "stderr",
     "output_type": "stream",
     "text": [
      " 29%|██▉       | 199/677 [01:17<03:06,  2.56it/s]"
     ]
    },
    {
     "name": "stdout",
     "output_type": "stream",
     "text": [
      "[2023-10-28 13:58:20,249: INFO: ingestion: Download GENCO.BK]\n"
     ]
    },
    {
     "name": "stderr",
     "output_type": "stream",
     "text": [
      " 30%|██▉       | 200/677 [01:18<03:06,  2.56it/s]"
     ]
    },
    {
     "name": "stdout",
     "output_type": "stream",
     "text": [
      "[2023-10-28 13:58:20,639: INFO: ingestion: Download GFPT.BK]\n"
     ]
    },
    {
     "name": "stderr",
     "output_type": "stream",
     "text": [
      " 30%|██▉       | 201/677 [01:18<03:05,  2.56it/s]"
     ]
    },
    {
     "name": "stdout",
     "output_type": "stream",
     "text": [
      "[2023-10-28 13:58:20,992: INFO: ingestion: Download GGC.BK]\n"
     ]
    },
    {
     "name": "stderr",
     "output_type": "stream",
     "text": [
      " 30%|██▉       | 202/677 [01:19<03:00,  2.64it/s]"
     ]
    },
    {
     "name": "stdout",
     "output_type": "stream",
     "text": [
      "[2023-10-28 13:58:21,404: INFO: ingestion: Download GIFT.BK]\n"
     ]
    },
    {
     "name": "stderr",
     "output_type": "stream",
     "text": [
      " 30%|██▉       | 203/677 [01:19<03:04,  2.57it/s]"
     ]
    },
    {
     "name": "stdout",
     "output_type": "stream",
     "text": [
      "[2023-10-28 13:58:21,758: INFO: ingestion: Download GJS.BK]\n"
     ]
    },
    {
     "name": "stderr",
     "output_type": "stream",
     "text": [
      " 30%|███       | 204/677 [01:19<02:59,  2.64it/s]"
     ]
    },
    {
     "name": "stdout",
     "output_type": "stream",
     "text": [
      "[2023-10-28 13:58:22,140: INFO: ingestion: Download GL.BK]\n"
     ]
    },
    {
     "name": "stderr",
     "output_type": "stream",
     "text": [
      " 30%|███       | 205/677 [01:20<02:59,  2.64it/s]"
     ]
    },
    {
     "name": "stdout",
     "output_type": "stream",
     "text": [
      "[2023-10-28 13:58:22,529: INFO: ingestion: Download GLAND.BK]\n"
     ]
    },
    {
     "name": "stderr",
     "output_type": "stream",
     "text": [
      " 30%|███       | 206/677 [01:20<03:00,  2.61it/s]"
     ]
    },
    {
     "name": "stdout",
     "output_type": "stream",
     "text": [
      "[2023-10-28 13:58:22,942: INFO: ingestion: Download GLOBAL.BK]\n"
     ]
    },
    {
     "name": "stderr",
     "output_type": "stream",
     "text": [
      " 31%|███       | 207/677 [01:21<03:04,  2.55it/s]"
     ]
    },
    {
     "name": "stdout",
     "output_type": "stream",
     "text": [
      "[2023-10-28 13:58:23,340: INFO: ingestion: Download GLOCON.BK]\n"
     ]
    },
    {
     "name": "stderr",
     "output_type": "stream",
     "text": [
      " 31%|███       | 208/677 [01:21<03:04,  2.54it/s]"
     ]
    },
    {
     "name": "stdout",
     "output_type": "stream",
     "text": [
      "[2023-10-28 13:58:23,730: INFO: ingestion: Download GPI.BK]\n"
     ]
    },
    {
     "name": "stderr",
     "output_type": "stream",
     "text": [
      " 31%|███       | 209/677 [01:21<03:03,  2.55it/s]"
     ]
    },
    {
     "name": "stdout",
     "output_type": "stream",
     "text": [
      "[2023-10-28 13:58:24,119: INFO: ingestion: Download GPSC.BK]\n"
     ]
    },
    {
     "name": "stderr",
     "output_type": "stream",
     "text": [
      " 31%|███       | 210/677 [01:22<03:02,  2.55it/s]"
     ]
    },
    {
     "name": "stdout",
     "output_type": "stream",
     "text": [
      "[2023-10-28 13:58:24,496: INFO: ingestion: Download GRAMMY.BK]\n"
     ]
    },
    {
     "name": "stderr",
     "output_type": "stream",
     "text": [
      " 31%|███       | 211/677 [01:22<03:00,  2.58it/s]"
     ]
    },
    {
     "name": "stdout",
     "output_type": "stream",
     "text": [
      "[2023-10-28 13:58:24,885: INFO: ingestion: Download GRAND.BK]\n"
     ]
    },
    {
     "name": "stderr",
     "output_type": "stream",
     "text": [
      " 31%|███▏      | 212/677 [01:23<03:00,  2.58it/s]"
     ]
    },
    {
     "name": "stdout",
     "output_type": "stream",
     "text": [
      "[2023-10-28 13:58:25,252: INFO: ingestion: Download GREEN.BK]\n"
     ]
    },
    {
     "name": "stderr",
     "output_type": "stream",
     "text": [
      " 31%|███▏      | 213/677 [01:23<02:56,  2.62it/s]"
     ]
    },
    {
     "name": "stdout",
     "output_type": "stream",
     "text": [
      "[2023-10-28 13:58:25,575: INFO: ingestion: Download GROREIT.BK]\n"
     ]
    },
    {
     "name": "stderr",
     "output_type": "stream",
     "text": [
      " 32%|███▏      | 214/677 [01:23<02:48,  2.75it/s]"
     ]
    },
    {
     "name": "stdout",
     "output_type": "stream",
     "text": [
      "[2023-10-28 13:58:25,916: INFO: ingestion: Download GSTEEL.BK]\n"
     ]
    },
    {
     "name": "stderr",
     "output_type": "stream",
     "text": [
      " 32%|███▏      | 215/677 [01:24<02:44,  2.80it/s]"
     ]
    },
    {
     "name": "stdout",
     "output_type": "stream",
     "text": [
      "[2023-10-28 13:58:26,291: INFO: ingestion: Download GULF.BK]\n"
     ]
    },
    {
     "name": "stderr",
     "output_type": "stream",
     "text": [
      " 32%|███▏      | 216/677 [01:24<02:47,  2.76it/s]"
     ]
    },
    {
     "name": "stdout",
     "output_type": "stream",
     "text": [
      "[2023-10-28 13:58:26,674: INFO: ingestion: Download GUNKUL.BK]\n"
     ]
    },
    {
     "name": "stderr",
     "output_type": "stream",
     "text": [
      " 32%|███▏      | 217/677 [01:24<02:49,  2.71it/s]"
     ]
    },
    {
     "name": "stdout",
     "output_type": "stream",
     "text": [
      "[2023-10-28 13:58:27,067: INFO: ingestion: Download GVREIT.BK]\n"
     ]
    },
    {
     "name": "stderr",
     "output_type": "stream",
     "text": [
      " 32%|███▏      | 218/677 [01:25<02:52,  2.66it/s]"
     ]
    },
    {
     "name": "stdout",
     "output_type": "stream",
     "text": [
      "[2023-10-28 13:58:27,475: INFO: ingestion: Download GYT.BK]\n"
     ]
    },
    {
     "name": "stderr",
     "output_type": "stream",
     "text": [
      " 32%|███▏      | 219/677 [01:25<02:56,  2.59it/s]"
     ]
    },
    {
     "name": "stdout",
     "output_type": "stream",
     "text": [
      "[2023-10-28 13:58:27,907: INFO: ingestion: Download HANA.BK]\n"
     ]
    },
    {
     "name": "stderr",
     "output_type": "stream",
     "text": [
      " 32%|███▏      | 220/677 [01:26<03:02,  2.50it/s]"
     ]
    },
    {
     "name": "stdout",
     "output_type": "stream",
     "text": [
      "[2023-10-28 13:58:28,246: INFO: ingestion: Download HENG.BK]\n"
     ]
    },
    {
     "name": "stderr",
     "output_type": "stream",
     "text": [
      " 33%|███▎      | 221/677 [01:26<02:53,  2.62it/s]"
     ]
    },
    {
     "name": "stdout",
     "output_type": "stream",
     "text": [
      "[2023-10-28 13:58:28,642: INFO: ingestion: Download HFT.BK]\n"
     ]
    },
    {
     "name": "stderr",
     "output_type": "stream",
     "text": [
      " 33%|███▎      | 222/677 [01:26<02:55,  2.59it/s]"
     ]
    },
    {
     "name": "stdout",
     "output_type": "stream",
     "text": [
      "[2023-10-28 13:58:29,039: INFO: ingestion: Download HMPRO.BK]\n"
     ]
    },
    {
     "name": "stderr",
     "output_type": "stream",
     "text": [
      " 33%|███▎      | 223/677 [01:27<02:56,  2.57it/s]"
     ]
    },
    {
     "name": "stdout",
     "output_type": "stream",
     "text": [
      "[2023-10-28 13:58:29,336: INFO: ingestion: Download HPF.BK]\n"
     ]
    },
    {
     "name": "stderr",
     "output_type": "stream",
     "text": [
      " 33%|███▎      | 224/677 [01:27<02:43,  2.77it/s]"
     ]
    },
    {
     "name": "stdout",
     "output_type": "stream",
     "text": [
      "[2023-10-28 13:58:29,749: INFO: ingestion: Download HTC.BK]\n"
     ]
    },
    {
     "name": "stderr",
     "output_type": "stream",
     "text": [
      " 33%|███▎      | 225/677 [01:27<02:50,  2.65it/s]"
     ]
    },
    {
     "name": "stdout",
     "output_type": "stream",
     "text": [
      "[2023-10-28 13:58:30,151: INFO: ingestion: Download HTECH.BK]\n"
     ]
    },
    {
     "name": "stderr",
     "output_type": "stream",
     "text": [
      " 33%|███▎      | 226/677 [01:28<02:53,  2.60it/s]"
     ]
    },
    {
     "name": "stdout",
     "output_type": "stream",
     "text": [
      "[2023-10-28 13:58:30,511: INFO: ingestion: Download HUMAN.BK]\n"
     ]
    },
    {
     "name": "stderr",
     "output_type": "stream",
     "text": [
      " 34%|███▎      | 227/677 [01:28<02:49,  2.65it/s]"
     ]
    },
    {
     "name": "stdout",
     "output_type": "stream",
     "text": [
      "[2023-10-28 13:58:30,944: INFO: ingestion: Download ICC.BK]\n"
     ]
    },
    {
     "name": "stderr",
     "output_type": "stream",
     "text": [
      " 34%|███▎      | 228/677 [01:29<02:56,  2.54it/s]"
     ]
    },
    {
     "name": "stdout",
     "output_type": "stream",
     "text": [
      "[2023-10-28 13:58:31,359: INFO: ingestion: Download ICHI.BK]\n"
     ]
    },
    {
     "name": "stderr",
     "output_type": "stream",
     "text": [
      " 34%|███▍      | 229/677 [01:29<02:59,  2.50it/s]"
     ]
    },
    {
     "name": "stdout",
     "output_type": "stream",
     "text": [
      "[2023-10-28 13:58:31,709: INFO: ingestion: Download IFEC.BK]\n"
     ]
    },
    {
     "name": "stderr",
     "output_type": "stream",
     "text": [
      " 34%|███▍      | 230/677 [01:29<02:52,  2.60it/s]"
     ]
    },
    {
     "name": "stdout",
     "output_type": "stream",
     "text": [
      "[2023-10-28 13:58:32,107: INFO: ingestion: Download IFS.BK]\n"
     ]
    },
    {
     "name": "stderr",
     "output_type": "stream",
     "text": [
      " 34%|███▍      | 231/677 [01:30<02:53,  2.57it/s]"
     ]
    },
    {
     "name": "stdout",
     "output_type": "stream",
     "text": [
      "[2023-10-28 13:58:32,514: INFO: ingestion: Download IHL.BK]\n"
     ]
    },
    {
     "name": "stderr",
     "output_type": "stream",
     "text": [
      " 34%|███▍      | 232/677 [01:30<02:55,  2.54it/s]"
     ]
    },
    {
     "name": "stdout",
     "output_type": "stream",
     "text": [
      "[2023-10-28 13:58:32,871: INFO: ingestion: Download III.BK]\n"
     ]
    },
    {
     "name": "stderr",
     "output_type": "stream",
     "text": [
      " 34%|███▍      | 233/677 [01:30<02:50,  2.61it/s]"
     ]
    },
    {
     "name": "stdout",
     "output_type": "stream",
     "text": [
      "[2023-10-28 13:58:33,266: INFO: ingestion: Download ILINK.BK]\n"
     ]
    },
    {
     "name": "stderr",
     "output_type": "stream",
     "text": [
      " 35%|███▍      | 234/677 [01:31<02:51,  2.59it/s]"
     ]
    },
    {
     "name": "stdout",
     "output_type": "stream",
     "text": [
      "[2023-10-28 13:58:33,622: INFO: ingestion: Download ILM.BK]\n"
     ]
    },
    {
     "name": "stderr",
     "output_type": "stream",
     "text": [
      " 35%|███▍      | 235/677 [01:31<02:46,  2.65it/s]"
     ]
    },
    {
     "name": "stdout",
     "output_type": "stream",
     "text": [
      "[2023-10-28 13:58:34,016: INFO: ingestion: Download IMPACT.BK]\n"
     ]
    },
    {
     "name": "stderr",
     "output_type": "stream",
     "text": [
      " 35%|███▍      | 236/677 [01:32<02:48,  2.61it/s]"
     ]
    },
    {
     "name": "stdout",
     "output_type": "stream",
     "text": [
      "[2023-10-28 13:58:34,418: INFO: ingestion: Download INET.BK]\n"
     ]
    },
    {
     "name": "stderr",
     "output_type": "stream",
     "text": [
      " 35%|███▌      | 237/677 [01:32<02:50,  2.58it/s]"
     ]
    },
    {
     "name": "stdout",
     "output_type": "stream",
     "text": [
      "[2023-10-28 13:58:34,732: INFO: ingestion: Download INETREIT.BK]\n"
     ]
    },
    {
     "name": "stderr",
     "output_type": "stream",
     "text": [
      " 35%|███▌      | 238/677 [01:32<02:40,  2.73it/s]"
     ]
    },
    {
     "name": "stdout",
     "output_type": "stream",
     "text": [
      "[2023-10-28 13:58:35,095: INFO: ingestion: Download INGRS.BK]\n"
     ]
    },
    {
     "name": "stderr",
     "output_type": "stream",
     "text": [
      " 35%|███▌      | 239/677 [01:33<02:39,  2.74it/s]"
     ]
    },
    {
     "name": "stdout",
     "output_type": "stream",
     "text": [
      "[2023-10-28 13:58:35,496: INFO: ingestion: Download INOX.BK]\n"
     ]
    },
    {
     "name": "stderr",
     "output_type": "stream",
     "text": [
      " 35%|███▌      | 240/677 [01:33<02:44,  2.66it/s]"
     ]
    },
    {
     "name": "stdout",
     "output_type": "stream",
     "text": [
      "[2023-10-28 13:58:35,869: INFO: ingestion: Download INSET.BK]\n"
     ]
    },
    {
     "name": "stderr",
     "output_type": "stream",
     "text": [
      " 36%|███▌      | 241/677 [01:33<02:43,  2.67it/s]"
     ]
    },
    {
     "name": "stdout",
     "output_type": "stream",
     "text": [
      "[2023-10-28 13:58:36,235: INFO: ingestion: Download INSURE.BK]\n"
     ]
    },
    {
     "name": "stderr",
     "output_type": "stream",
     "text": [
      " 36%|███▌      | 242/677 [01:34<02:41,  2.69it/s]"
     ]
    },
    {
     "name": "stdout",
     "output_type": "stream",
     "text": [
      "[2023-10-28 13:58:36,672: INFO: ingestion: Download INTUCH.BK]\n"
     ]
    },
    {
     "name": "stderr",
     "output_type": "stream",
     "text": [
      " 36%|███▌      | 243/677 [01:34<02:50,  2.55it/s]"
     ]
    },
    {
     "name": "stdout",
     "output_type": "stream",
     "text": [
      "[2023-10-28 13:58:37,092: INFO: ingestion: Download IRC.BK]\n"
     ]
    },
    {
     "name": "stderr",
     "output_type": "stream",
     "text": [
      " 36%|███▌      | 244/677 [01:35<02:53,  2.50it/s]"
     ]
    },
    {
     "name": "stdout",
     "output_type": "stream",
     "text": [
      "[2023-10-28 13:58:37,533: INFO: ingestion: Download IRPC.BK]\n"
     ]
    },
    {
     "name": "stderr",
     "output_type": "stream",
     "text": [
      " 36%|███▌      | 245/677 [01:35<02:58,  2.43it/s]"
     ]
    },
    {
     "name": "stdout",
     "output_type": "stream",
     "text": [
      "[2023-10-28 13:58:37,957: INFO: ingestion: Download IT.BK]\n"
     ]
    },
    {
     "name": "stderr",
     "output_type": "stream",
     "text": [
      " 36%|███▋      | 246/677 [01:36<02:59,  2.41it/s]"
     ]
    },
    {
     "name": "stdout",
     "output_type": "stream",
     "text": [
      "[2023-10-28 13:58:38,388: INFO: ingestion: Download ITD.BK]\n"
     ]
    },
    {
     "name": "stderr",
     "output_type": "stream",
     "text": [
      " 36%|███▋      | 247/677 [01:36<03:00,  2.38it/s]"
     ]
    },
    {
     "name": "stdout",
     "output_type": "stream",
     "text": [
      "[2023-10-28 13:58:38,760: INFO: ingestion: Download ITEL.BK]\n"
     ]
    },
    {
     "name": "stderr",
     "output_type": "stream",
     "text": [
      " 37%|███▋      | 248/677 [01:36<02:54,  2.46it/s]"
     ]
    },
    {
     "name": "stdout",
     "output_type": "stream",
     "text": [
      "[2023-10-28 13:58:39,161: INFO: ingestion: Download IVL.BK]\n"
     ]
    },
    {
     "name": "stderr",
     "output_type": "stream",
     "text": [
      " 37%|███▋      | 249/677 [01:37<02:53,  2.47it/s]"
     ]
    },
    {
     "name": "stdout",
     "output_type": "stream",
     "text": [
      "[2023-10-28 13:58:39,521: INFO: ingestion: Download J.BK]\n"
     ]
    },
    {
     "name": "stderr",
     "output_type": "stream",
     "text": [
      " 37%|███▋      | 250/677 [01:37<02:46,  2.56it/s]"
     ]
    },
    {
     "name": "stdout",
     "output_type": "stream",
     "text": [
      "[2023-10-28 13:58:39,936: INFO: ingestion: Download JAS.BK]\n"
     ]
    },
    {
     "name": "stderr",
     "output_type": "stream",
     "text": [
      " 37%|███▋      | 251/677 [01:38<02:49,  2.51it/s]"
     ]
    },
    {
     "name": "stdout",
     "output_type": "stream",
     "text": [
      "[2023-10-28 13:58:40,272: INFO: ingestion: Download JASIF.BK]\n"
     ]
    },
    {
     "name": "stderr",
     "output_type": "stream",
     "text": [
      " 37%|███▋      | 252/677 [01:38<02:41,  2.63it/s]"
     ]
    },
    {
     "name": "stdout",
     "output_type": "stream",
     "text": [
      "[2023-10-28 13:58:40,690: INFO: ingestion: Download JCK.BK]\n"
     ]
    },
    {
     "name": "stderr",
     "output_type": "stream",
     "text": [
      " 37%|███▋      | 253/677 [01:38<02:45,  2.56it/s]"
     ]
    },
    {
     "name": "stdout",
     "output_type": "stream",
     "text": [
      "[2023-10-28 13:58:41,106: INFO: ingestion: Download JCT.BK]\n"
     ]
    },
    {
     "name": "stderr",
     "output_type": "stream",
     "text": [
      " 38%|███▊      | 254/677 [01:39<02:48,  2.51it/s]"
     ]
    },
    {
     "name": "stdout",
     "output_type": "stream",
     "text": [
      "[2023-10-28 13:58:41,442: INFO: ingestion: Download JDF.BK]\n"
     ]
    },
    {
     "name": "stderr",
     "output_type": "stream",
     "text": [
      " 38%|███▊      | 255/677 [01:39<02:40,  2.63it/s]"
     ]
    },
    {
     "name": "stdout",
     "output_type": "stream",
     "text": [
      "[2023-10-28 13:58:41,826: INFO: ingestion: Download JKN.BK]\n"
     ]
    },
    {
     "name": "stderr",
     "output_type": "stream",
     "text": [
      " 38%|███▊      | 256/677 [01:39<02:40,  2.62it/s]"
     ]
    },
    {
     "name": "stdout",
     "output_type": "stream",
     "text": [
      "[2023-10-28 13:58:42,225: INFO: ingestion: Download JMART.BK]\n"
     ]
    },
    {
     "name": "stderr",
     "output_type": "stream",
     "text": [
      " 38%|███▊      | 257/677 [01:40<02:42,  2.59it/s]"
     ]
    },
    {
     "name": "stdout",
     "output_type": "stream",
     "text": [
      "[2023-10-28 13:58:42,616: INFO: ingestion: Download JMT.BK]\n"
     ]
    },
    {
     "name": "stderr",
     "output_type": "stream",
     "text": [
      " 38%|███▊      | 258/677 [01:40<02:42,  2.58it/s]"
     ]
    },
    {
     "name": "stdout",
     "output_type": "stream",
     "text": [
      "[2023-10-28 13:58:42,981: INFO: ingestion: Download JR.BK]\n"
     ]
    },
    {
     "name": "stderr",
     "output_type": "stream",
     "text": [
      " 38%|███▊      | 259/677 [01:41<02:39,  2.62it/s]"
     ]
    },
    {
     "name": "stdout",
     "output_type": "stream",
     "text": [
      "[2023-10-28 13:58:43,368: INFO: ingestion: Download JTS.BK]\n"
     ]
    },
    {
     "name": "stderr",
     "output_type": "stream",
     "text": [
      " 38%|███▊      | 260/677 [01:41<02:39,  2.61it/s]"
     ]
    },
    {
     "name": "stdout",
     "output_type": "stream",
     "text": [
      "[2023-10-28 13:58:43,675: ERROR: base: JWD.BK: No data found, symbol may be delisted]\n",
      "[2023-10-28 13:58:43,676: INFO: ingestion: Download JWD.BK]\n"
     ]
    },
    {
     "name": "stderr",
     "output_type": "stream",
     "text": [
      " 39%|███▊      | 261/677 [01:41<02:29,  2.77it/s]"
     ]
    },
    {
     "name": "stdout",
     "output_type": "stream",
     "text": [
      "[2023-10-28 13:58:44,105: INFO: ingestion: Download KAMART.BK]\n"
     ]
    },
    {
     "name": "stderr",
     "output_type": "stream",
     "text": [
      " 39%|███▊      | 262/677 [01:42<02:38,  2.63it/s]"
     ]
    },
    {
     "name": "stdout",
     "output_type": "stream",
     "text": [
      "[2023-10-28 13:58:44,556: INFO: ingestion: Download KBANK.BK]\n"
     ]
    },
    {
     "name": "stderr",
     "output_type": "stream",
     "text": [
      " 39%|███▉      | 263/677 [01:42<02:46,  2.49it/s]"
     ]
    },
    {
     "name": "stdout",
     "output_type": "stream",
     "text": [
      "[2023-10-28 13:58:44,963: INFO: ingestion: Download KBS.BK]\n"
     ]
    },
    {
     "name": "stderr",
     "output_type": "stream",
     "text": [
      " 39%|███▉      | 264/677 [01:43<02:46,  2.48it/s]"
     ]
    },
    {
     "name": "stdout",
     "output_type": "stream",
     "text": [
      "[2023-10-28 13:58:45,284: INFO: ingestion: Download KBSPIF.BK]\n"
     ]
    },
    {
     "name": "stderr",
     "output_type": "stream",
     "text": [
      " 39%|███▉      | 265/677 [01:43<02:36,  2.64it/s]"
     ]
    },
    {
     "name": "stdout",
     "output_type": "stream",
     "text": [
      "[2023-10-28 13:58:45,636: INFO: ingestion: Download KC.BK]\n"
     ]
    },
    {
     "name": "stderr",
     "output_type": "stream",
     "text": [
      " 39%|███▉      | 266/677 [01:43<02:32,  2.70it/s]"
     ]
    },
    {
     "name": "stdout",
     "output_type": "stream",
     "text": [
      "[2023-10-28 13:58:46,043: INFO: ingestion: Download KCAR.BK]\n"
     ]
    },
    {
     "name": "stderr",
     "output_type": "stream",
     "text": [
      " 39%|███▉      | 267/677 [01:44<02:36,  2.62it/s]"
     ]
    },
    {
     "name": "stdout",
     "output_type": "stream",
     "text": [
      "[2023-10-28 13:58:46,476: INFO: ingestion: Download KCE.BK]\n"
     ]
    },
    {
     "name": "stderr",
     "output_type": "stream",
     "text": [
      " 40%|███▉      | 268/677 [01:44<02:42,  2.52it/s]"
     ]
    },
    {
     "name": "stdout",
     "output_type": "stream",
     "text": [
      "[2023-10-28 13:58:46,897: INFO: ingestion: Download KDH.BK]\n"
     ]
    },
    {
     "name": "stderr",
     "output_type": "stream",
     "text": [
      " 40%|███▉      | 269/677 [01:45<02:44,  2.47it/s]"
     ]
    },
    {
     "name": "stdout",
     "output_type": "stream",
     "text": [
      "[2023-10-28 13:58:47,258: INFO: ingestion: Download KEX.BK]\n"
     ]
    },
    {
     "name": "stderr",
     "output_type": "stream",
     "text": [
      " 40%|███▉      | 270/677 [01:45<02:39,  2.56it/s]"
     ]
    },
    {
     "name": "stdout",
     "output_type": "stream",
     "text": [
      "[2023-10-28 13:58:47,715: INFO: ingestion: Download KGI.BK]\n"
     ]
    },
    {
     "name": "stderr",
     "output_type": "stream",
     "text": [
      " 40%|████      | 271/677 [01:45<02:46,  2.43it/s]"
     ]
    },
    {
     "name": "stdout",
     "output_type": "stream",
     "text": [
      "[2023-10-28 13:58:48,122: INFO: ingestion: Download KIAT.BK]\n"
     ]
    },
    {
     "name": "stderr",
     "output_type": "stream",
     "text": [
      " 40%|████      | 272/677 [01:46<02:45,  2.44it/s]"
     ]
    },
    {
     "name": "stdout",
     "output_type": "stream",
     "text": [
      "[2023-10-28 13:58:48,476: INFO: ingestion: Download KISS.BK]\n"
     ]
    },
    {
     "name": "stderr",
     "output_type": "stream",
     "text": [
      " 40%|████      | 273/677 [01:46<02:38,  2.55it/s]"
     ]
    },
    {
     "name": "stdout",
     "output_type": "stream",
     "text": [
      "[2023-10-28 13:58:48,924: INFO: ingestion: Download KKC.BK]\n"
     ]
    },
    {
     "name": "stderr",
     "output_type": "stream",
     "text": [
      " 40%|████      | 274/677 [01:47<02:45,  2.44it/s]"
     ]
    },
    {
     "name": "stdout",
     "output_type": "stream",
     "text": [
      "[2023-10-28 13:58:49,341: INFO: ingestion: Download KKP.BK]\n"
     ]
    },
    {
     "name": "stderr",
     "output_type": "stream",
     "text": [
      " 41%|████      | 275/677 [01:47<02:45,  2.43it/s]"
     ]
    },
    {
     "name": "stdout",
     "output_type": "stream",
     "text": [
      "[2023-10-28 13:58:49,718: INFO: ingestion: Download KPNPF.BK]\n"
     ]
    },
    {
     "name": "stderr",
     "output_type": "stream",
     "text": [
      " 41%|████      | 276/677 [01:47<02:41,  2.49it/s]"
     ]
    },
    {
     "name": "stdout",
     "output_type": "stream",
     "text": [
      "[2023-10-28 13:58:50,112: INFO: ingestion: Download KSL.BK]\n"
     ]
    },
    {
     "name": "stderr",
     "output_type": "stream",
     "text": [
      " 41%|████      | 277/677 [01:48<02:39,  2.51it/s]"
     ]
    },
    {
     "name": "stdout",
     "output_type": "stream",
     "text": [
      "[2023-10-28 13:58:50,536: INFO: ingestion: Download KTB.BK]\n"
     ]
    },
    {
     "name": "stderr",
     "output_type": "stream",
     "text": [
      " 41%|████      | 278/677 [01:48<02:42,  2.46it/s]"
     ]
    },
    {
     "name": "stdout",
     "output_type": "stream",
     "text": [
      "[2023-10-28 13:58:50,878: INFO: ingestion: Download KTBSTMR.BK]\n"
     ]
    },
    {
     "name": "stderr",
     "output_type": "stream",
     "text": [
      " 41%|████      | 279/677 [01:49<02:34,  2.58it/s]"
     ]
    },
    {
     "name": "stdout",
     "output_type": "stream",
     "text": [
      "[2023-10-28 13:58:51,272: INFO: ingestion: Download KTC.BK]\n"
     ]
    },
    {
     "name": "stderr",
     "output_type": "stream",
     "text": [
      " 41%|████▏     | 280/677 [01:49<02:34,  2.57it/s]"
     ]
    },
    {
     "name": "stdout",
     "output_type": "stream",
     "text": [
      "[2023-10-28 13:58:51,642: INFO: ingestion: Download KTIS.BK]\n"
     ]
    },
    {
     "name": "stderr",
     "output_type": "stream",
     "text": [
      " 42%|████▏     | 281/677 [01:49<02:31,  2.61it/s]"
     ]
    },
    {
     "name": "stdout",
     "output_type": "stream",
     "text": [
      "[2023-10-28 13:58:52,049: INFO: ingestion: Download KWC.BK]\n"
     ]
    },
    {
     "name": "stderr",
     "output_type": "stream",
     "text": [
      " 42%|████▏     | 282/677 [01:50<02:34,  2.56it/s]"
     ]
    },
    {
     "name": "stdout",
     "output_type": "stream",
     "text": [
      "[2023-10-28 13:58:52,418: INFO: ingestion: Download KWI.BK]\n"
     ]
    },
    {
     "name": "stderr",
     "output_type": "stream",
     "text": [
      " 42%|████▏     | 283/677 [01:50<02:31,  2.60it/s]"
     ]
    },
    {
     "name": "stdout",
     "output_type": "stream",
     "text": [
      "[2023-10-28 13:58:52,850: INFO: ingestion: Download KYE.BK]\n"
     ]
    },
    {
     "name": "stderr",
     "output_type": "stream",
     "text": [
      " 42%|████▏     | 284/677 [01:50<02:36,  2.51it/s]"
     ]
    },
    {
     "name": "stdout",
     "output_type": "stream",
     "text": [
      "[2023-10-28 13:58:53,245: INFO: ingestion: Download L&E.BK]\n"
     ]
    },
    {
     "name": "stderr",
     "output_type": "stream",
     "text": [
      " 42%|████▏     | 285/677 [01:51<02:35,  2.52it/s]"
     ]
    },
    {
     "name": "stdout",
     "output_type": "stream",
     "text": [
      "[2023-10-28 13:58:53,653: INFO: ingestion: Download LALIN.BK]\n"
     ]
    },
    {
     "name": "stderr",
     "output_type": "stream",
     "text": [
      " 42%|████▏     | 286/677 [01:51<02:36,  2.50it/s]"
     ]
    },
    {
     "name": "stdout",
     "output_type": "stream",
     "text": [
      "[2023-10-28 13:58:54,073: INFO: ingestion: Download LANNA.BK]\n"
     ]
    },
    {
     "name": "stderr",
     "output_type": "stream",
     "text": [
      " 42%|████▏     | 287/677 [01:52<02:38,  2.46it/s]"
     ]
    },
    {
     "name": "stdout",
     "output_type": "stream",
     "text": [
      "[2023-10-28 13:58:54,518: INFO: ingestion: Download LEE.BK]\n"
     ]
    },
    {
     "name": "stderr",
     "output_type": "stream",
     "text": [
      " 43%|████▎     | 288/677 [01:52<02:42,  2.39it/s]"
     ]
    },
    {
     "name": "stdout",
     "output_type": "stream",
     "text": [
      "[2023-10-28 13:58:54,955: INFO: ingestion: Download LH.BK]\n"
     ]
    },
    {
     "name": "stderr",
     "output_type": "stream",
     "text": [
      " 43%|████▎     | 289/677 [01:53<02:44,  2.36it/s]"
     ]
    },
    {
     "name": "stdout",
     "output_type": "stream",
     "text": [
      "[2023-10-28 13:58:55,328: INFO: ingestion: Download LHFG.BK]\n"
     ]
    },
    {
     "name": "stderr",
     "output_type": "stream",
     "text": [
      " 43%|████▎     | 290/677 [01:53<02:38,  2.45it/s]"
     ]
    },
    {
     "name": "stdout",
     "output_type": "stream",
     "text": [
      "[2023-10-28 13:58:55,713: INFO: ingestion: Download LHHOTEL.BK]\n"
     ]
    },
    {
     "name": "stderr",
     "output_type": "stream",
     "text": [
      " 43%|████▎     | 291/677 [01:53<02:34,  2.49it/s]"
     ]
    },
    {
     "name": "stdout",
     "output_type": "stream",
     "text": [
      "[2023-10-28 13:58:56,126: INFO: ingestion: Download LHK.BK]\n"
     ]
    },
    {
     "name": "stderr",
     "output_type": "stream",
     "text": [
      " 43%|████▎     | 292/677 [01:54<02:35,  2.47it/s]"
     ]
    },
    {
     "name": "stdout",
     "output_type": "stream",
     "text": [
      "[2023-10-28 13:58:56,500: INFO: ingestion: Download LHPF.BK]\n"
     ]
    },
    {
     "name": "stderr",
     "output_type": "stream",
     "text": [
      " 43%|████▎     | 293/677 [01:54<02:31,  2.53it/s]"
     ]
    },
    {
     "name": "stdout",
     "output_type": "stream",
     "text": [
      "[2023-10-28 13:58:56,889: INFO: ingestion: Download LHSC.BK]\n"
     ]
    },
    {
     "name": "stderr",
     "output_type": "stream",
     "text": [
      " 43%|████▎     | 294/677 [01:55<02:30,  2.54it/s]"
     ]
    },
    {
     "name": "stdout",
     "output_type": "stream",
     "text": [
      "[2023-10-28 13:58:57,300: INFO: ingestion: Download LOXLEY.BK]\n"
     ]
    },
    {
     "name": "stderr",
     "output_type": "stream",
     "text": [
      " 44%|████▎     | 295/677 [01:55<02:32,  2.51it/s]"
     ]
    },
    {
     "name": "stdout",
     "output_type": "stream",
     "text": [
      "[2023-10-28 13:58:57,670: INFO: ingestion: Download LPF.BK]\n"
     ]
    },
    {
     "name": "stderr",
     "output_type": "stream",
     "text": [
      " 44%|████▎     | 296/677 [01:55<02:28,  2.56it/s]"
     ]
    },
    {
     "name": "stdout",
     "output_type": "stream",
     "text": [
      "[2023-10-28 13:58:58,057: INFO: ingestion: Download LPH.BK]\n"
     ]
    },
    {
     "name": "stderr",
     "output_type": "stream",
     "text": [
      " 44%|████▍     | 297/677 [01:56<02:27,  2.57it/s]"
     ]
    },
    {
     "name": "stdout",
     "output_type": "stream",
     "text": [
      "[2023-10-28 13:58:58,478: INFO: ingestion: Download LPN.BK]\n"
     ]
    },
    {
     "name": "stderr",
     "output_type": "stream",
     "text": [
      " 44%|████▍     | 298/677 [01:56<02:31,  2.51it/s]"
     ]
    },
    {
     "name": "stdout",
     "output_type": "stream",
     "text": [
      "[2023-10-28 13:58:58,876: INFO: ingestion: Download LRH.BK]\n"
     ]
    },
    {
     "name": "stderr",
     "output_type": "stream",
     "text": [
      " 44%|████▍     | 299/677 [01:56<02:30,  2.51it/s]"
     ]
    },
    {
     "name": "stdout",
     "output_type": "stream",
     "text": [
      "[2023-10-28 13:58:59,290: INFO: ingestion: Download LST.BK]\n"
     ]
    },
    {
     "name": "stderr",
     "output_type": "stream",
     "text": [
      " 44%|████▍     | 300/677 [01:57<02:32,  2.48it/s]"
     ]
    },
    {
     "name": "stdout",
     "output_type": "stream",
     "text": [
      "[2023-10-28 13:58:59,597: INFO: ingestion: Download LUXF.BK]\n"
     ]
    },
    {
     "name": "stderr",
     "output_type": "stream",
     "text": [
      " 44%|████▍     | 301/677 [01:57<02:20,  2.67it/s]"
     ]
    },
    {
     "name": "stdout",
     "output_type": "stream",
     "text": [
      "[2023-10-28 13:58:59,979: INFO: ingestion: Download M.BK]\n"
     ]
    },
    {
     "name": "stderr",
     "output_type": "stream",
     "text": [
      " 45%|████▍     | 302/677 [01:58<02:21,  2.66it/s]"
     ]
    },
    {
     "name": "stdout",
     "output_type": "stream",
     "text": [
      "[2023-10-28 13:59:00,444: INFO: ingestion: Download M-CHAI.BK]\n"
     ]
    },
    {
     "name": "stderr",
     "output_type": "stream",
     "text": [
      " 45%|████▍     | 303/677 [01:58<02:30,  2.48it/s]"
     ]
    },
    {
     "name": "stdout",
     "output_type": "stream",
     "text": [
      "[2023-10-28 13:59:00,804: INFO: ingestion: Download M-II.BK]\n"
     ]
    },
    {
     "name": "stderr",
     "output_type": "stream",
     "text": [
      " 45%|████▍     | 304/677 [01:58<02:25,  2.56it/s]"
     ]
    },
    {
     "name": "stdout",
     "output_type": "stream",
     "text": [
      "[2023-10-28 13:59:01,159: INFO: ingestion: Download M-PAT.BK]\n"
     ]
    },
    {
     "name": "stderr",
     "output_type": "stream",
     "text": [
      " 45%|████▌     | 305/677 [01:59<02:21,  2.63it/s]"
     ]
    },
    {
     "name": "stdout",
     "output_type": "stream",
     "text": [
      "[2023-10-28 13:59:01,481: INFO: ingestion: Download M-STOR.BK]\n"
     ]
    },
    {
     "name": "stderr",
     "output_type": "stream",
     "text": [
      " 45%|████▌     | 306/677 [01:59<02:14,  2.76it/s]"
     ]
    },
    {
     "name": "stdout",
     "output_type": "stream",
     "text": [
      "[2023-10-28 13:59:02,885: INFO: ingestion: Download MACO.BK]\n"
     ]
    },
    {
     "name": "stderr",
     "output_type": "stream",
     "text": [
      " 45%|████▌     | 307/677 [02:01<04:09,  1.48it/s]"
     ]
    },
    {
     "name": "stdout",
     "output_type": "stream",
     "text": [
      "[2023-10-28 13:59:03,263: INFO: ingestion: Download MAJOR.BK]\n"
     ]
    },
    {
     "name": "stderr",
     "output_type": "stream",
     "text": [
      " 45%|████▌     | 308/677 [02:01<03:36,  1.71it/s]"
     ]
    },
    {
     "name": "stdout",
     "output_type": "stream",
     "text": [
      "[2023-10-28 13:59:03,554: ERROR: base: MAKRO.BK: No data found, symbol may be delisted]\n",
      "[2023-10-28 13:59:03,555: INFO: ingestion: Download MAKRO.BK]\n"
     ]
    },
    {
     "name": "stderr",
     "output_type": "stream",
     "text": [
      " 46%|████▌     | 309/677 [02:01<03:03,  2.01it/s]"
     ]
    },
    {
     "name": "stdout",
     "output_type": "stream",
     "text": [
      "[2023-10-28 13:59:03,943: INFO: ingestion: Download MALEE.BK]\n"
     ]
    },
    {
     "name": "stderr",
     "output_type": "stream",
     "text": [
      " 46%|████▌     | 310/677 [02:02<02:50,  2.15it/s]"
     ]
    },
    {
     "name": "stdout",
     "output_type": "stream",
     "text": [
      "[2023-10-28 13:59:04,333: INFO: ingestion: Download MANRIN.BK]\n"
     ]
    },
    {
     "name": "stderr",
     "output_type": "stream",
     "text": [
      " 46%|████▌     | 311/677 [02:02<02:41,  2.26it/s]"
     ]
    },
    {
     "name": "stdout",
     "output_type": "stream",
     "text": [
      "[2023-10-28 13:59:04,702: INFO: ingestion: Download MATCH.BK]\n"
     ]
    },
    {
     "name": "stderr",
     "output_type": "stream",
     "text": [
      " 46%|████▌     | 312/677 [02:02<02:33,  2.38it/s]"
     ]
    },
    {
     "name": "stdout",
     "output_type": "stream",
     "text": [
      "[2023-10-28 13:59:05,160: INFO: ingestion: Download MATI.BK]\n"
     ]
    },
    {
     "name": "stderr",
     "output_type": "stream",
     "text": [
      " 46%|████▌     | 313/677 [02:03<02:37,  2.32it/s]"
     ]
    },
    {
     "name": "stdout",
     "output_type": "stream",
     "text": [
      "[2023-10-28 13:59:05,483: INFO: ingestion: Download MAX.BK]\n"
     ]
    },
    {
     "name": "stderr",
     "output_type": "stream",
     "text": [
      " 46%|████▋     | 314/677 [02:03<02:24,  2.51it/s]"
     ]
    },
    {
     "name": "stdout",
     "output_type": "stream",
     "text": [
      "[2023-10-28 13:59:05,947: INFO: ingestion: Download MBK.BK]\n"
     ]
    },
    {
     "name": "stderr",
     "output_type": "stream",
     "text": [
      " 47%|████▋     | 315/677 [02:04<02:31,  2.39it/s]"
     ]
    },
    {
     "name": "stdout",
     "output_type": "stream",
     "text": [
      "[2023-10-28 13:59:06,339: INFO: ingestion: Download MC.BK]\n"
     ]
    },
    {
     "name": "stderr",
     "output_type": "stream",
     "text": [
      " 47%|████▋     | 316/677 [02:04<02:28,  2.44it/s]"
     ]
    },
    {
     "name": "stdout",
     "output_type": "stream",
     "text": [
      "[2023-10-28 13:59:06,754: INFO: ingestion: Download MCOT.BK]\n"
     ]
    },
    {
     "name": "stderr",
     "output_type": "stream",
     "text": [
      " 47%|████▋     | 317/677 [02:04<02:28,  2.43it/s]"
     ]
    },
    {
     "name": "stdout",
     "output_type": "stream",
     "text": [
      "[2023-10-28 13:59:07,167: INFO: ingestion: Download MCS.BK]\n"
     ]
    },
    {
     "name": "stderr",
     "output_type": "stream",
     "text": [
      " 47%|████▋     | 318/677 [02:05<02:27,  2.43it/s]"
     ]
    },
    {
     "name": "stdout",
     "output_type": "stream",
     "text": [
      "[2023-10-28 13:59:07,515: INFO: ingestion: Download MDX.BK]\n"
     ]
    },
    {
     "name": "stderr",
     "output_type": "stream",
     "text": [
      " 47%|████▋     | 319/677 [02:05<02:20,  2.55it/s]"
     ]
    },
    {
     "name": "stdout",
     "output_type": "stream",
     "text": [
      "[2023-10-28 13:59:07,867: INFO: ingestion: Download MEGA.BK]\n"
     ]
    },
    {
     "name": "stderr",
     "output_type": "stream",
     "text": [
      " 47%|████▋     | 320/677 [02:05<02:15,  2.63it/s]"
     ]
    },
    {
     "name": "stdout",
     "output_type": "stream",
     "text": [
      "[2023-10-28 13:59:08,205: INFO: ingestion: Download MENA.BK]\n"
     ]
    },
    {
     "name": "stderr",
     "output_type": "stream",
     "text": [
      " 47%|████▋     | 321/677 [02:06<02:10,  2.72it/s]"
     ]
    },
    {
     "name": "stdout",
     "output_type": "stream",
     "text": [
      "[2023-10-28 13:59:08,628: INFO: ingestion: Download METCO.BK]\n"
     ]
    },
    {
     "name": "stderr",
     "output_type": "stream",
     "text": [
      " 48%|████▊     | 322/677 [02:06<02:16,  2.60it/s]"
     ]
    },
    {
     "name": "stdout",
     "output_type": "stream",
     "text": [
      "[2023-10-28 13:59:09,059: INFO: ingestion: Download MFC.BK]\n"
     ]
    },
    {
     "name": "stderr",
     "output_type": "stream",
     "text": [
      " 48%|████▊     | 323/677 [02:07<02:21,  2.51it/s]"
     ]
    },
    {
     "name": "stdout",
     "output_type": "stream",
     "text": [
      "[2023-10-28 13:59:09,459: INFO: ingestion: Download MFEC.BK]\n"
     ]
    },
    {
     "name": "stderr",
     "output_type": "stream",
     "text": [
      " 48%|████▊     | 324/677 [02:07<02:20,  2.51it/s]"
     ]
    },
    {
     "name": "stdout",
     "output_type": "stream",
     "text": [
      "[2023-10-28 13:59:09,800: INFO: ingestion: Download MICRO.BK]\n"
     ]
    },
    {
     "name": "stderr",
     "output_type": "stream",
     "text": [
      " 48%|████▊     | 325/677 [02:07<02:14,  2.62it/s]"
     ]
    },
    {
     "name": "stdout",
     "output_type": "stream",
     "text": [
      "[2023-10-28 13:59:10,187: INFO: ingestion: Download MIDA.BK]\n"
     ]
    },
    {
     "name": "stderr",
     "output_type": "stream",
     "text": [
      " 48%|████▊     | 326/677 [02:08<02:14,  2.61it/s]"
     ]
    },
    {
     "name": "stdout",
     "output_type": "stream",
     "text": [
      "[2023-10-28 13:59:10,593: INFO: ingestion: Download MILL.BK]\n"
     ]
    },
    {
     "name": "stderr",
     "output_type": "stream",
     "text": [
      " 48%|████▊     | 327/677 [02:08<02:16,  2.56it/s]"
     ]
    },
    {
     "name": "stdout",
     "output_type": "stream",
     "text": [
      "[2023-10-28 13:59:10,990: INFO: ingestion: Download MINT.BK]\n"
     ]
    },
    {
     "name": "stderr",
     "output_type": "stream",
     "text": [
      " 48%|████▊     | 328/677 [02:09<02:16,  2.55it/s]"
     ]
    },
    {
     "name": "stdout",
     "output_type": "stream",
     "text": [
      "[2023-10-28 13:59:11,321: INFO: ingestion: Download MIPF.BK]\n"
     ]
    },
    {
     "name": "stderr",
     "output_type": "stream",
     "text": [
      " 49%|████▊     | 329/677 [02:09<02:10,  2.68it/s]"
     ]
    },
    {
     "name": "stdout",
     "output_type": "stream",
     "text": [
      "[2023-10-28 13:59:11,663: INFO: ingestion: Download MIT.BK]\n"
     ]
    },
    {
     "name": "stderr",
     "output_type": "stream",
     "text": [
      " 49%|████▊     | 330/677 [02:09<02:06,  2.74it/s]"
     ]
    },
    {
     "name": "stdout",
     "output_type": "stream",
     "text": [
      "[2023-10-28 13:59:12,019: INFO: ingestion: Download MJD.BK]\n"
     ]
    },
    {
     "name": "stderr",
     "output_type": "stream",
     "text": [
      " 49%|████▉     | 331/677 [02:10<02:05,  2.77it/s]"
     ]
    },
    {
     "name": "stdout",
     "output_type": "stream",
     "text": [
      "[2023-10-28 13:59:12,414: INFO: ingestion: Download MJLF.BK]\n"
     ]
    },
    {
     "name": "stderr",
     "output_type": "stream",
     "text": [
      " 49%|████▉     | 332/677 [02:10<02:08,  2.69it/s]"
     ]
    },
    {
     "name": "stdout",
     "output_type": "stream",
     "text": [
      "[2023-10-28 13:59:12,836: INFO: ingestion: Download MK.BK]\n"
     ]
    },
    {
     "name": "stderr",
     "output_type": "stream",
     "text": [
      " 49%|████▉     | 333/677 [02:10<02:13,  2.59it/s]"
     ]
    },
    {
     "name": "stdout",
     "output_type": "stream",
     "text": [
      "[2023-10-28 13:59:13,215: INFO: ingestion: Download ML.BK]\n"
     ]
    },
    {
     "name": "stderr",
     "output_type": "stream",
     "text": [
      " 49%|████▉     | 334/677 [02:11<02:11,  2.60it/s]"
     ]
    },
    {
     "name": "stdout",
     "output_type": "stream",
     "text": [
      "[2023-10-28 13:59:13,604: INFO: ingestion: Download MNIT.BK]\n"
     ]
    },
    {
     "name": "stderr",
     "output_type": "stream",
     "text": [
      " 49%|████▉     | 335/677 [02:11<02:11,  2.59it/s]"
     ]
    },
    {
     "name": "stdout",
     "output_type": "stream",
     "text": [
      "[2023-10-28 13:59:13,942: INFO: ingestion: Download MNIT2.BK]\n"
     ]
    },
    {
     "name": "stderr",
     "output_type": "stream",
     "text": [
      " 50%|████▉     | 336/677 [02:12<02:06,  2.69it/s]"
     ]
    },
    {
     "name": "stdout",
     "output_type": "stream",
     "text": [
      "[2023-10-28 13:59:14,282: INFO: ingestion: Download MNRF.BK]\n"
     ]
    },
    {
     "name": "stderr",
     "output_type": "stream",
     "text": [
      " 50%|████▉     | 337/677 [02:12<02:03,  2.76it/s]"
     ]
    },
    {
     "name": "stdout",
     "output_type": "stream",
     "text": [
      "[2023-10-28 13:59:14,692: INFO: ingestion: Download MODERN.BK]\n"
     ]
    },
    {
     "name": "stderr",
     "output_type": "stream",
     "text": [
      " 50%|████▉     | 338/677 [02:12<02:07,  2.66it/s]"
     ]
    },
    {
     "name": "stdout",
     "output_type": "stream",
     "text": [
      "[2023-10-28 13:59:15,055: INFO: ingestion: Download MONO.BK]\n"
     ]
    },
    {
     "name": "stderr",
     "output_type": "stream",
     "text": [
      " 50%|█████     | 339/677 [02:13<02:05,  2.69it/s]"
     ]
    },
    {
     "name": "stdout",
     "output_type": "stream",
     "text": [
      "[2023-10-28 13:59:15,415: INFO: ingestion: Download MPIC.BK]\n"
     ]
    },
    {
     "name": "stderr",
     "output_type": "stream",
     "text": [
      " 50%|█████     | 340/677 [02:13<02:04,  2.71it/s]"
     ]
    },
    {
     "name": "stdout",
     "output_type": "stream",
     "text": [
      "[2023-10-28 13:59:15,806: INFO: ingestion: Download MSC.BK]\n"
     ]
    },
    {
     "name": "stderr",
     "output_type": "stream",
     "text": [
      " 50%|█████     | 341/677 [02:13<02:06,  2.66it/s]"
     ]
    },
    {
     "name": "stdout",
     "output_type": "stream",
     "text": [
      "[2023-10-28 13:59:16,199: INFO: ingestion: Download MST.BK]\n"
     ]
    },
    {
     "name": "stderr",
     "output_type": "stream",
     "text": [
      " 51%|█████     | 342/677 [02:14<02:07,  2.63it/s]"
     ]
    },
    {
     "name": "stdout",
     "output_type": "stream",
     "text": [
      "[2023-10-28 13:59:16,588: INFO: ingestion: Download MTC.BK]\n"
     ]
    },
    {
     "name": "stderr",
     "output_type": "stream",
     "text": [
      " 51%|█████     | 343/677 [02:14<02:08,  2.61it/s]"
     ]
    },
    {
     "name": "stdout",
     "output_type": "stream",
     "text": [
      "[2023-10-28 13:59:16,966: INFO: ingestion: Download MTI.BK]\n"
     ]
    },
    {
     "name": "stderr",
     "output_type": "stream",
     "text": [
      " 51%|█████     | 344/677 [02:15<02:07,  2.62it/s]"
     ]
    },
    {
     "name": "stdout",
     "output_type": "stream",
     "text": [
      "[2023-10-28 13:59:17,356: INFO: ingestion: Download NATION.BK]\n"
     ]
    },
    {
     "name": "stderr",
     "output_type": "stream",
     "text": [
      " 51%|█████     | 345/677 [02:15<02:07,  2.60it/s]"
     ]
    },
    {
     "name": "stdout",
     "output_type": "stream",
     "text": [
      "[2023-10-28 13:59:17,830: INFO: ingestion: Download NC.BK]\n"
     ]
    },
    {
     "name": "stderr",
     "output_type": "stream",
     "text": [
      " 51%|█████     | 346/677 [02:15<02:16,  2.43it/s]"
     ]
    },
    {
     "name": "stdout",
     "output_type": "stream",
     "text": [
      "[2023-10-28 13:59:18,185: INFO: ingestion: Download NCAP.BK]\n"
     ]
    },
    {
     "name": "stderr",
     "output_type": "stream",
     "text": [
      " 51%|█████▏    | 347/677 [02:16<02:10,  2.54it/s]"
     ]
    },
    {
     "name": "stdout",
     "output_type": "stream",
     "text": [
      "[2023-10-28 13:59:18,598: INFO: ingestion: Download NCH.BK]\n"
     ]
    },
    {
     "name": "stderr",
     "output_type": "stream",
     "text": [
      " 51%|█████▏    | 348/677 [02:16<02:11,  2.50it/s]"
     ]
    },
    {
     "name": "stdout",
     "output_type": "stream",
     "text": [
      "[2023-10-28 13:59:18,969: INFO: ingestion: Download NEP.BK]\n"
     ]
    },
    {
     "name": "stderr",
     "output_type": "stream",
     "text": [
      " 52%|█████▏    | 349/677 [02:17<02:08,  2.56it/s]"
     ]
    },
    {
     "name": "stdout",
     "output_type": "stream",
     "text": [
      "[2023-10-28 13:59:19,322: INFO: ingestion: Download NER.BK]\n"
     ]
    },
    {
     "name": "stderr",
     "output_type": "stream",
     "text": [
      " 52%|█████▏    | 350/677 [02:17<02:04,  2.63it/s]"
     ]
    },
    {
     "name": "stdout",
     "output_type": "stream",
     "text": [
      "[2023-10-28 13:59:19,719: INFO: ingestion: Download NEW.BK]\n"
     ]
    },
    {
     "name": "stderr",
     "output_type": "stream",
     "text": [
      " 52%|█████▏    | 351/677 [02:17<02:05,  2.60it/s]"
     ]
    },
    {
     "name": "stdout",
     "output_type": "stream",
     "text": [
      "[2023-10-28 13:59:20,077: INFO: ingestion: Download NEX.BK]\n"
     ]
    },
    {
     "name": "stderr",
     "output_type": "stream",
     "text": [
      " 52%|█████▏    | 352/677 [02:18<02:02,  2.65it/s]"
     ]
    },
    {
     "name": "stdout",
     "output_type": "stream",
     "text": [
      "[2023-10-28 13:59:20,440: INFO: ingestion: Download NFC.BK]\n"
     ]
    },
    {
     "name": "stderr",
     "output_type": "stream",
     "text": [
      " 52%|█████▏    | 353/677 [02:18<02:00,  2.68it/s]"
     ]
    },
    {
     "name": "stdout",
     "output_type": "stream",
     "text": [
      "[2023-10-28 13:59:20,884: INFO: ingestion: Download NKI.BK]\n"
     ]
    },
    {
     "name": "stderr",
     "output_type": "stream",
     "text": [
      " 52%|█████▏    | 354/677 [02:19<02:07,  2.53it/s]"
     ]
    },
    {
     "name": "stdout",
     "output_type": "stream",
     "text": [
      "[2023-10-28 13:59:21,282: INFO: ingestion: Download NNCL.BK]\n"
     ]
    },
    {
     "name": "stderr",
     "output_type": "stream",
     "text": [
      " 52%|█████▏    | 355/677 [02:19<02:07,  2.53it/s]"
     ]
    },
    {
     "name": "stdout",
     "output_type": "stream",
     "text": [
      "[2023-10-28 13:59:21,695: INFO: ingestion: Download NOBLE.BK]\n"
     ]
    },
    {
     "name": "stderr",
     "output_type": "stream",
     "text": [
      " 53%|█████▎    | 356/677 [02:19<02:08,  2.50it/s]"
     ]
    },
    {
     "name": "stdout",
     "output_type": "stream",
     "text": [
      "[2023-10-28 13:59:22,029: INFO: ingestion: Download NOK.BK]\n"
     ]
    },
    {
     "name": "stderr",
     "output_type": "stream",
     "text": [
      " 53%|█████▎    | 357/677 [02:20<02:01,  2.63it/s]"
     ]
    },
    {
     "name": "stdout",
     "output_type": "stream",
     "text": [
      "[2023-10-28 13:59:22,436: INFO: ingestion: Download NOVA.BK]\n"
     ]
    },
    {
     "name": "stderr",
     "output_type": "stream",
     "text": [
      " 53%|█████▎    | 358/677 [02:20<02:03,  2.58it/s]"
     ]
    },
    {
     "name": "stdout",
     "output_type": "stream",
     "text": [
      "[2023-10-28 13:59:22,803: INFO: ingestion: Download NRF.BK]\n"
     ]
    },
    {
     "name": "stderr",
     "output_type": "stream",
     "text": [
      " 53%|█████▎    | 359/677 [02:20<02:01,  2.62it/s]"
     ]
    },
    {
     "name": "stdout",
     "output_type": "stream",
     "text": [
      "[2023-10-28 13:59:23,104: ERROR: base: NSI.BK: No data found, symbol may be delisted]\n",
      "[2023-10-28 13:59:23,105: INFO: ingestion: Download NSI.BK]\n"
     ]
    },
    {
     "name": "stderr",
     "output_type": "stream",
     "text": [
      " 53%|█████▎    | 360/677 [02:21<01:53,  2.79it/s]"
     ]
    },
    {
     "name": "stdout",
     "output_type": "stream",
     "text": [
      "[2023-10-28 13:59:23,441: INFO: ingestion: Download NSL.BK]\n"
     ]
    },
    {
     "name": "stderr",
     "output_type": "stream",
     "text": [
      " 53%|█████▎    | 361/677 [02:21<01:51,  2.84it/s]"
     ]
    },
    {
     "name": "stdout",
     "output_type": "stream",
     "text": [
      "[2023-10-28 13:59:23,870: INFO: ingestion: Download NTV.BK]\n"
     ]
    },
    {
     "name": "stderr",
     "output_type": "stream",
     "text": [
      " 53%|█████▎    | 362/677 [02:21<01:58,  2.67it/s]"
     ]
    },
    {
     "name": "stdout",
     "output_type": "stream",
     "text": [
      "[2023-10-28 13:59:24,251: INFO: ingestion: Download NUSA.BK]\n"
     ]
    },
    {
     "name": "stderr",
     "output_type": "stream",
     "text": [
      " 54%|█████▎    | 363/677 [02:22<01:58,  2.66it/s]"
     ]
    },
    {
     "name": "stdout",
     "output_type": "stream",
     "text": [
      "[2023-10-28 13:59:24,930: INFO: ingestion: Download NV.BK]\n"
     ]
    },
    {
     "name": "stderr",
     "output_type": "stream",
     "text": [
      " 54%|█████▍    | 364/677 [02:23<02:26,  2.14it/s]"
     ]
    },
    {
     "name": "stdout",
     "output_type": "stream",
     "text": [
      "[2023-10-28 13:59:25,330: INFO: ingestion: Download NVD.BK]\n"
     ]
    },
    {
     "name": "stderr",
     "output_type": "stream",
     "text": [
      " 54%|█████▍    | 365/677 [02:23<02:19,  2.24it/s]"
     ]
    },
    {
     "name": "stdout",
     "output_type": "stream",
     "text": [
      "[2023-10-28 13:59:25,759: INFO: ingestion: Download NWR.BK]\n"
     ]
    },
    {
     "name": "stderr",
     "output_type": "stream",
     "text": [
      " 54%|█████▍    | 366/677 [02:23<02:17,  2.26it/s]"
     ]
    },
    {
     "name": "stdout",
     "output_type": "stream",
     "text": [
      "[2023-10-28 13:59:27,137: INFO: ingestion: Download NYT.BK]\n"
     ]
    },
    {
     "name": "stderr",
     "output_type": "stream",
     "text": [
      " 54%|█████▍    | 367/677 [02:25<03:44,  1.38it/s]"
     ]
    },
    {
     "name": "stdout",
     "output_type": "stream",
     "text": [
      "[2023-10-28 13:59:27,567: INFO: ingestion: Download OCC.BK]\n"
     ]
    },
    {
     "name": "stderr",
     "output_type": "stream",
     "text": [
      " 54%|█████▍    | 368/677 [02:25<03:16,  1.58it/s]"
     ]
    },
    {
     "name": "stdout",
     "output_type": "stream",
     "text": [
      "[2023-10-28 13:59:28,982: INFO: ingestion: Download OGC.BK]\n"
     ]
    },
    {
     "name": "stderr",
     "output_type": "stream",
     "text": [
      " 55%|█████▍    | 369/677 [02:27<04:27,  1.15it/s]"
     ]
    },
    {
     "name": "stdout",
     "output_type": "stream",
     "text": [
      "[2023-10-28 13:59:29,383: INFO: ingestion: Download OHTL.BK]\n"
     ]
    },
    {
     "name": "stderr",
     "output_type": "stream",
     "text": [
      " 55%|█████▍    | 370/677 [02:27<03:43,  1.37it/s]"
     ]
    },
    {
     "name": "stdout",
     "output_type": "stream",
     "text": [
      "[2023-10-28 13:59:29,781: INFO: ingestion: Download OISHI.BK]\n"
     ]
    },
    {
     "name": "stderr",
     "output_type": "stream",
     "text": [
      " 55%|█████▍    | 371/677 [02:27<03:12,  1.59it/s]"
     ]
    },
    {
     "name": "stdout",
     "output_type": "stream",
     "text": [
      "[2023-10-28 13:59:30,128: INFO: ingestion: Download ONEE.BK]\n"
     ]
    },
    {
     "name": "stderr",
     "output_type": "stream",
     "text": [
      " 55%|█████▍    | 372/677 [02:28<02:46,  1.84it/s]"
     ]
    },
    {
     "name": "stdout",
     "output_type": "stream",
     "text": [
      "[2023-10-28 13:59:30,478: INFO: ingestion: Download OR.BK]\n"
     ]
    },
    {
     "name": "stderr",
     "output_type": "stream",
     "text": [
      " 55%|█████▌    | 373/677 [02:28<02:27,  2.06it/s]"
     ]
    },
    {
     "name": "stdout",
     "output_type": "stream",
     "text": [
      "[2023-10-28 13:59:30,850: INFO: ingestion: Download ORI.BK]\n"
     ]
    },
    {
     "name": "stderr",
     "output_type": "stream",
     "text": [
      " 55%|█████▌    | 374/677 [02:28<02:16,  2.21it/s]"
     ]
    },
    {
     "name": "stdout",
     "output_type": "stream",
     "text": [
      "[2023-10-28 13:59:31,221: INFO: ingestion: Download OSP.BK]\n"
     ]
    },
    {
     "name": "stderr",
     "output_type": "stream",
     "text": [
      " 55%|█████▌    | 375/677 [02:29<02:09,  2.34it/s]"
     ]
    },
    {
     "name": "stdout",
     "output_type": "stream",
     "text": [
      "[2023-10-28 13:59:31,540: INFO: ingestion: Download PACE.BK]\n"
     ]
    },
    {
     "name": "stderr",
     "output_type": "stream",
     "text": [
      " 56%|█████▌    | 376/677 [02:29<01:58,  2.53it/s]"
     ]
    },
    {
     "name": "stdout",
     "output_type": "stream",
     "text": [
      "[2023-10-28 13:59:31,975: INFO: ingestion: Download PAF.BK]\n"
     ]
    },
    {
     "name": "stderr",
     "output_type": "stream",
     "text": [
      " 56%|█████▌    | 377/677 [02:30<02:02,  2.46it/s]"
     ]
    },
    {
     "name": "stdout",
     "output_type": "stream",
     "text": [
      "[2023-10-28 13:59:32,348: INFO: ingestion: Download PAP.BK]\n"
     ]
    },
    {
     "name": "stderr",
     "output_type": "stream",
     "text": [
      " 56%|█████▌    | 378/677 [02:30<01:58,  2.52it/s]"
     ]
    },
    {
     "name": "stdout",
     "output_type": "stream",
     "text": [
      "[2023-10-28 13:59:32,735: INFO: ingestion: Download PATO.BK]\n"
     ]
    },
    {
     "name": "stderr",
     "output_type": "stream",
     "text": [
      " 56%|█████▌    | 379/677 [02:30<01:57,  2.54it/s]"
     ]
    },
    {
     "name": "stdout",
     "output_type": "stream",
     "text": [
      "[2023-10-28 13:59:33,127: INFO: ingestion: Download PB.BK]\n"
     ]
    },
    {
     "name": "stderr",
     "output_type": "stream",
     "text": [
      " 56%|█████▌    | 380/677 [02:31<01:56,  2.54it/s]"
     ]
    },
    {
     "name": "stdout",
     "output_type": "stream",
     "text": [
      "[2023-10-28 13:59:33,451: INFO: ingestion: Download PCC.BK]\n"
     ]
    },
    {
     "name": "stderr",
     "output_type": "stream",
     "text": [
      " 56%|█████▋    | 381/677 [02:31<01:50,  2.69it/s]"
     ]
    },
    {
     "name": "stdout",
     "output_type": "stream",
     "text": [
      "[2023-10-28 13:59:33,844: INFO: ingestion: Download PCSGH.BK]\n"
     ]
    },
    {
     "name": "stderr",
     "output_type": "stream",
     "text": [
      " 56%|█████▋    | 382/677 [02:31<01:51,  2.64it/s]"
     ]
    },
    {
     "name": "stdout",
     "output_type": "stream",
     "text": [
      "[2023-10-28 13:59:34,269: INFO: ingestion: Download PDJ.BK]\n"
     ]
    },
    {
     "name": "stderr",
     "output_type": "stream",
     "text": [
      " 57%|█████▋    | 383/677 [02:32<01:55,  2.55it/s]"
     ]
    },
    {
     "name": "stdout",
     "output_type": "stream",
     "text": [
      "[2023-10-28 13:59:34,583: INFO: ingestion: Download PEACE.BK]\n"
     ]
    },
    {
     "name": "stderr",
     "output_type": "stream",
     "text": [
      " 57%|█████▋    | 384/677 [02:32<01:48,  2.71it/s]"
     ]
    },
    {
     "name": "stdout",
     "output_type": "stream",
     "text": [
      "[2023-10-28 13:59:34,957: INFO: ingestion: Download PERM.BK]\n"
     ]
    },
    {
     "name": "stderr",
     "output_type": "stream",
     "text": [
      " 57%|█████▋    | 385/677 [02:33<01:48,  2.70it/s]"
     ]
    },
    {
     "name": "stdout",
     "output_type": "stream",
     "text": [
      "[2023-10-28 13:59:35,372: INFO: ingestion: Download PF.BK]\n"
     ]
    },
    {
     "name": "stderr",
     "output_type": "stream",
     "text": [
      " 57%|█████▋    | 386/677 [02:33<01:51,  2.60it/s]"
     ]
    },
    {
     "name": "stdout",
     "output_type": "stream",
     "text": [
      "[2023-10-28 13:59:35,817: INFO: ingestion: Download PG.BK]\n"
     ]
    },
    {
     "name": "stderr",
     "output_type": "stream",
     "text": [
      " 57%|█████▋    | 387/677 [02:33<01:56,  2.49it/s]"
     ]
    },
    {
     "name": "stdout",
     "output_type": "stream",
     "text": [
      "[2023-10-28 13:59:36,144: INFO: ingestion: Download PIN.BK]\n"
     ]
    },
    {
     "name": "stderr",
     "output_type": "stream",
     "text": [
      " 57%|█████▋    | 388/677 [02:34<01:49,  2.64it/s]"
     ]
    },
    {
     "name": "stdout",
     "output_type": "stream",
     "text": [
      "[2023-10-28 13:59:36,556: INFO: ingestion: Download PK.BK]\n"
     ]
    },
    {
     "name": "stderr",
     "output_type": "stream",
     "text": [
      " 57%|█████▋    | 389/677 [02:34<01:52,  2.57it/s]"
     ]
    },
    {
     "name": "stdout",
     "output_type": "stream",
     "text": [
      "[2023-10-28 13:59:36,959: INFO: ingestion: Download PL.BK]\n"
     ]
    },
    {
     "name": "stderr",
     "output_type": "stream",
     "text": [
      " 58%|█████▊    | 390/677 [02:35<01:52,  2.54it/s]"
     ]
    },
    {
     "name": "stdout",
     "output_type": "stream",
     "text": [
      "[2023-10-28 13:59:37,327: INFO: ingestion: Download PLANB.BK]\n"
     ]
    },
    {
     "name": "stderr",
     "output_type": "stream",
     "text": [
      " 58%|█████▊    | 391/677 [02:35<01:50,  2.59it/s]"
     ]
    },
    {
     "name": "stdout",
     "output_type": "stream",
     "text": [
      "[2023-10-28 13:59:37,732: INFO: ingestion: Download PLAT.BK]\n"
     ]
    },
    {
     "name": "stderr",
     "output_type": "stream",
     "text": [
      " 58%|█████▊    | 392/677 [02:35<01:51,  2.55it/s]"
     ]
    },
    {
     "name": "stdout",
     "output_type": "stream",
     "text": [
      "[2023-10-28 13:59:38,134: INFO: ingestion: Download PLE.BK]\n"
     ]
    },
    {
     "name": "stderr",
     "output_type": "stream",
     "text": [
      " 58%|█████▊    | 393/677 [02:36<01:52,  2.53it/s]"
     ]
    },
    {
     "name": "stdout",
     "output_type": "stream",
     "text": [
      "[2023-10-28 13:59:38,480: INFO: ingestion: Download PLUS.BK]\n"
     ]
    },
    {
     "name": "stderr",
     "output_type": "stream",
     "text": [
      " 58%|█████▊    | 394/677 [02:36<01:47,  2.63it/s]"
     ]
    },
    {
     "name": "stdout",
     "output_type": "stream",
     "text": [
      "[2023-10-28 13:59:38,878: INFO: ingestion: Download PM.BK]\n"
     ]
    },
    {
     "name": "stderr",
     "output_type": "stream",
     "text": [
      " 58%|█████▊    | 395/677 [02:36<01:48,  2.60it/s]"
     ]
    },
    {
     "name": "stdout",
     "output_type": "stream",
     "text": [
      "[2023-10-28 13:59:39,260: INFO: ingestion: Download PMTA.BK]\n"
     ]
    },
    {
     "name": "stderr",
     "output_type": "stream",
     "text": [
      " 58%|█████▊    | 396/677 [02:37<01:48,  2.60it/s]"
     ]
    },
    {
     "name": "stdout",
     "output_type": "stream",
     "text": [
      "[2023-10-28 13:59:39,629: INFO: ingestion: Download POLAR.BK]\n"
     ]
    },
    {
     "name": "stderr",
     "output_type": "stream",
     "text": [
      " 59%|█████▊    | 397/677 [02:37<01:46,  2.63it/s]"
     ]
    },
    {
     "name": "stdout",
     "output_type": "stream",
     "text": [
      "[2023-10-28 13:59:39,941: INFO: ingestion: Download POLY.BK]\n"
     ]
    },
    {
     "name": "stderr",
     "output_type": "stream",
     "text": [
      " 59%|█████▉    | 398/677 [02:38<01:40,  2.78it/s]"
     ]
    },
    {
     "name": "stdout",
     "output_type": "stream",
     "text": [
      "[2023-10-28 13:59:40,279: INFO: ingestion: Download POMPUI.BK]\n"
     ]
    },
    {
     "name": "stderr",
     "output_type": "stream",
     "text": [
      " 59%|█████▉    | 399/677 [02:38<01:38,  2.83it/s]"
     ]
    },
    {
     "name": "stdout",
     "output_type": "stream",
     "text": [
      "[2023-10-28 13:59:40,587: INFO: ingestion: Download POPF.BK]\n"
     ]
    },
    {
     "name": "stderr",
     "output_type": "stream",
     "text": [
      " 59%|█████▉    | 400/677 [02:38<01:34,  2.95it/s]"
     ]
    },
    {
     "name": "stdout",
     "output_type": "stream",
     "text": [
      "[2023-10-28 13:59:40,943: INFO: ingestion: Download PORT.BK]\n"
     ]
    },
    {
     "name": "stderr",
     "output_type": "stream",
     "text": [
      " 59%|█████▉    | 401/677 [02:39<01:35,  2.90it/s]"
     ]
    },
    {
     "name": "stdout",
     "output_type": "stream",
     "text": [
      "[2023-10-28 13:59:41,369: INFO: ingestion: Download POST.BK]\n"
     ]
    },
    {
     "name": "stderr",
     "output_type": "stream",
     "text": [
      " 59%|█████▉    | 402/677 [02:39<01:41,  2.71it/s]"
     ]
    },
    {
     "name": "stdout",
     "output_type": "stream",
     "text": [
      "[2023-10-28 13:59:41,679: INFO: ingestion: Download PPF.BK]\n"
     ]
    },
    {
     "name": "stderr",
     "output_type": "stream",
     "text": [
      " 60%|█████▉    | 403/677 [02:39<01:36,  2.85it/s]"
     ]
    },
    {
     "name": "stdout",
     "output_type": "stream",
     "text": [
      "[2023-10-28 13:59:42,083: INFO: ingestion: Download PPP.BK]\n"
     ]
    },
    {
     "name": "stderr",
     "output_type": "stream",
     "text": [
      " 60%|█████▉    | 404/677 [02:40<01:40,  2.73it/s]"
     ]
    },
    {
     "name": "stdout",
     "output_type": "stream",
     "text": [
      "[2023-10-28 13:59:42,461: INFO: ingestion: Download PPPM.BK]\n"
     ]
    },
    {
     "name": "stderr",
     "output_type": "stream",
     "text": [
      " 60%|█████▉    | 405/677 [02:40<01:40,  2.70it/s]"
     ]
    },
    {
     "name": "stdout",
     "output_type": "stream",
     "text": [
      "[2023-10-28 13:59:42,823: INFO: ingestion: Download PR9.BK]\n"
     ]
    },
    {
     "name": "stderr",
     "output_type": "stream",
     "text": [
      " 60%|█████▉    | 406/677 [02:40<01:39,  2.72it/s]"
     ]
    },
    {
     "name": "stdout",
     "output_type": "stream",
     "text": [
      "[2023-10-28 13:59:43,259: INFO: ingestion: Download PRAKIT.BK]\n"
     ]
    },
    {
     "name": "stderr",
     "output_type": "stream",
     "text": [
      " 60%|██████    | 407/677 [02:41<01:44,  2.57it/s]"
     ]
    },
    {
     "name": "stdout",
     "output_type": "stream",
     "text": [
      "[2023-10-28 13:59:43,655: INFO: ingestion: Download PREB.BK]\n"
     ]
    },
    {
     "name": "stderr",
     "output_type": "stream",
     "text": [
      " 60%|██████    | 408/677 [02:41<01:45,  2.56it/s]"
     ]
    },
    {
     "name": "stdout",
     "output_type": "stream",
     "text": [
      "[2023-10-28 13:59:44,061: INFO: ingestion: Download PRECHA.BK]\n"
     ]
    },
    {
     "name": "stderr",
     "output_type": "stream",
     "text": [
      " 60%|██████    | 409/677 [02:42<01:45,  2.53it/s]"
     ]
    },
    {
     "name": "stdout",
     "output_type": "stream",
     "text": [
      "[2023-10-28 13:59:44,484: INFO: ingestion: Download PRG.BK]\n"
     ]
    },
    {
     "name": "stderr",
     "output_type": "stream",
     "text": [
      " 61%|██████    | 410/677 [02:42<01:47,  2.48it/s]"
     ]
    },
    {
     "name": "stdout",
     "output_type": "stream",
     "text": [
      "[2023-10-28 13:59:44,839: INFO: ingestion: Download PRIME.BK]\n"
     ]
    },
    {
     "name": "stderr",
     "output_type": "stream",
     "text": [
      " 61%|██████    | 411/677 [02:42<01:43,  2.57it/s]"
     ]
    },
    {
     "name": "stdout",
     "output_type": "stream",
     "text": [
      "[2023-10-28 13:59:45,249: INFO: ingestion: Download PRIN.BK]\n"
     ]
    },
    {
     "name": "stderr",
     "output_type": "stream",
     "text": [
      " 61%|██████    | 412/677 [02:43<01:44,  2.53it/s]"
     ]
    },
    {
     "name": "stdout",
     "output_type": "stream",
     "text": [
      "[2023-10-28 13:59:45,609: INFO: ingestion: Download PRINC.BK]\n"
     ]
    },
    {
     "name": "stderr",
     "output_type": "stream",
     "text": [
      " 61%|██████    | 413/677 [02:43<01:41,  2.60it/s]"
     ]
    },
    {
     "name": "stdout",
     "output_type": "stream",
     "text": [
      "[2023-10-28 13:59:46,013: INFO: ingestion: Download PRM.BK]\n"
     ]
    },
    {
     "name": "stderr",
     "output_type": "stream",
     "text": [
      " 61%|██████    | 414/677 [02:44<01:42,  2.56it/s]"
     ]
    },
    {
     "name": "stdout",
     "output_type": "stream",
     "text": [
      "[2023-10-28 13:59:46,369: INFO: ingestion: Download PRO.BK]\n"
     ]
    },
    {
     "name": "stderr",
     "output_type": "stream",
     "text": [
      " 61%|██████▏   | 415/677 [02:44<01:39,  2.63it/s]"
     ]
    },
    {
     "name": "stdout",
     "output_type": "stream",
     "text": [
      "[2023-10-28 13:59:46,727: INFO: ingestion: Download PROSPECT.BK]\n"
     ]
    },
    {
     "name": "stderr",
     "output_type": "stream",
     "text": [
      " 61%|██████▏   | 416/677 [02:44<01:37,  2.68it/s]"
     ]
    },
    {
     "name": "stdout",
     "output_type": "stream",
     "text": [
      "[2023-10-28 13:59:47,098: INFO: ingestion: Download PSH.BK]\n"
     ]
    },
    {
     "name": "stderr",
     "output_type": "stream",
     "text": [
      " 62%|██████▏   | 417/677 [02:45<01:36,  2.68it/s]"
     ]
    },
    {
     "name": "stdout",
     "output_type": "stream",
     "text": [
      "[2023-10-28 13:59:47,517: INFO: ingestion: Download PSL.BK]\n"
     ]
    },
    {
     "name": "stderr",
     "output_type": "stream",
     "text": [
      " 62%|██████▏   | 418/677 [02:45<01:40,  2.59it/s]"
     ]
    },
    {
     "name": "stdout",
     "output_type": "stream",
     "text": [
      "[2023-10-28 13:59:47,919: INFO: ingestion: Download PT.BK]\n"
     ]
    },
    {
     "name": "stderr",
     "output_type": "stream",
     "text": [
      " 62%|██████▏   | 419/677 [02:46<01:40,  2.56it/s]"
     ]
    },
    {
     "name": "stdout",
     "output_type": "stream",
     "text": [
      "[2023-10-28 13:59:48,318: INFO: ingestion: Download PTECH.BK]\n"
     ]
    },
    {
     "name": "stderr",
     "output_type": "stream",
     "text": [
      " 62%|██████▏   | 420/677 [02:46<01:41,  2.54it/s]"
     ]
    },
    {
     "name": "stdout",
     "output_type": "stream",
     "text": [
      "[2023-10-28 13:59:48,679: INFO: ingestion: Download PTG.BK]\n"
     ]
    },
    {
     "name": "stderr",
     "output_type": "stream",
     "text": [
      " 62%|██████▏   | 421/677 [02:46<01:38,  2.60it/s]"
     ]
    },
    {
     "name": "stdout",
     "output_type": "stream",
     "text": [
      "[2023-10-28 13:59:49,058: INFO: ingestion: Download PTL.BK]\n"
     ]
    },
    {
     "name": "stderr",
     "output_type": "stream",
     "text": [
      " 62%|██████▏   | 422/677 [02:47<01:37,  2.61it/s]"
     ]
    },
    {
     "name": "stdout",
     "output_type": "stream",
     "text": [
      "[2023-10-28 13:59:49,439: INFO: ingestion: Download PTT.BK]\n"
     ]
    },
    {
     "name": "stderr",
     "output_type": "stream",
     "text": [
      " 62%|██████▏   | 423/677 [02:47<01:37,  2.62it/s]"
     ]
    },
    {
     "name": "stdout",
     "output_type": "stream",
     "text": [
      "[2023-10-28 13:59:49,860: INFO: ingestion: Download PTTEP.BK]\n"
     ]
    },
    {
     "name": "stderr",
     "output_type": "stream",
     "text": [
      " 63%|██████▎   | 424/677 [02:47<01:39,  2.54it/s]"
     ]
    },
    {
     "name": "stdout",
     "output_type": "stream",
     "text": [
      "[2023-10-28 13:59:50,250: INFO: ingestion: Download PTTGC.BK]\n"
     ]
    },
    {
     "name": "stderr",
     "output_type": "stream",
     "text": [
      " 63%|██████▎   | 425/677 [02:48<01:38,  2.55it/s]"
     ]
    },
    {
     "name": "stdout",
     "output_type": "stream",
     "text": [
      "[2023-10-28 13:59:50,642: INFO: ingestion: Download PYLON.BK]\n"
     ]
    },
    {
     "name": "stderr",
     "output_type": "stream",
     "text": [
      " 63%|██████▎   | 426/677 [02:48<01:38,  2.55it/s]"
     ]
    },
    {
     "name": "stdout",
     "output_type": "stream",
     "text": [
      "[2023-10-28 13:59:51,022: INFO: ingestion: Download Q-CON.BK]\n"
     ]
    },
    {
     "name": "stderr",
     "output_type": "stream",
     "text": [
      " 63%|██████▎   | 427/677 [02:49<01:37,  2.57it/s]"
     ]
    },
    {
     "name": "stdout",
     "output_type": "stream",
     "text": [
      "[2023-10-28 13:59:51,423: INFO: ingestion: Download QH.BK]\n"
     ]
    },
    {
     "name": "stderr",
     "output_type": "stream",
     "text": [
      " 63%|██████▎   | 428/677 [02:49<01:37,  2.55it/s]"
     ]
    },
    {
     "name": "stdout",
     "output_type": "stream",
     "text": [
      "[2023-10-28 13:59:51,808: INFO: ingestion: Download QHHR.BK]\n"
     ]
    },
    {
     "name": "stderr",
     "output_type": "stream",
     "text": [
      " 63%|██████▎   | 429/677 [02:49<01:36,  2.56it/s]"
     ]
    },
    {
     "name": "stdout",
     "output_type": "stream",
     "text": [
      "[2023-10-28 13:59:52,202: INFO: ingestion: Download QHOP.BK]\n"
     ]
    },
    {
     "name": "stderr",
     "output_type": "stream",
     "text": [
      " 64%|██████▎   | 430/677 [02:50<01:36,  2.55it/s]"
     ]
    },
    {
     "name": "stdout",
     "output_type": "stream",
     "text": [
      "[2023-10-28 13:59:52,582: INFO: ingestion: Download QHPF.BK]\n"
     ]
    },
    {
     "name": "stderr",
     "output_type": "stream",
     "text": [
      " 64%|██████▎   | 431/677 [02:50<01:35,  2.58it/s]"
     ]
    },
    {
     "name": "stdout",
     "output_type": "stream",
     "text": [
      "[2023-10-28 13:59:52,963: INFO: ingestion: Download QTC.BK]\n"
     ]
    },
    {
     "name": "stderr",
     "output_type": "stream",
     "text": [
      " 64%|██████▍   | 432/677 [02:51<01:34,  2.59it/s]"
     ]
    },
    {
     "name": "stdout",
     "output_type": "stream",
     "text": [
      "[2023-10-28 13:59:53,385: INFO: ingestion: Download RAM.BK]\n"
     ]
    },
    {
     "name": "stderr",
     "output_type": "stream",
     "text": [
      " 64%|██████▍   | 433/677 [02:51<01:36,  2.52it/s]"
     ]
    },
    {
     "name": "stdout",
     "output_type": "stream",
     "text": [
      "[2023-10-28 13:59:53,788: INFO: ingestion: Download RATCH.BK]\n"
     ]
    },
    {
     "name": "stderr",
     "output_type": "stream",
     "text": [
      " 64%|██████▍   | 434/677 [02:51<01:36,  2.51it/s]"
     ]
    },
    {
     "name": "stdout",
     "output_type": "stream",
     "text": [
      "[2023-10-28 13:59:54,153: INFO: ingestion: Download RBF.BK]\n"
     ]
    },
    {
     "name": "stderr",
     "output_type": "stream",
     "text": [
      " 64%|██████▍   | 435/677 [02:52<01:34,  2.57it/s]"
     ]
    },
    {
     "name": "stdout",
     "output_type": "stream",
     "text": [
      "[2023-10-28 13:59:54,565: INFO: ingestion: Download RCL.BK]\n"
     ]
    },
    {
     "name": "stderr",
     "output_type": "stream",
     "text": [
      " 64%|██████▍   | 436/677 [02:52<01:35,  2.53it/s]"
     ]
    },
    {
     "name": "stdout",
     "output_type": "stream",
     "text": [
      "[2023-10-28 13:59:54,927: INFO: ingestion: Download RICHY.BK]\n"
     ]
    },
    {
     "name": "stderr",
     "output_type": "stream",
     "text": [
      " 65%|██████▍   | 437/677 [02:53<01:32,  2.59it/s]"
     ]
    },
    {
     "name": "stdout",
     "output_type": "stream",
     "text": [
      "[2023-10-28 13:59:55,286: INFO: ingestion: Download RJH.BK]\n"
     ]
    },
    {
     "name": "stderr",
     "output_type": "stream",
     "text": [
      " 65%|██████▍   | 438/677 [02:53<01:30,  2.65it/s]"
     ]
    },
    {
     "name": "stdout",
     "output_type": "stream",
     "text": [
      "[2023-10-28 13:59:55,689: INFO: ingestion: Download RML.BK]\n"
     ]
    },
    {
     "name": "stderr",
     "output_type": "stream",
     "text": [
      " 65%|██████▍   | 439/677 [02:53<01:31,  2.60it/s]"
     ]
    },
    {
     "name": "stdout",
     "output_type": "stream",
     "text": [
      "[2023-10-28 13:59:56,063: INFO: ingestion: Download ROCK.BK]\n"
     ]
    },
    {
     "name": "stderr",
     "output_type": "stream",
     "text": [
      " 65%|██████▍   | 440/677 [02:54<01:30,  2.62it/s]"
     ]
    },
    {
     "name": "stdout",
     "output_type": "stream",
     "text": [
      "[2023-10-28 13:59:56,464: INFO: ingestion: Download ROH.BK]\n"
     ]
    },
    {
     "name": "stderr",
     "output_type": "stream",
     "text": [
      " 65%|██████▌   | 441/677 [02:54<01:31,  2.58it/s]"
     ]
    },
    {
     "name": "stdout",
     "output_type": "stream",
     "text": [
      "[2023-10-28 13:59:56,897: INFO: ingestion: Download ROJNA.BK]\n"
     ]
    },
    {
     "name": "stderr",
     "output_type": "stream",
     "text": [
      " 65%|██████▌   | 442/677 [02:55<01:34,  2.49it/s]"
     ]
    },
    {
     "name": "stdout",
     "output_type": "stream",
     "text": [
      "[2023-10-28 13:59:57,406: INFO: ingestion: Download RPC.BK]\n"
     ]
    },
    {
     "name": "stderr",
     "output_type": "stream",
     "text": [
      " 65%|██████▌   | 443/677 [02:55<01:41,  2.31it/s]"
     ]
    },
    {
     "name": "stdout",
     "output_type": "stream",
     "text": [
      "[2023-10-28 13:59:57,880: INFO: ingestion: Download RPH.BK]\n"
     ]
    },
    {
     "name": "stderr",
     "output_type": "stream",
     "text": [
      " 66%|██████▌   | 444/677 [02:56<01:43,  2.24it/s]"
     ]
    },
    {
     "name": "stdout",
     "output_type": "stream",
     "text": [
      "[2023-10-28 13:59:58,302: INFO: ingestion: Download RS.BK]\n"
     ]
    },
    {
     "name": "stderr",
     "output_type": "stream",
     "text": [
      " 66%|██████▌   | 445/677 [02:56<01:41,  2.28it/s]"
     ]
    },
    {
     "name": "stdout",
     "output_type": "stream",
     "text": [
      "[2023-10-28 13:59:58,693: INFO: ingestion: Download RSP.BK]\n"
     ]
    },
    {
     "name": "stderr",
     "output_type": "stream",
     "text": [
      " 66%|██████▌   | 446/677 [02:56<01:38,  2.36it/s]"
     ]
    },
    {
     "name": "stdout",
     "output_type": "stream",
     "text": [
      "[2023-10-28 13:59:59,047: INFO: ingestion: Download RT.BK]\n"
     ]
    },
    {
     "name": "stderr",
     "output_type": "stream",
     "text": [
      " 66%|██████▌   | 447/677 [02:57<01:32,  2.48it/s]"
     ]
    },
    {
     "name": "stdout",
     "output_type": "stream",
     "text": [
      "[2023-10-28 13:59:59,447: INFO: ingestion: Download S.BK]\n"
     ]
    },
    {
     "name": "stderr",
     "output_type": "stream",
     "text": [
      " 66%|██████▌   | 448/677 [02:57<01:32,  2.48it/s]"
     ]
    },
    {
     "name": "stdout",
     "output_type": "stream",
     "text": [
      "[2023-10-28 13:59:59,839: INFO: ingestion: Download S&J.BK]\n"
     ]
    },
    {
     "name": "stderr",
     "output_type": "stream",
     "text": [
      " 66%|██████▋   | 449/677 [02:57<01:31,  2.50it/s]"
     ]
    },
    {
     "name": "stdout",
     "output_type": "stream",
     "text": [
      "[2023-10-28 14:00:00,251: INFO: ingestion: Download S11.BK]\n"
     ]
    },
    {
     "name": "stderr",
     "output_type": "stream",
     "text": [
      " 66%|██████▋   | 450/677 [02:58<01:31,  2.48it/s]"
     ]
    },
    {
     "name": "stdout",
     "output_type": "stream",
     "text": [
      "[2023-10-28 14:00:00,591: INFO: ingestion: Download SA.BK]\n"
     ]
    },
    {
     "name": "stderr",
     "output_type": "stream",
     "text": [
      " 67%|██████▋   | 451/677 [02:58<01:26,  2.60it/s]"
     ]
    },
    {
     "name": "stdout",
     "output_type": "stream",
     "text": [
      "[2023-10-28 14:00:01,001: INFO: ingestion: Download SABINA.BK]\n"
     ]
    },
    {
     "name": "stderr",
     "output_type": "stream",
     "text": [
      " 67%|██████▋   | 452/677 [02:59<01:28,  2.55it/s]"
     ]
    },
    {
     "name": "stdout",
     "output_type": "stream",
     "text": [
      "[2023-10-28 14:00:01,341: INFO: ingestion: Download SABUY.BK]\n"
     ]
    },
    {
     "name": "stderr",
     "output_type": "stream",
     "text": [
      " 67%|██████▋   | 453/677 [02:59<01:24,  2.66it/s]"
     ]
    },
    {
     "name": "stdout",
     "output_type": "stream",
     "text": [
      "[2023-10-28 14:00:02,677: INFO: ingestion: Download SAFARI.BK]\n"
     ]
    },
    {
     "name": "stderr",
     "output_type": "stream",
     "text": [
      " 67%|██████▋   | 454/677 [03:00<02:28,  1.51it/s]"
     ]
    },
    {
     "name": "stdout",
     "output_type": "stream",
     "text": [
      "[2023-10-28 14:00:03,043: INFO: ingestion: Download SAK.BK]\n"
     ]
    },
    {
     "name": "stderr",
     "output_type": "stream",
     "text": [
      " 67%|██████▋   | 455/677 [03:01<02:07,  1.74it/s]"
     ]
    },
    {
     "name": "stdout",
     "output_type": "stream",
     "text": [
      "[2023-10-28 14:00:03,451: INFO: ingestion: Download SAM.BK]\n"
     ]
    },
    {
     "name": "stderr",
     "output_type": "stream",
     "text": [
      " 67%|██████▋   | 456/677 [03:01<01:55,  1.91it/s]"
     ]
    },
    {
     "name": "stdout",
     "output_type": "stream",
     "text": [
      "[2023-10-28 14:00:03,905: INFO: ingestion: Download SAMART.BK]\n"
     ]
    },
    {
     "name": "stderr",
     "output_type": "stream",
     "text": [
      " 68%|██████▊   | 457/677 [03:02<01:50,  1.99it/s]"
     ]
    },
    {
     "name": "stdout",
     "output_type": "stream",
     "text": [
      "[2023-10-28 14:00:04,315: INFO: ingestion: Download SAMCO.BK]\n"
     ]
    },
    {
     "name": "stderr",
     "output_type": "stream",
     "text": [
      " 68%|██████▊   | 458/677 [03:02<01:44,  2.10it/s]"
     ]
    },
    {
     "name": "stdout",
     "output_type": "stream",
     "text": [
      "[2023-10-28 14:00:04,736: INFO: ingestion: Download SAMTEL.BK]\n"
     ]
    },
    {
     "name": "stderr",
     "output_type": "stream",
     "text": [
      " 68%|██████▊   | 459/677 [03:02<01:40,  2.18it/s]"
     ]
    },
    {
     "name": "stdout",
     "output_type": "stream",
     "text": [
      "[2023-10-28 14:00:05,115: INFO: ingestion: Download SAPPE.BK]\n"
     ]
    },
    {
     "name": "stderr",
     "output_type": "stream",
     "text": [
      " 68%|██████▊   | 460/677 [03:03<01:34,  2.30it/s]"
     ]
    },
    {
     "name": "stdout",
     "output_type": "stream",
     "text": [
      "[2023-10-28 14:00:05,495: INFO: ingestion: Download SAT.BK]\n"
     ]
    },
    {
     "name": "stderr",
     "output_type": "stream",
     "text": [
      " 68%|██████▊   | 461/677 [03:03<01:30,  2.39it/s]"
     ]
    },
    {
     "name": "stdout",
     "output_type": "stream",
     "text": [
      "[2023-10-28 14:00:05,915: INFO: ingestion: Download SAUCE.BK]\n"
     ]
    },
    {
     "name": "stderr",
     "output_type": "stream",
     "text": [
      " 68%|██████▊   | 462/677 [03:04<01:30,  2.39it/s]"
     ]
    },
    {
     "name": "stdout",
     "output_type": "stream",
     "text": [
      "[2023-10-28 14:00:06,306: INFO: ingestion: Download SAWAD.BK]\n"
     ]
    },
    {
     "name": "stderr",
     "output_type": "stream",
     "text": [
      " 68%|██████▊   | 463/677 [03:04<01:27,  2.44it/s]"
     ]
    },
    {
     "name": "stdout",
     "output_type": "stream",
     "text": [
      "[2023-10-28 14:00:06,694: INFO: ingestion: Download SAWANG.BK]\n"
     ]
    },
    {
     "name": "stderr",
     "output_type": "stream",
     "text": [
      " 69%|██████▊   | 464/677 [03:04<01:26,  2.48it/s]"
     ]
    },
    {
     "name": "stdout",
     "output_type": "stream",
     "text": [
      "[2023-10-28 14:00:07,087: INFO: ingestion: Download SC.BK]\n"
     ]
    },
    {
     "name": "stderr",
     "output_type": "stream",
     "text": [
      " 69%|██████▊   | 465/677 [03:05<01:24,  2.50it/s]"
     ]
    },
    {
     "name": "stdout",
     "output_type": "stream",
     "text": [
      "[2023-10-28 14:00:07,522: INFO: ingestion: Download SCAP.BK]\n"
     ]
    },
    {
     "name": "stderr",
     "output_type": "stream",
     "text": [
      " 69%|██████▉   | 466/677 [03:05<01:26,  2.43it/s]"
     ]
    },
    {
     "name": "stdout",
     "output_type": "stream",
     "text": [
      "[2023-10-28 14:00:07,836: INFO: ingestion: Download SCB.BK]\n"
     ]
    },
    {
     "name": "stderr",
     "output_type": "stream",
     "text": [
      " 69%|██████▉   | 467/677 [03:05<01:20,  2.62it/s]"
     ]
    },
    {
     "name": "stdout",
     "output_type": "stream",
     "text": [
      "[2023-10-28 14:00:08,305: INFO: ingestion: Download SCC.BK]\n"
     ]
    },
    {
     "name": "stderr",
     "output_type": "stream",
     "text": [
      " 69%|██████▉   | 468/677 [03:06<01:25,  2.45it/s]"
     ]
    },
    {
     "name": "stdout",
     "output_type": "stream",
     "text": [
      "[2023-10-28 14:00:08,776: INFO: ingestion: Download SCCC.BK]\n"
     ]
    },
    {
     "name": "stderr",
     "output_type": "stream",
     "text": [
      " 69%|██████▉   | 469/677 [03:06<01:28,  2.34it/s]"
     ]
    },
    {
     "name": "stdout",
     "output_type": "stream",
     "text": [
      "[2023-10-28 14:00:09,204: INFO: ingestion: Download SCG.BK]\n"
     ]
    },
    {
     "name": "stderr",
     "output_type": "stream",
     "text": [
      " 69%|██████▉   | 470/677 [03:07<01:28,  2.34it/s]"
     ]
    },
    {
     "name": "stdout",
     "output_type": "stream",
     "text": [
      "[2023-10-28 14:00:09,575: INFO: ingestion: Download SCGP.BK]\n"
     ]
    },
    {
     "name": "stderr",
     "output_type": "stream",
     "text": [
      " 70%|██████▉   | 471/677 [03:07<01:24,  2.44it/s]"
     ]
    },
    {
     "name": "stdout",
     "output_type": "stream",
     "text": [
      "[2023-10-28 14:00:09,950: INFO: ingestion: Download SCI.BK]\n"
     ]
    },
    {
     "name": "stderr",
     "output_type": "stream",
     "text": [
      " 70%|██████▉   | 472/677 [03:08<01:21,  2.50it/s]"
     ]
    },
    {
     "name": "stdout",
     "output_type": "stream",
     "text": [
      "[2023-10-28 14:00:10,295: INFO: ingestion: Download SCM.BK]\n"
     ]
    },
    {
     "name": "stderr",
     "output_type": "stream",
     "text": [
      " 70%|██████▉   | 473/677 [03:08<01:18,  2.61it/s]"
     ]
    },
    {
     "name": "stdout",
     "output_type": "stream",
     "text": [
      "[2023-10-28 14:00:10,671: INFO: ingestion: Download SCN.BK]\n"
     ]
    },
    {
     "name": "stderr",
     "output_type": "stream",
     "text": [
      " 70%|███████   | 474/677 [03:08<01:17,  2.62it/s]"
     ]
    },
    {
     "name": "stdout",
     "output_type": "stream",
     "text": [
      "[2023-10-28 14:00:11,093: INFO: ingestion: Download SCP.BK]\n"
     ]
    },
    {
     "name": "stderr",
     "output_type": "stream",
     "text": [
      " 70%|███████   | 475/677 [03:09<01:19,  2.54it/s]"
     ]
    },
    {
     "name": "stdout",
     "output_type": "stream",
     "text": [
      "[2023-10-28 14:00:11,494: INFO: ingestion: Download SDC.BK]\n"
     ]
    },
    {
     "name": "stderr",
     "output_type": "stream",
     "text": [
      " 70%|███████   | 476/677 [03:09<01:19,  2.53it/s]"
     ]
    },
    {
     "name": "stdout",
     "output_type": "stream",
     "text": [
      "[2023-10-28 14:00:11,908: INFO: ingestion: Download SE-ED.BK]\n"
     ]
    },
    {
     "name": "stderr",
     "output_type": "stream",
     "text": [
      " 70%|███████   | 477/677 [03:10<01:20,  2.49it/s]"
     ]
    },
    {
     "name": "stdout",
     "output_type": "stream",
     "text": [
      "[2023-10-28 14:00:12,339: INFO: ingestion: Download SEAFCO.BK]\n"
     ]
    },
    {
     "name": "stderr",
     "output_type": "stream",
     "text": [
      " 71%|███████   | 478/677 [03:10<01:21,  2.44it/s]"
     ]
    },
    {
     "name": "stdout",
     "output_type": "stream",
     "text": [
      "[2023-10-28 14:00:12,756: INFO: ingestion: Download SENA.BK]\n"
     ]
    },
    {
     "name": "stderr",
     "output_type": "stream",
     "text": [
      " 71%|███████   | 479/677 [03:10<01:21,  2.43it/s]"
     ]
    },
    {
     "name": "stdout",
     "output_type": "stream",
     "text": [
      "[2023-10-28 14:00:13,172: INFO: ingestion: Download SFLEX.BK]\n"
     ]
    },
    {
     "name": "stderr",
     "output_type": "stream",
     "text": [
      " 71%|███████   | 480/677 [03:11<01:21,  2.42it/s]"
     ]
    },
    {
     "name": "stdout",
     "output_type": "stream",
     "text": [
      "[2023-10-28 14:00:13,455: ERROR: base: SFP.BK: No data found, symbol may be delisted]\n",
      "[2023-10-28 14:00:13,456: INFO: ingestion: Download SFP.BK]\n"
     ]
    },
    {
     "name": "stderr",
     "output_type": "stream",
     "text": [
      " 71%|███████   | 481/677 [03:11<01:13,  2.67it/s]"
     ]
    },
    {
     "name": "stdout",
     "output_type": "stream",
     "text": [
      "[2023-10-28 14:00:13,838: INFO: ingestion: Download SGP.BK]\n"
     ]
    },
    {
     "name": "stderr",
     "output_type": "stream",
     "text": [
      " 71%|███████   | 482/677 [03:11<01:13,  2.65it/s]"
     ]
    },
    {
     "name": "stdout",
     "output_type": "stream",
     "text": [
      "[2023-10-28 14:00:14,254: INFO: ingestion: Download SHANG.BK]\n"
     ]
    },
    {
     "name": "stderr",
     "output_type": "stream",
     "text": [
      " 71%|███████▏  | 483/677 [03:12<01:15,  2.57it/s]"
     ]
    },
    {
     "name": "stdout",
     "output_type": "stream",
     "text": [
      "[2023-10-28 14:00:14,613: INFO: ingestion: Download SHR.BK]\n"
     ]
    },
    {
     "name": "stderr",
     "output_type": "stream",
     "text": [
      " 71%|███████▏  | 484/677 [03:12<01:13,  2.63it/s]"
     ]
    },
    {
     "name": "stdout",
     "output_type": "stream",
     "text": [
      "[2023-10-28 14:00:14,916: ERROR: base: SHREIT.BK: No data found, symbol may be delisted]\n",
      "[2023-10-28 14:00:14,917: INFO: ingestion: Download SHREIT.BK]\n"
     ]
    },
    {
     "name": "stderr",
     "output_type": "stream",
     "text": [
      " 72%|███████▏  | 485/677 [03:13<01:08,  2.80it/s]"
     ]
    },
    {
     "name": "stdout",
     "output_type": "stream",
     "text": [
      "[2023-10-28 14:00:15,359: INFO: ingestion: Download SIAM.BK]\n"
     ]
    },
    {
     "name": "stderr",
     "output_type": "stream",
     "text": [
      " 72%|███████▏  | 486/677 [03:13<01:13,  2.62it/s]"
     ]
    },
    {
     "name": "stdout",
     "output_type": "stream",
     "text": [
      "[2023-10-28 14:00:15,782: INFO: ingestion: Download SINGER.BK]\n"
     ]
    },
    {
     "name": "stderr",
     "output_type": "stream",
     "text": [
      " 72%|███████▏  | 487/677 [03:13<01:14,  2.53it/s]"
     ]
    },
    {
     "name": "stdout",
     "output_type": "stream",
     "text": [
      "[2023-10-28 14:00:16,203: INFO: ingestion: Download SIRI.BK]\n"
     ]
    },
    {
     "name": "stderr",
     "output_type": "stream",
     "text": [
      " 72%|███████▏  | 488/677 [03:14<01:16,  2.48it/s]"
     ]
    },
    {
     "name": "stdout",
     "output_type": "stream",
     "text": [
      "[2023-10-28 14:00:16,560: INFO: ingestion: Download SIRIP.BK]\n"
     ]
    },
    {
     "name": "stderr",
     "output_type": "stream",
     "text": [
      " 72%|███████▏  | 489/677 [03:14<01:13,  2.57it/s]"
     ]
    },
    {
     "name": "stdout",
     "output_type": "stream",
     "text": [
      "[2023-10-28 14:00:16,980: INFO: ingestion: Download SIS.BK]\n"
     ]
    },
    {
     "name": "stderr",
     "output_type": "stream",
     "text": [
      " 72%|███████▏  | 490/677 [03:15<01:14,  2.51it/s]"
     ]
    },
    {
     "name": "stdout",
     "output_type": "stream",
     "text": [
      "[2023-10-28 14:00:17,339: INFO: ingestion: Download SISB.BK]\n"
     ]
    },
    {
     "name": "stderr",
     "output_type": "stream",
     "text": [
      " 73%|███████▎  | 491/677 [03:15<01:11,  2.59it/s]"
     ]
    },
    {
     "name": "stdout",
     "output_type": "stream",
     "text": [
      "[2023-10-28 14:00:17,748: INFO: ingestion: Download SITHAI.BK]\n"
     ]
    },
    {
     "name": "stderr",
     "output_type": "stream",
     "text": [
      " 73%|███████▎  | 492/677 [03:15<01:12,  2.54it/s]"
     ]
    },
    {
     "name": "stdout",
     "output_type": "stream",
     "text": [
      "[2023-10-28 14:00:18,109: INFO: ingestion: Download SKE.BK]\n"
     ]
    },
    {
     "name": "stderr",
     "output_type": "stream",
     "text": [
      " 73%|███████▎  | 493/677 [03:16<01:10,  2.61it/s]"
     ]
    },
    {
     "name": "stdout",
     "output_type": "stream",
     "text": [
      "[2023-10-28 14:00:18,505: INFO: ingestion: Download SKN.BK]\n"
     ]
    },
    {
     "name": "stderr",
     "output_type": "stream",
     "text": [
      " 73%|███████▎  | 494/677 [03:16<01:10,  2.58it/s]"
     ]
    },
    {
     "name": "stdout",
     "output_type": "stream",
     "text": [
      "[2023-10-28 14:00:18,998: INFO: ingestion: Download SKR.BK]\n"
     ]
    },
    {
     "name": "stderr",
     "output_type": "stream",
     "text": [
      " 73%|███████▎  | 495/677 [03:17<01:16,  2.39it/s]"
     ]
    },
    {
     "name": "stdout",
     "output_type": "stream",
     "text": [
      "[2023-10-28 14:00:19,391: INFO: ingestion: Download SKY.BK]\n"
     ]
    },
    {
     "name": "stderr",
     "output_type": "stream",
     "text": [
      " 73%|███████▎  | 496/677 [03:17<01:14,  2.43it/s]"
     ]
    },
    {
     "name": "stdout",
     "output_type": "stream",
     "text": [
      "[2023-10-28 14:00:19,751: INFO: ingestion: Download SLP.BK]\n"
     ]
    },
    {
     "name": "stderr",
     "output_type": "stream",
     "text": [
      " 73%|███████▎  | 497/677 [03:17<01:11,  2.53it/s]"
     ]
    },
    {
     "name": "stdout",
     "output_type": "stream",
     "text": [
      "[2023-10-28 14:00:20,132: INFO: ingestion: Download SMIT.BK]\n"
     ]
    },
    {
     "name": "stderr",
     "output_type": "stream",
     "text": [
      " 74%|███████▎  | 498/677 [03:18<01:10,  2.56it/s]"
     ]
    },
    {
     "name": "stdout",
     "output_type": "stream",
     "text": [
      "[2023-10-28 14:00:20,559: INFO: ingestion: Download SMK.BK]\n"
     ]
    },
    {
     "name": "stderr",
     "output_type": "stream",
     "text": [
      " 74%|███████▎  | 499/677 [03:18<01:11,  2.49it/s]"
     ]
    },
    {
     "name": "stdout",
     "output_type": "stream",
     "text": [
      "[2023-10-28 14:00:21,027: INFO: ingestion: Download SMPC.BK]\n"
     ]
    },
    {
     "name": "stderr",
     "output_type": "stream",
     "text": [
      " 74%|███████▍  | 500/677 [03:19<01:14,  2.37it/s]"
     ]
    },
    {
     "name": "stdout",
     "output_type": "stream",
     "text": [
      "[2023-10-28 14:00:21,480: INFO: ingestion: Download SMT.BK]\n"
     ]
    },
    {
     "name": "stderr",
     "output_type": "stream",
     "text": [
      " 74%|███████▍  | 501/677 [03:19<01:15,  2.32it/s]"
     ]
    },
    {
     "name": "stdout",
     "output_type": "stream",
     "text": [
      "[2023-10-28 14:00:21,895: INFO: ingestion: Download SNC.BK]\n"
     ]
    },
    {
     "name": "stderr",
     "output_type": "stream",
     "text": [
      " 74%|███████▍  | 502/677 [03:20<01:14,  2.35it/s]"
     ]
    },
    {
     "name": "stdout",
     "output_type": "stream",
     "text": [
      "[2023-10-28 14:00:22,259: INFO: ingestion: Download SNNP.BK]\n"
     ]
    },
    {
     "name": "stderr",
     "output_type": "stream",
     "text": [
      " 74%|███████▍  | 503/677 [03:20<01:10,  2.45it/s]"
     ]
    },
    {
     "name": "stdout",
     "output_type": "stream",
     "text": [
      "[2023-10-28 14:00:22,734: INFO: ingestion: Download SNP.BK]\n"
     ]
    },
    {
     "name": "stderr",
     "output_type": "stream",
     "text": [
      " 74%|███████▍  | 504/677 [03:20<01:14,  2.34it/s]"
     ]
    },
    {
     "name": "stdout",
     "output_type": "stream",
     "text": [
      "[2023-10-28 14:00:23,125: INFO: ingestion: Download SO.BK]\n"
     ]
    },
    {
     "name": "stderr",
     "output_type": "stream",
     "text": [
      " 75%|███████▍  | 505/677 [03:21<01:11,  2.40it/s]"
     ]
    },
    {
     "name": "stdout",
     "output_type": "stream",
     "text": [
      "[2023-10-28 14:00:23,551: INFO: ingestion: Download SOLAR.BK]\n"
     ]
    },
    {
     "name": "stderr",
     "output_type": "stream",
     "text": [
      " 75%|███████▍  | 506/677 [03:21<01:11,  2.38it/s]"
     ]
    },
    {
     "name": "stdout",
     "output_type": "stream",
     "text": [
      "[2023-10-28 14:00:24,037: INFO: ingestion: Download SORKON.BK]\n"
     ]
    },
    {
     "name": "stderr",
     "output_type": "stream",
     "text": [
      " 75%|███████▍  | 507/677 [03:22<01:14,  2.28it/s]"
     ]
    },
    {
     "name": "stdout",
     "output_type": "stream",
     "text": [
      "[2023-10-28 14:00:24,463: INFO: ingestion: Download SPACK.BK]\n"
     ]
    },
    {
     "name": "stderr",
     "output_type": "stream",
     "text": [
      " 75%|███████▌  | 508/677 [03:22<01:13,  2.30it/s]"
     ]
    },
    {
     "name": "stdout",
     "output_type": "stream",
     "text": [
      "[2023-10-28 14:00:24,923: INFO: ingestion: Download SPALI.BK]\n"
     ]
    },
    {
     "name": "stderr",
     "output_type": "stream",
     "text": [
      " 75%|███████▌  | 509/677 [03:23<01:14,  2.26it/s]"
     ]
    },
    {
     "name": "stdout",
     "output_type": "stream",
     "text": [
      "[2023-10-28 14:00:25,381: INFO: ingestion: Download SPC.BK]\n"
     ]
    },
    {
     "name": "stderr",
     "output_type": "stream",
     "text": [
      " 75%|███████▌  | 510/677 [03:23<01:14,  2.24it/s]"
     ]
    },
    {
     "name": "stdout",
     "output_type": "stream",
     "text": [
      "[2023-10-28 14:00:25,811: INFO: ingestion: Download SPCG.BK]\n"
     ]
    },
    {
     "name": "stderr",
     "output_type": "stream",
     "text": [
      " 75%|███████▌  | 511/677 [03:23<01:13,  2.26it/s]"
     ]
    },
    {
     "name": "stdout",
     "output_type": "stream",
     "text": [
      "[2023-10-28 14:00:26,241: INFO: ingestion: Download SPG.BK]\n"
     ]
    },
    {
     "name": "stderr",
     "output_type": "stream",
     "text": [
      " 76%|███████▌  | 512/677 [03:24<01:12,  2.28it/s]"
     ]
    },
    {
     "name": "stdout",
     "output_type": "stream",
     "text": [
      "[2023-10-28 14:00:26,666: INFO: ingestion: Download SPI.BK]\n"
     ]
    },
    {
     "name": "stderr",
     "output_type": "stream",
     "text": [
      " 76%|███████▌  | 513/677 [03:24<01:11,  2.30it/s]"
     ]
    },
    {
     "name": "stdout",
     "output_type": "stream",
     "text": [
      "[2023-10-28 14:00:27,047: INFO: ingestion: Download SPRC.BK]\n"
     ]
    },
    {
     "name": "stderr",
     "output_type": "stream",
     "text": [
      " 76%|███████▌  | 514/677 [03:25<01:08,  2.39it/s]"
     ]
    },
    {
     "name": "stdout",
     "output_type": "stream",
     "text": [
      "[2023-10-28 14:00:27,430: INFO: ingestion: Download SPRIME.BK]\n"
     ]
    },
    {
     "name": "stderr",
     "output_type": "stream",
     "text": [
      " 76%|███████▌  | 515/677 [03:25<01:06,  2.45it/s]"
     ]
    },
    {
     "name": "stdout",
     "output_type": "stream",
     "text": [
      "[2023-10-28 14:00:27,832: INFO: ingestion: Download SQ.BK]\n"
     ]
    },
    {
     "name": "stderr",
     "output_type": "stream",
     "text": [
      " 76%|███████▌  | 516/677 [03:25<01:05,  2.46it/s]"
     ]
    },
    {
     "name": "stdout",
     "output_type": "stream",
     "text": [
      "[2023-10-28 14:00:28,232: INFO: ingestion: Download SRICHA.BK]\n"
     ]
    },
    {
     "name": "stderr",
     "output_type": "stream",
     "text": [
      " 76%|███████▋  | 517/677 [03:26<01:04,  2.47it/s]"
     ]
    },
    {
     "name": "stdout",
     "output_type": "stream",
     "text": [
      "[2023-10-28 14:00:28,630: INFO: ingestion: Download SRIPANWA.BK]\n"
     ]
    },
    {
     "name": "stderr",
     "output_type": "stream",
     "text": [
      " 77%|███████▋  | 518/677 [03:26<01:03,  2.48it/s]"
     ]
    },
    {
     "name": "stdout",
     "output_type": "stream",
     "text": [
      "[2023-10-28 14:00:29,095: INFO: ingestion: Download SSC.BK]\n"
     ]
    },
    {
     "name": "stderr",
     "output_type": "stream",
     "text": [
      " 77%|███████▋  | 519/677 [03:27<01:06,  2.37it/s]"
     ]
    },
    {
     "name": "stdout",
     "output_type": "stream",
     "text": [
      "[2023-10-28 14:00:29,519: INFO: ingestion: Download SSF.BK]\n"
     ]
    },
    {
     "name": "stderr",
     "output_type": "stream",
     "text": [
      " 77%|███████▋  | 520/677 [03:27<01:06,  2.37it/s]"
     ]
    },
    {
     "name": "stdout",
     "output_type": "stream",
     "text": [
      "[2023-10-28 14:00:29,902: INFO: ingestion: Download SSP.BK]\n"
     ]
    },
    {
     "name": "stderr",
     "output_type": "stream",
     "text": [
      " 77%|███████▋  | 521/677 [03:28<01:03,  2.44it/s]"
     ]
    },
    {
     "name": "stdout",
     "output_type": "stream",
     "text": [
      "[2023-10-28 14:00:30,217: INFO: ingestion: Download SSPF.BK]\n"
     ]
    },
    {
     "name": "stderr",
     "output_type": "stream",
     "text": [
      " 77%|███████▋  | 522/677 [03:28<00:59,  2.62it/s]"
     ]
    },
    {
     "name": "stdout",
     "output_type": "stream",
     "text": [
      "[2023-10-28 14:00:31,624: INFO: ingestion: Download SSSC.BK]\n"
     ]
    },
    {
     "name": "stderr",
     "output_type": "stream",
     "text": [
      " 77%|███████▋  | 523/677 [03:29<01:46,  1.45it/s]"
     ]
    },
    {
     "name": "stdout",
     "output_type": "stream",
     "text": [
      "[2023-10-28 14:00:32,035: INFO: ingestion: Download SST.BK]\n"
     ]
    },
    {
     "name": "stderr",
     "output_type": "stream",
     "text": [
      " 77%|███████▋  | 524/677 [03:30<01:32,  1.65it/s]"
     ]
    },
    {
     "name": "stdout",
     "output_type": "stream",
     "text": [
      "[2023-10-28 14:00:32,444: INFO: ingestion: Download SSTRT.BK]\n"
     ]
    },
    {
     "name": "stderr",
     "output_type": "stream",
     "text": [
      " 78%|███████▊  | 525/677 [03:30<01:23,  1.83it/s]"
     ]
    },
    {
     "name": "stdout",
     "output_type": "stream",
     "text": [
      "[2023-10-28 14:00:32,845: INFO: ingestion: Download STA.BK]\n"
     ]
    },
    {
     "name": "stderr",
     "output_type": "stream",
     "text": [
      " 78%|███████▊  | 526/677 [03:30<01:15,  1.99it/s]"
     ]
    },
    {
     "name": "stdout",
     "output_type": "stream",
     "text": [
      "[2023-10-28 14:00:33,264: INFO: ingestion: Download STANLY.BK]\n"
     ]
    },
    {
     "name": "stderr",
     "output_type": "stream",
     "text": [
      " 78%|███████▊  | 527/677 [03:31<01:11,  2.09it/s]"
     ]
    },
    {
     "name": "stdout",
     "output_type": "stream",
     "text": [
      "[2023-10-28 14:00:33,655: INFO: ingestion: Download STARK.BK]\n"
     ]
    },
    {
     "name": "stderr",
     "output_type": "stream",
     "text": [
      " 78%|███████▊  | 528/677 [03:31<01:07,  2.21it/s]"
     ]
    },
    {
     "name": "stdout",
     "output_type": "stream",
     "text": [
      "[2023-10-28 14:00:34,065: INFO: ingestion: Download STEC.BK]\n"
     ]
    },
    {
     "name": "stderr",
     "output_type": "stream",
     "text": [
      " 78%|███████▊  | 529/677 [03:32<01:05,  2.28it/s]"
     ]
    },
    {
     "name": "stdout",
     "output_type": "stream",
     "text": [
      "[2023-10-28 14:00:34,382: INFO: ingestion: Download STECH.BK]\n"
     ]
    },
    {
     "name": "stderr",
     "output_type": "stream",
     "text": [
      " 78%|███████▊  | 530/677 [03:32<00:59,  2.48it/s]"
     ]
    },
    {
     "name": "stdout",
     "output_type": "stream",
     "text": [
      "[2023-10-28 14:00:34,745: INFO: ingestion: Download STGT.BK]\n"
     ]
    },
    {
     "name": "stderr",
     "output_type": "stream",
     "text": [
      " 78%|███████▊  | 531/677 [03:32<00:57,  2.56it/s]"
     ]
    },
    {
     "name": "stdout",
     "output_type": "stream",
     "text": [
      "[2023-10-28 14:00:35,049: INFO: ingestion: Download STHAI.BK]\n"
     ]
    },
    {
     "name": "stderr",
     "output_type": "stream",
     "text": [
      " 79%|███████▊  | 532/677 [03:33<00:52,  2.74it/s]"
     ]
    },
    {
     "name": "stdout",
     "output_type": "stream",
     "text": [
      "[2023-10-28 14:00:35,407: INFO: ingestion: Download STI.BK]\n"
     ]
    },
    {
     "name": "stderr",
     "output_type": "stream",
     "text": [
      " 79%|███████▊  | 533/677 [03:33<00:52,  2.76it/s]"
     ]
    },
    {
     "name": "stdout",
     "output_type": "stream",
     "text": [
      "[2023-10-28 14:00:35,818: INFO: ingestion: Download STPI.BK]\n"
     ]
    },
    {
     "name": "stderr",
     "output_type": "stream",
     "text": [
      " 79%|███████▉  | 534/677 [03:33<00:53,  2.65it/s]"
     ]
    },
    {
     "name": "stdout",
     "output_type": "stream",
     "text": [
      "[2023-10-28 14:00:36,218: INFO: ingestion: Download SUC.BK]\n"
     ]
    },
    {
     "name": "stderr",
     "output_type": "stream",
     "text": [
      " 79%|███████▉  | 535/677 [03:34<00:54,  2.61it/s]"
     ]
    },
    {
     "name": "stdout",
     "output_type": "stream",
     "text": [
      "[2023-10-28 14:00:36,599: INFO: ingestion: Download SUN.BK]\n"
     ]
    },
    {
     "name": "stderr",
     "output_type": "stream",
     "text": [
      " 79%|███████▉  | 536/677 [03:34<00:54,  2.61it/s]"
     ]
    },
    {
     "name": "stdout",
     "output_type": "stream",
     "text": [
      "[2023-10-28 14:00:36,977: INFO: ingestion: Download SUPER.BK]\n"
     ]
    },
    {
     "name": "stderr",
     "output_type": "stream",
     "text": [
      " 79%|███████▉  | 537/677 [03:35<00:53,  2.62it/s]"
     ]
    },
    {
     "name": "stdout",
     "output_type": "stream",
     "text": [
      "[2023-10-28 14:00:37,287: INFO: ingestion: Download SUPEREIF.BK]\n"
     ]
    },
    {
     "name": "stderr",
     "output_type": "stream",
     "text": [
      " 79%|███████▉  | 538/677 [03:35<00:50,  2.78it/s]"
     ]
    },
    {
     "name": "stdout",
     "output_type": "stream",
     "text": [
      "[2023-10-28 14:00:37,689: INFO: ingestion: Download SUSCO.BK]\n"
     ]
    },
    {
     "name": "stderr",
     "output_type": "stream",
     "text": [
      " 80%|███████▉  | 539/677 [03:35<00:51,  2.68it/s]"
     ]
    },
    {
     "name": "stdout",
     "output_type": "stream",
     "text": [
      "[2023-10-28 14:00:38,090: INFO: ingestion: Download SUTHA.BK]\n"
     ]
    },
    {
     "name": "stderr",
     "output_type": "stream",
     "text": [
      " 80%|███████▉  | 540/677 [03:36<00:52,  2.62it/s]"
     ]
    },
    {
     "name": "stdout",
     "output_type": "stream",
     "text": [
      "[2023-10-28 14:00:38,381: ERROR: base: SVH.BK: No data found, symbol may be delisted]\n",
      "[2023-10-28 14:00:38,381: INFO: ingestion: Download SVH.BK]\n"
     ]
    },
    {
     "name": "stderr",
     "output_type": "stream",
     "text": [
      " 80%|███████▉  | 541/677 [03:36<00:48,  2.82it/s]"
     ]
    },
    {
     "name": "stdout",
     "output_type": "stream",
     "text": [
      "[2023-10-28 14:00:38,809: INFO: ingestion: Download SVI.BK]\n"
     ]
    },
    {
     "name": "stderr",
     "output_type": "stream",
     "text": [
      " 80%|████████  | 542/677 [03:36<00:50,  2.66it/s]"
     ]
    },
    {
     "name": "stdout",
     "output_type": "stream",
     "text": [
      "[2023-10-28 14:00:39,231: INFO: ingestion: Download SVOA.BK]\n"
     ]
    },
    {
     "name": "stderr",
     "output_type": "stream",
     "text": [
      " 80%|████████  | 543/677 [03:37<00:52,  2.56it/s]"
     ]
    },
    {
     "name": "stdout",
     "output_type": "stream",
     "text": [
      "[2023-10-28 14:00:39,610: INFO: ingestion: Download SVT.BK]\n"
     ]
    },
    {
     "name": "stderr",
     "output_type": "stream",
     "text": [
      " 80%|████████  | 544/677 [03:37<00:51,  2.58it/s]"
     ]
    },
    {
     "name": "stdout",
     "output_type": "stream",
     "text": [
      "[2023-10-28 14:00:40,001: INFO: ingestion: Download SYMC.BK]\n"
     ]
    },
    {
     "name": "stderr",
     "output_type": "stream",
     "text": [
      " 81%|████████  | 545/677 [03:38<00:51,  2.58it/s]"
     ]
    },
    {
     "name": "stdout",
     "output_type": "stream",
     "text": [
      "[2023-10-28 14:00:40,396: INFO: ingestion: Download SYNEX.BK]\n"
     ]
    },
    {
     "name": "stderr",
     "output_type": "stream",
     "text": [
      " 81%|████████  | 546/677 [03:38<00:51,  2.56it/s]"
     ]
    },
    {
     "name": "stdout",
     "output_type": "stream",
     "text": [
      "[2023-10-28 14:00:40,815: INFO: ingestion: Download SYNTEC.BK]\n"
     ]
    },
    {
     "name": "stderr",
     "output_type": "stream",
     "text": [
      " 81%|████████  | 547/677 [03:38<00:51,  2.51it/s]"
     ]
    },
    {
     "name": "stdout",
     "output_type": "stream",
     "text": [
      "[2023-10-28 14:00:41,191: INFO: ingestion: Download TAE.BK]\n"
     ]
    },
    {
     "name": "stderr",
     "output_type": "stream",
     "text": [
      " 81%|████████  | 548/677 [03:39<00:50,  2.55it/s]"
     ]
    },
    {
     "name": "stdout",
     "output_type": "stream",
     "text": [
      "[2023-10-28 14:00:41,602: INFO: ingestion: Download TASCO.BK]\n"
     ]
    },
    {
     "name": "stderr",
     "output_type": "stream",
     "text": [
      " 81%|████████  | 549/677 [03:39<00:50,  2.52it/s]"
     ]
    },
    {
     "name": "stdout",
     "output_type": "stream",
     "text": [
      "[2023-10-28 14:00:42,014: INFO: ingestion: Download TC.BK]\n"
     ]
    },
    {
     "name": "stderr",
     "output_type": "stream",
     "text": [
      " 81%|████████  | 550/677 [03:40<00:51,  2.49it/s]"
     ]
    },
    {
     "name": "stdout",
     "output_type": "stream",
     "text": [
      "[2023-10-28 14:00:42,440: INFO: ingestion: Download TCAP.BK]\n"
     ]
    },
    {
     "name": "stderr",
     "output_type": "stream",
     "text": [
      " 81%|████████▏ | 551/677 [03:40<00:51,  2.44it/s]"
     ]
    },
    {
     "name": "stdout",
     "output_type": "stream",
     "text": [
      "[2023-10-28 14:00:42,855: INFO: ingestion: Download TCC.BK]\n"
     ]
    },
    {
     "name": "stderr",
     "output_type": "stream",
     "text": [
      " 82%|████████▏ | 552/677 [03:40<00:51,  2.43it/s]"
     ]
    },
    {
     "name": "stdout",
     "output_type": "stream",
     "text": [
      "[2023-10-28 14:00:43,161: INFO: ingestion: Download TCCC.BK]\n"
     ]
    },
    {
     "name": "stderr",
     "output_type": "stream",
     "text": [
      " 82%|████████▏ | 553/677 [03:41<00:47,  2.64it/s]"
     ]
    },
    {
     "name": "stdout",
     "output_type": "stream",
     "text": [
      "[2023-10-28 14:00:43,593: INFO: ingestion: Download TCJ.BK]\n"
     ]
    },
    {
     "name": "stderr",
     "output_type": "stream",
     "text": [
      " 82%|████████▏ | 554/677 [03:41<00:48,  2.53it/s]"
     ]
    },
    {
     "name": "stdout",
     "output_type": "stream",
     "text": [
      "[2023-10-28 14:00:44,038: INFO: ingestion: Download TCMC.BK]\n"
     ]
    },
    {
     "name": "stderr",
     "output_type": "stream",
     "text": [
      " 82%|████████▏ | 555/677 [03:42<00:50,  2.44it/s]"
     ]
    },
    {
     "name": "stdout",
     "output_type": "stream",
     "text": [
      "[2023-10-28 14:00:44,427: INFO: ingestion: Download TCOAT.BK]\n"
     ]
    },
    {
     "name": "stderr",
     "output_type": "stream",
     "text": [
      " 82%|████████▏ | 556/677 [03:42<00:48,  2.48it/s]"
     ]
    },
    {
     "name": "stdout",
     "output_type": "stream",
     "text": [
      "[2023-10-28 14:00:44,836: INFO: ingestion: Download TEAM.BK]\n"
     ]
    },
    {
     "name": "stderr",
     "output_type": "stream",
     "text": [
      " 82%|████████▏ | 557/677 [03:42<00:48,  2.47it/s]"
     ]
    },
    {
     "name": "stdout",
     "output_type": "stream",
     "text": [
      "[2023-10-28 14:00:45,209: INFO: ingestion: Download TEAMG.BK]\n"
     ]
    },
    {
     "name": "stderr",
     "output_type": "stream",
     "text": [
      " 82%|████████▏ | 558/677 [03:43<00:47,  2.53it/s]"
     ]
    },
    {
     "name": "stdout",
     "output_type": "stream",
     "text": [
      "[2023-10-28 14:00:45,524: INFO: ingestion: Download TEGH.BK]\n"
     ]
    },
    {
     "name": "stderr",
     "output_type": "stream",
     "text": [
      " 83%|████████▎ | 559/677 [03:43<00:43,  2.69it/s]"
     ]
    },
    {
     "name": "stdout",
     "output_type": "stream",
     "text": [
      "[2023-10-28 14:00:45,867: INFO: ingestion: Download TEKA.BK]\n"
     ]
    },
    {
     "name": "stderr",
     "output_type": "stream",
     "text": [
      " 83%|████████▎ | 560/677 [03:43<00:42,  2.76it/s]"
     ]
    },
    {
     "name": "stdout",
     "output_type": "stream",
     "text": [
      "[2023-10-28 14:00:47,224: INFO: ingestion: Download TFFIF.BK]\n"
     ]
    },
    {
     "name": "stderr",
     "output_type": "stream",
     "text": [
      " 83%|████████▎ | 561/677 [03:45<01:16,  1.51it/s]"
     ]
    },
    {
     "name": "stdout",
     "output_type": "stream",
     "text": [
      "[2023-10-28 14:00:47,648: INFO: ingestion: Download TFG.BK]\n"
     ]
    },
    {
     "name": "stderr",
     "output_type": "stream",
     "text": [
      " 83%|████████▎ | 562/677 [03:45<01:07,  1.69it/s]"
     ]
    },
    {
     "name": "stdout",
     "output_type": "stream",
     "text": [
      "[2023-10-28 14:00:48,050: INFO: ingestion: Download TFI.BK]\n"
     ]
    },
    {
     "name": "stderr",
     "output_type": "stream",
     "text": [
      " 83%|████████▎ | 563/677 [03:46<01:00,  1.87it/s]"
     ]
    },
    {
     "name": "stdout",
     "output_type": "stream",
     "text": [
      "[2023-10-28 14:00:48,391: INFO: ingestion: Download TFM.BK]\n"
     ]
    },
    {
     "name": "stderr",
     "output_type": "stream",
     "text": [
      " 83%|████████▎ | 564/677 [03:46<00:53,  2.10it/s]"
     ]
    },
    {
     "name": "stdout",
     "output_type": "stream",
     "text": [
      "[2023-10-28 14:00:48,830: INFO: ingestion: Download TFMAMA.BK]\n"
     ]
    },
    {
     "name": "stderr",
     "output_type": "stream",
     "text": [
      " 83%|████████▎ | 565/677 [03:46<00:52,  2.15it/s]"
     ]
    },
    {
     "name": "stdout",
     "output_type": "stream",
     "text": [
      "[2023-10-28 14:00:49,126: INFO: ingestion: Download TGE.BK]\n"
     ]
    },
    {
     "name": "stderr",
     "output_type": "stream",
     "text": [
      " 84%|████████▎ | 566/677 [03:47<00:45,  2.41it/s]"
     ]
    },
    {
     "name": "stdout",
     "output_type": "stream",
     "text": [
      "[2023-10-28 14:00:49,525: INFO: ingestion: Download TGH.BK]\n"
     ]
    },
    {
     "name": "stderr",
     "output_type": "stream",
     "text": [
      " 84%|████████▍ | 567/677 [03:47<00:45,  2.44it/s]"
     ]
    },
    {
     "name": "stdout",
     "output_type": "stream",
     "text": [
      "[2023-10-28 14:00:50,879: INFO: ingestion: Download TGPRO.BK]\n"
     ]
    },
    {
     "name": "stderr",
     "output_type": "stream",
     "text": [
      " 84%|████████▍ | 568/677 [03:49<01:15,  1.44it/s]"
     ]
    },
    {
     "name": "stdout",
     "output_type": "stream",
     "text": [
      "[2023-10-28 14:00:51,252: INFO: ingestion: Download TH.BK]\n"
     ]
    },
    {
     "name": "stderr",
     "output_type": "stream",
     "text": [
      " 84%|████████▍ | 569/677 [03:49<01:04,  1.68it/s]"
     ]
    },
    {
     "name": "stdout",
     "output_type": "stream",
     "text": [
      "[2023-10-28 14:00:51,610: INFO: ingestion: Download THAI.BK]\n"
     ]
    },
    {
     "name": "stderr",
     "output_type": "stream",
     "text": [
      " 84%|████████▍ | 570/677 [03:49<00:56,  1.90it/s]"
     ]
    },
    {
     "name": "stdout",
     "output_type": "stream",
     "text": [
      "[2023-10-28 14:00:52,015: INFO: ingestion: Download THANI.BK]\n"
     ]
    },
    {
     "name": "stderr",
     "output_type": "stream",
     "text": [
      " 84%|████████▍ | 571/677 [03:50<00:51,  2.04it/s]"
     ]
    },
    {
     "name": "stdout",
     "output_type": "stream",
     "text": [
      "[2023-10-28 14:00:52,444: INFO: ingestion: Download THCOM.BK]\n"
     ]
    },
    {
     "name": "stderr",
     "output_type": "stream",
     "text": [
      " 84%|████████▍ | 572/677 [03:50<00:49,  2.12it/s]"
     ]
    },
    {
     "name": "stdout",
     "output_type": "stream",
     "text": [
      "[2023-10-28 14:00:52,815: INFO: ingestion: Download THE.BK]\n"
     ]
    },
    {
     "name": "stderr",
     "output_type": "stream",
     "text": [
      " 85%|████████▍ | 573/677 [03:50<00:45,  2.27it/s]"
     ]
    },
    {
     "name": "stdout",
     "output_type": "stream",
     "text": [
      "[2023-10-28 14:00:53,177: INFO: ingestion: Download THG.BK]\n"
     ]
    },
    {
     "name": "stderr",
     "output_type": "stream",
     "text": [
      " 85%|████████▍ | 574/677 [03:51<00:42,  2.40it/s]"
     ]
    },
    {
     "name": "stdout",
     "output_type": "stream",
     "text": [
      "[2023-10-28 14:00:53,602: INFO: ingestion: Download THIP.BK]\n"
     ]
    },
    {
     "name": "stderr",
     "output_type": "stream",
     "text": [
      " 85%|████████▍ | 575/677 [03:51<00:42,  2.38it/s]"
     ]
    },
    {
     "name": "stdout",
     "output_type": "stream",
     "text": [
      "[2023-10-28 14:00:53,946: INFO: ingestion: Download THL.BK]\n"
     ]
    },
    {
     "name": "stderr",
     "output_type": "stream",
     "text": [
      " 85%|████████▌ | 576/677 [03:52<00:40,  2.52it/s]"
     ]
    },
    {
     "name": "stdout",
     "output_type": "stream",
     "text": [
      "[2023-10-28 14:00:54,355: INFO: ingestion: Download THRE.BK]\n"
     ]
    },
    {
     "name": "stderr",
     "output_type": "stream",
     "text": [
      " 85%|████████▌ | 577/677 [03:52<00:40,  2.50it/s]"
     ]
    },
    {
     "name": "stdout",
     "output_type": "stream",
     "text": [
      "[2023-10-28 14:00:54,719: INFO: ingestion: Download THREL.BK]\n"
     ]
    },
    {
     "name": "stderr",
     "output_type": "stream",
     "text": [
      " 85%|████████▌ | 578/677 [03:52<00:38,  2.57it/s]"
     ]
    },
    {
     "name": "stdout",
     "output_type": "stream",
     "text": [
      "[2023-10-28 14:00:55,054: INFO: ingestion: Download TIDLOR.BK]\n"
     ]
    },
    {
     "name": "stderr",
     "output_type": "stream",
     "text": [
      " 86%|████████▌ | 579/677 [03:53<00:36,  2.68it/s]"
     ]
    },
    {
     "name": "stdout",
     "output_type": "stream",
     "text": [
      "[2023-10-28 14:00:55,445: INFO: ingestion: Download TIF1.BK]\n"
     ]
    },
    {
     "name": "stderr",
     "output_type": "stream",
     "text": [
      " 86%|████████▌ | 580/677 [03:53<00:36,  2.64it/s]"
     ]
    },
    {
     "name": "stdout",
     "output_type": "stream",
     "text": [
      "[2023-10-28 14:00:55,846: INFO: ingestion: Download TIPCO.BK]\n"
     ]
    },
    {
     "name": "stderr",
     "output_type": "stream",
     "text": [
      " 86%|████████▌ | 581/677 [03:53<00:36,  2.60it/s]"
     ]
    },
    {
     "name": "stdout",
     "output_type": "stream",
     "text": [
      "[2023-10-28 14:00:56,154: INFO: ingestion: Download TIPH.BK]\n"
     ]
    },
    {
     "name": "stderr",
     "output_type": "stream",
     "text": [
      " 86%|████████▌ | 582/677 [03:54<00:34,  2.76it/s]"
     ]
    },
    {
     "name": "stdout",
     "output_type": "stream",
     "text": [
      "[2023-10-28 14:00:56,535: INFO: ingestion: Download TISCO.BK]\n"
     ]
    },
    {
     "name": "stderr",
     "output_type": "stream",
     "text": [
      " 86%|████████▌ | 583/677 [03:54<00:34,  2.72it/s]"
     ]
    },
    {
     "name": "stdout",
     "output_type": "stream",
     "text": [
      "[2023-10-28 14:00:56,961: INFO: ingestion: Download TK.BK]\n"
     ]
    },
    {
     "name": "stderr",
     "output_type": "stream",
     "text": [
      " 86%|████████▋ | 584/677 [03:55<00:35,  2.59it/s]"
     ]
    },
    {
     "name": "stdout",
     "output_type": "stream",
     "text": [
      "[2023-10-28 14:00:58,296: INFO: ingestion: Download TKC.BK]\n"
     ]
    },
    {
     "name": "stderr",
     "output_type": "stream",
     "text": [
      " 86%|████████▋ | 585/677 [03:56<01:01,  1.49it/s]"
     ]
    },
    {
     "name": "stdout",
     "output_type": "stream",
     "text": [
      "[2023-10-28 14:00:58,681: INFO: ingestion: Download TKN.BK]\n"
     ]
    },
    {
     "name": "stderr",
     "output_type": "stream",
     "text": [
      " 87%|████████▋ | 586/677 [03:56<00:53,  1.71it/s]"
     ]
    },
    {
     "name": "stdout",
     "output_type": "stream",
     "text": [
      "[2023-10-28 14:00:59,106: INFO: ingestion: Download TKS.BK]\n"
     ]
    },
    {
     "name": "stderr",
     "output_type": "stream",
     "text": [
      " 87%|████████▋ | 587/677 [03:57<00:48,  1.86it/s]"
     ]
    },
    {
     "name": "stdout",
     "output_type": "stream",
     "text": [
      "[2023-10-28 14:00:59,508: INFO: ingestion: Download TKT.BK]\n"
     ]
    },
    {
     "name": "stderr",
     "output_type": "stream",
     "text": [
      " 87%|████████▋ | 588/677 [03:57<00:44,  2.01it/s]"
     ]
    },
    {
     "name": "stdout",
     "output_type": "stream",
     "text": [
      "[2023-10-28 14:00:59,832: INFO: ingestion: Download TLHPF.BK]\n"
     ]
    },
    {
     "name": "stderr",
     "output_type": "stream",
     "text": [
      " 87%|████████▋ | 589/677 [03:57<00:39,  2.25it/s]"
     ]
    },
    {
     "name": "stdout",
     "output_type": "stream",
     "text": [
      "[2023-10-28 14:01:00,201: INFO: ingestion: Download TLI.BK]\n"
     ]
    },
    {
     "name": "stderr",
     "output_type": "stream",
     "text": [
      " 87%|████████▋ | 590/677 [03:58<00:36,  2.37it/s]"
     ]
    },
    {
     "name": "stdout",
     "output_type": "stream",
     "text": [
      "[2023-10-28 14:01:00,625: INFO: ingestion: Download TMD.BK]\n"
     ]
    },
    {
     "name": "stderr",
     "output_type": "stream",
     "text": [
      " 87%|████████▋ | 591/677 [03:58<00:36,  2.37it/s]"
     ]
    },
    {
     "name": "stdout",
     "output_type": "stream",
     "text": [
      "[2023-10-28 14:01:01,060: INFO: ingestion: Download TMT.BK]\n"
     ]
    },
    {
     "name": "stderr",
     "output_type": "stream",
     "text": [
      " 87%|████████▋ | 592/677 [03:59<00:36,  2.35it/s]"
     ]
    },
    {
     "name": "stdout",
     "output_type": "stream",
     "text": [
      "[2023-10-28 14:01:01,513: INFO: ingestion: Download TNITY.BK]\n"
     ]
    },
    {
     "name": "stderr",
     "output_type": "stream",
     "text": [
      " 88%|████████▊ | 593/677 [03:59<00:36,  2.30it/s]"
     ]
    },
    {
     "name": "stdout",
     "output_type": "stream",
     "text": [
      "[2023-10-28 14:01:01,951: INFO: ingestion: Download TNL.BK]\n"
     ]
    },
    {
     "name": "stderr",
     "output_type": "stream",
     "text": [
      " 88%|████████▊ | 594/677 [04:00<00:36,  2.30it/s]"
     ]
    },
    {
     "name": "stdout",
     "output_type": "stream",
     "text": [
      "[2023-10-28 14:01:02,366: INFO: ingestion: Download TNPC.BK]\n"
     ]
    },
    {
     "name": "stderr",
     "output_type": "stream",
     "text": [
      " 88%|████████▊ | 595/677 [04:00<00:35,  2.33it/s]"
     ]
    },
    {
     "name": "stdout",
     "output_type": "stream",
     "text": [
      "[2023-10-28 14:01:03,662: INFO: ingestion: Download TNPF.BK]\n"
     ]
    },
    {
     "name": "stderr",
     "output_type": "stream",
     "text": [
      " 88%|████████▊ | 596/677 [04:01<00:56,  1.44it/s]"
     ]
    },
    {
     "name": "stdout",
     "output_type": "stream",
     "text": [
      "[2023-10-28 14:01:04,035: INFO: ingestion: Download TNR.BK]\n"
     ]
    },
    {
     "name": "stderr",
     "output_type": "stream",
     "text": [
      " 88%|████████▊ | 597/677 [04:02<00:47,  1.68it/s]"
     ]
    },
    {
     "name": "stdout",
     "output_type": "stream",
     "text": [
      "[2023-10-28 14:01:05,426: INFO: ingestion: Download TOA.BK]\n"
     ]
    },
    {
     "name": "stderr",
     "output_type": "stream",
     "text": [
      " 88%|████████▊ | 598/677 [04:03<01:05,  1.20it/s]"
     ]
    },
    {
     "name": "stdout",
     "output_type": "stream",
     "text": [
      "[2023-10-28 14:01:05,835: INFO: ingestion: Download TOG.BK]\n"
     ]
    },
    {
     "name": "stderr",
     "output_type": "stream",
     "text": [
      " 88%|████████▊ | 599/677 [04:03<00:55,  1.42it/s]"
     ]
    },
    {
     "name": "stdout",
     "output_type": "stream",
     "text": [
      "[2023-10-28 14:01:06,217: INFO: ingestion: Download TOP.BK]\n"
     ]
    },
    {
     "name": "stderr",
     "output_type": "stream",
     "text": [
      " 89%|████████▊ | 600/677 [04:04<00:46,  1.64it/s]"
     ]
    },
    {
     "name": "stdout",
     "output_type": "stream",
     "text": [
      "[2023-10-28 14:01:06,436: INFO: ingestion: Download TOPP.BK]\n"
     ]
    },
    {
     "name": "stderr",
     "output_type": "stream",
     "text": [
      " 89%|████████▉ | 601/677 [04:04<00:37,  2.03it/s]"
     ]
    },
    {
     "name": "stdout",
     "output_type": "stream",
     "text": [
      "[2023-10-28 14:01:06,867: INFO: ingestion: Download TPA.BK]\n"
     ]
    },
    {
     "name": "stderr",
     "output_type": "stream",
     "text": [
      " 89%|████████▉ | 602/677 [04:04<00:35,  2.11it/s]"
     ]
    },
    {
     "name": "stdout",
     "output_type": "stream",
     "text": [
      "[2023-10-28 14:01:07,268: INFO: ingestion: Download TPAC.BK]\n"
     ]
    },
    {
     "name": "stderr",
     "output_type": "stream",
     "text": [
      " 89%|████████▉ | 603/677 [04:05<00:33,  2.21it/s]"
     ]
    },
    {
     "name": "stdout",
     "output_type": "stream",
     "text": [
      "[2023-10-28 14:01:07,647: INFO: ingestion: Download TPBI.BK]\n"
     ]
    },
    {
     "name": "stderr",
     "output_type": "stream",
     "text": [
      " 89%|████████▉ | 604/677 [04:05<00:31,  2.33it/s]"
     ]
    },
    {
     "name": "stdout",
     "output_type": "stream",
     "text": [
      "[2023-10-28 14:01:08,070: INFO: ingestion: Download TPCS.BK]\n"
     ]
    },
    {
     "name": "stderr",
     "output_type": "stream",
     "text": [
      " 89%|████████▉ | 605/677 [04:06<00:30,  2.34it/s]"
     ]
    },
    {
     "name": "stdout",
     "output_type": "stream",
     "text": [
      "[2023-10-28 14:01:08,480: INFO: ingestion: Download TPIPL.BK]\n"
     ]
    },
    {
     "name": "stderr",
     "output_type": "stream",
     "text": [
      " 90%|████████▉ | 606/677 [04:06<00:30,  2.37it/s]"
     ]
    },
    {
     "name": "stdout",
     "output_type": "stream",
     "text": [
      "[2023-10-28 14:01:08,850: INFO: ingestion: Download TPIPP.BK]\n"
     ]
    },
    {
     "name": "stderr",
     "output_type": "stream",
     "text": [
      " 90%|████████▉ | 607/677 [04:06<00:28,  2.46it/s]"
     ]
    },
    {
     "name": "stdout",
     "output_type": "stream",
     "text": [
      "[2023-10-28 14:01:09,240: INFO: ingestion: Download TPOLY.BK]\n"
     ]
    },
    {
     "name": "stderr",
     "output_type": "stream",
     "text": [
      " 90%|████████▉ | 608/677 [04:07<00:27,  2.49it/s]"
     ]
    },
    {
     "name": "stdout",
     "output_type": "stream",
     "text": [
      "[2023-10-28 14:01:09,630: INFO: ingestion: Download TPP.BK]\n"
     ]
    },
    {
     "name": "stderr",
     "output_type": "stream",
     "text": [
      " 90%|████████▉ | 609/677 [04:07<00:27,  2.51it/s]"
     ]
    },
    {
     "name": "stdout",
     "output_type": "stream",
     "text": [
      "[2023-10-28 14:01:09,987: INFO: ingestion: Download TPRIME.BK]\n"
     ]
    },
    {
     "name": "stderr",
     "output_type": "stream",
     "text": [
      " 90%|█████████ | 610/677 [04:08<00:25,  2.59it/s]"
     ]
    },
    {
     "name": "stdout",
     "output_type": "stream",
     "text": [
      "[2023-10-28 14:01:10,354: INFO: ingestion: Download TQM.BK]\n"
     ]
    },
    {
     "name": "stderr",
     "output_type": "stream",
     "text": [
      " 90%|█████████ | 611/677 [04:08<00:25,  2.63it/s]"
     ]
    },
    {
     "name": "stdout",
     "output_type": "stream",
     "text": [
      "[2023-10-28 14:01:10,764: INFO: ingestion: Download TR.BK]\n"
     ]
    },
    {
     "name": "stderr",
     "output_type": "stream",
     "text": [
      " 90%|█████████ | 612/677 [04:08<00:25,  2.57it/s]"
     ]
    },
    {
     "name": "stdout",
     "output_type": "stream",
     "text": [
      "[2023-10-28 14:01:11,132: INFO: ingestion: Download TRC.BK]\n"
     ]
    },
    {
     "name": "stderr",
     "output_type": "stream",
     "text": [
      " 91%|█████████ | 613/677 [04:09<00:24,  2.61it/s]"
     ]
    },
    {
     "name": "stdout",
     "output_type": "stream",
     "text": [
      "[2023-10-28 14:01:11,543: INFO: ingestion: Download TRITN.BK]\n"
     ]
    },
    {
     "name": "stderr",
     "output_type": "stream",
     "text": [
      " 91%|█████████ | 614/677 [04:09<00:24,  2.56it/s]"
     ]
    },
    {
     "name": "stdout",
     "output_type": "stream",
     "text": [
      "[2023-10-28 14:01:11,961: INFO: ingestion: Download TRU.BK]\n"
     ]
    },
    {
     "name": "stderr",
     "output_type": "stream",
     "text": [
      " 91%|█████████ | 615/677 [04:10<00:24,  2.50it/s]"
     ]
    },
    {
     "name": "stdout",
     "output_type": "stream",
     "text": [
      "[2023-10-28 14:01:12,383: INFO: ingestion: Download TRUBB.BK]\n"
     ]
    },
    {
     "name": "stderr",
     "output_type": "stream",
     "text": [
      " 91%|█████████ | 616/677 [04:10<00:24,  2.46it/s]"
     ]
    },
    {
     "name": "stdout",
     "output_type": "stream",
     "text": [
      "[2023-10-28 14:01:12,754: INFO: ingestion: Download TRUE.BK]\n"
     ]
    },
    {
     "name": "stderr",
     "output_type": "stream",
     "text": [
      " 91%|█████████ | 617/677 [04:10<00:23,  2.53it/s]"
     ]
    },
    {
     "name": "stdout",
     "output_type": "stream",
     "text": [
      "[2023-10-28 14:01:13,136: INFO: ingestion: Download TSC.BK]\n"
     ]
    },
    {
     "name": "stderr",
     "output_type": "stream",
     "text": [
      " 91%|█████████▏| 618/677 [04:11<00:23,  2.55it/s]"
     ]
    },
    {
     "name": "stdout",
     "output_type": "stream",
     "text": [
      "[2023-10-28 14:01:13,834: INFO: ingestion: Download TSE.BK]\n"
     ]
    },
    {
     "name": "stderr",
     "output_type": "stream",
     "text": [
      " 91%|█████████▏| 619/677 [04:11<00:28,  2.07it/s]"
     ]
    },
    {
     "name": "stdout",
     "output_type": "stream",
     "text": [
      "[2023-10-28 14:01:14,205: INFO: ingestion: Download TSI.BK]\n"
     ]
    },
    {
     "name": "stderr",
     "output_type": "stream",
     "text": [
      " 92%|█████████▏| 620/677 [04:12<00:25,  2.22it/s]"
     ]
    },
    {
     "name": "stdout",
     "output_type": "stream",
     "text": [
      "[2023-10-28 14:01:14,496: ERROR: base: TSR.BK: No data found, symbol may be delisted]\n",
      "[2023-10-28 14:01:14,497: INFO: ingestion: Download TSR.BK]\n"
     ]
    },
    {
     "name": "stderr",
     "output_type": "stream",
     "text": [
      " 92%|█████████▏| 621/677 [04:12<00:22,  2.48it/s]"
     ]
    },
    {
     "name": "stdout",
     "output_type": "stream",
     "text": [
      "[2023-10-28 14:01:14,885: INFO: ingestion: Download TSTE.BK]\n"
     ]
    },
    {
     "name": "stderr",
     "output_type": "stream",
     "text": [
      " 92%|█████████▏| 622/677 [04:13<00:21,  2.51it/s]"
     ]
    },
    {
     "name": "stdout",
     "output_type": "stream",
     "text": [
      "[2023-10-28 14:01:15,247: INFO: ingestion: Download TSTH.BK]\n"
     ]
    },
    {
     "name": "stderr",
     "output_type": "stream",
     "text": [
      " 92%|█████████▏| 623/677 [04:13<00:20,  2.58it/s]"
     ]
    },
    {
     "name": "stdout",
     "output_type": "stream",
     "text": [
      "[2023-10-28 14:01:15,667: INFO: ingestion: Download TTA.BK]\n"
     ]
    },
    {
     "name": "stderr",
     "output_type": "stream",
     "text": [
      " 92%|█████████▏| 624/677 [04:13<00:21,  2.52it/s]"
     ]
    },
    {
     "name": "stdout",
     "output_type": "stream",
     "text": [
      "[2023-10-28 14:01:16,067: INFO: ingestion: Download TTB.BK]\n"
     ]
    },
    {
     "name": "stderr",
     "output_type": "stream",
     "text": [
      " 92%|█████████▏| 625/677 [04:14<00:20,  2.51it/s]"
     ]
    },
    {
     "name": "stdout",
     "output_type": "stream",
     "text": [
      "[2023-10-28 14:01:16,436: INFO: ingestion: Download TTCL.BK]\n"
     ]
    },
    {
     "name": "stderr",
     "output_type": "stream",
     "text": [
      " 92%|█████████▏| 626/677 [04:14<00:19,  2.57it/s]"
     ]
    },
    {
     "name": "stdout",
     "output_type": "stream",
     "text": [
      "[2023-10-28 14:01:16,880: INFO: ingestion: Download TTI.BK]\n"
     ]
    },
    {
     "name": "stderr",
     "output_type": "stream",
     "text": [
      " 93%|█████████▎| 627/677 [04:15<00:20,  2.46it/s]"
     ]
    },
    {
     "name": "stdout",
     "output_type": "stream",
     "text": [
      "[2023-10-28 14:01:17,195: INFO: ingestion: Download TTLPF.BK]\n"
     ]
    },
    {
     "name": "stderr",
     "output_type": "stream",
     "text": [
      " 93%|█████████▎| 628/677 [04:15<00:18,  2.64it/s]"
     ]
    },
    {
     "name": "stdout",
     "output_type": "stream",
     "text": [
      "[2023-10-28 14:01:17,546: INFO: ingestion: Download TTT.BK]\n"
     ]
    },
    {
     "name": "stderr",
     "output_type": "stream",
     "text": [
      " 93%|█████████▎| 629/677 [04:15<00:17,  2.70it/s]"
     ]
    },
    {
     "name": "stdout",
     "output_type": "stream",
     "text": [
      "[2023-10-28 14:01:17,929: INFO: ingestion: Download TTW.BK]\n"
     ]
    },
    {
     "name": "stderr",
     "output_type": "stream",
     "text": [
      " 93%|█████████▎| 630/677 [04:16<00:17,  2.67it/s]"
     ]
    },
    {
     "name": "stdout",
     "output_type": "stream",
     "text": [
      "[2023-10-28 14:01:18,357: INFO: ingestion: Download TU.BK]\n"
     ]
    },
    {
     "name": "stderr",
     "output_type": "stream",
     "text": [
      " 93%|█████████▎| 631/677 [04:16<00:17,  2.56it/s]"
     ]
    },
    {
     "name": "stdout",
     "output_type": "stream",
     "text": [
      "[2023-10-28 14:01:18,772: INFO: ingestion: Download TU-PF.BK]\n"
     ]
    },
    {
     "name": "stderr",
     "output_type": "stream",
     "text": [
      " 93%|█████████▎| 632/677 [04:16<00:17,  2.51it/s]"
     ]
    },
    {
     "name": "stdout",
     "output_type": "stream",
     "text": [
      "[2023-10-28 14:01:19,083: ERROR: base: TVI.BK: No data found, symbol may be delisted]\n",
      "[2023-10-28 14:01:19,084: INFO: ingestion: Download TVI.BK]\n"
     ]
    },
    {
     "name": "stderr",
     "output_type": "stream",
     "text": [
      " 94%|█████████▎| 633/677 [04:17<00:16,  2.69it/s]"
     ]
    },
    {
     "name": "stdout",
     "output_type": "stream",
     "text": [
      "[2023-10-28 14:01:19,522: INFO: ingestion: Download TVO.BK]\n"
     ]
    },
    {
     "name": "stderr",
     "output_type": "stream",
     "text": [
      " 94%|█████████▎| 634/677 [04:17<00:16,  2.55it/s]"
     ]
    },
    {
     "name": "stdout",
     "output_type": "stream",
     "text": [
      "[2023-10-28 14:01:19,935: INFO: ingestion: Download TWP.BK]\n"
     ]
    },
    {
     "name": "stderr",
     "output_type": "stream",
     "text": [
      " 94%|█████████▍| 635/677 [04:18<00:16,  2.51it/s]"
     ]
    },
    {
     "name": "stdout",
     "output_type": "stream",
     "text": [
      "[2023-10-28 14:01:20,342: INFO: ingestion: Download TWPC.BK]\n"
     ]
    },
    {
     "name": "stderr",
     "output_type": "stream",
     "text": [
      " 94%|█████████▍| 636/677 [04:18<00:16,  2.50it/s]"
     ]
    },
    {
     "name": "stdout",
     "output_type": "stream",
     "text": [
      "[2023-10-28 14:01:20,721: INFO: ingestion: Download TWZ.BK]\n"
     ]
    },
    {
     "name": "stderr",
     "output_type": "stream",
     "text": [
      " 94%|█████████▍| 637/677 [04:18<00:15,  2.54it/s]"
     ]
    },
    {
     "name": "stdout",
     "output_type": "stream",
     "text": [
      "[2023-10-28 14:01:21,079: INFO: ingestion: Download TYCN.BK]\n"
     ]
    },
    {
     "name": "stderr",
     "output_type": "stream",
     "text": [
      " 94%|█████████▍| 638/677 [04:19<00:14,  2.61it/s]"
     ]
    },
    {
     "name": "stdout",
     "output_type": "stream",
     "text": [
      "[2023-10-28 14:01:21,363: ERROR: base: U.BK: No data found, symbol may be delisted]\n",
      "[2023-10-28 14:01:21,365: INFO: ingestion: Download U.BK]\n"
     ]
    },
    {
     "name": "stderr",
     "output_type": "stream",
     "text": [
      " 94%|█████████▍| 639/677 [04:19<00:13,  2.82it/s]"
     ]
    },
    {
     "name": "stdout",
     "output_type": "stream",
     "text": [
      "[2023-10-28 14:01:21,763: INFO: ingestion: Download UAC.BK]\n"
     ]
    },
    {
     "name": "stderr",
     "output_type": "stream",
     "text": [
      " 95%|█████████▍| 640/677 [04:19<00:13,  2.72it/s]"
     ]
    },
    {
     "name": "stdout",
     "output_type": "stream",
     "text": [
      "[2023-10-28 14:01:22,092: INFO: ingestion: Download UBE.BK]\n"
     ]
    },
    {
     "name": "stderr",
     "output_type": "stream",
     "text": [
      " 95%|█████████▍| 641/677 [04:20<00:12,  2.81it/s]"
     ]
    },
    {
     "name": "stdout",
     "output_type": "stream",
     "text": [
      "[2023-10-28 14:01:22,504: INFO: ingestion: Download UMI.BK]\n"
     ]
    },
    {
     "name": "stderr",
     "output_type": "stream",
     "text": [
      " 95%|█████████▍| 642/677 [04:20<00:13,  2.68it/s]"
     ]
    },
    {
     "name": "stdout",
     "output_type": "stream",
     "text": [
      "[2023-10-28 14:01:22,898: INFO: ingestion: Download UNIQ.BK]\n"
     ]
    },
    {
     "name": "stderr",
     "output_type": "stream",
     "text": [
      " 95%|█████████▍| 643/677 [04:21<00:12,  2.64it/s]"
     ]
    },
    {
     "name": "stdout",
     "output_type": "stream",
     "text": [
      "[2023-10-28 14:01:23,312: INFO: ingestion: Download UOBKH.BK]\n"
     ]
    },
    {
     "name": "stderr",
     "output_type": "stream",
     "text": [
      " 95%|█████████▌| 644/677 [04:21<00:12,  2.57it/s]"
     ]
    },
    {
     "name": "stdout",
     "output_type": "stream",
     "text": [
      "[2023-10-28 14:01:23,723: INFO: ingestion: Download UP.BK]\n"
     ]
    },
    {
     "name": "stderr",
     "output_type": "stream",
     "text": [
      " 95%|█████████▌| 645/677 [04:21<00:12,  2.53it/s]"
     ]
    },
    {
     "name": "stdout",
     "output_type": "stream",
     "text": [
      "[2023-10-28 14:01:24,188: INFO: ingestion: Download UPF.BK]\n"
     ]
    },
    {
     "name": "stderr",
     "output_type": "stream",
     "text": [
      " 95%|█████████▌| 646/677 [04:22<00:12,  2.40it/s]"
     ]
    },
    {
     "name": "stdout",
     "output_type": "stream",
     "text": [
      "[2023-10-28 14:01:24,617: INFO: ingestion: Download UPOIC.BK]\n"
     ]
    },
    {
     "name": "stderr",
     "output_type": "stream",
     "text": [
      " 96%|█████████▌| 647/677 [04:22<00:12,  2.38it/s]"
     ]
    },
    {
     "name": "stdout",
     "output_type": "stream",
     "text": [
      "[2023-10-28 14:01:25,005: INFO: ingestion: Download URBNPF.BK]\n"
     ]
    },
    {
     "name": "stderr",
     "output_type": "stream",
     "text": [
      " 96%|█████████▌| 648/677 [04:23<00:11,  2.44it/s]"
     ]
    },
    {
     "name": "stdout",
     "output_type": "stream",
     "text": [
      "[2023-10-28 14:01:25,407: INFO: ingestion: Download UTP.BK]\n"
     ]
    },
    {
     "name": "stderr",
     "output_type": "stream",
     "text": [
      " 96%|█████████▌| 649/677 [04:23<00:11,  2.45it/s]"
     ]
    },
    {
     "name": "stdout",
     "output_type": "stream",
     "text": [
      "[2023-10-28 14:01:25,815: INFO: ingestion: Download UV.BK]\n"
     ]
    },
    {
     "name": "stderr",
     "output_type": "stream",
     "text": [
      " 96%|█████████▌| 650/677 [04:23<00:11,  2.45it/s]"
     ]
    },
    {
     "name": "stdout",
     "output_type": "stream",
     "text": [
      "[2023-10-28 14:01:26,207: INFO: ingestion: Download UVAN.BK]\n"
     ]
    },
    {
     "name": "stderr",
     "output_type": "stream",
     "text": [
      " 96%|█████████▌| 651/677 [04:24<00:10,  2.48it/s]"
     ]
    },
    {
     "name": "stdout",
     "output_type": "stream",
     "text": [
      "[2023-10-28 14:01:26,577: INFO: ingestion: Download VARO.BK]\n"
     ]
    },
    {
     "name": "stderr",
     "output_type": "stream",
     "text": [
      " 96%|█████████▋| 652/677 [04:24<00:09,  2.54it/s]"
     ]
    },
    {
     "name": "stdout",
     "output_type": "stream",
     "text": [
      "[2023-10-28 14:01:26,950: INFO: ingestion: Download VGI.BK]\n"
     ]
    },
    {
     "name": "stderr",
     "output_type": "stream",
     "text": [
      " 96%|█████████▋| 653/677 [04:25<00:09,  2.58it/s]"
     ]
    },
    {
     "name": "stdout",
     "output_type": "stream",
     "text": [
      "[2023-10-28 14:01:27,369: INFO: ingestion: Download VIBHA.BK]\n"
     ]
    },
    {
     "name": "stderr",
     "output_type": "stream",
     "text": [
      " 97%|█████████▋| 654/677 [04:25<00:09,  2.52it/s]"
     ]
    },
    {
     "name": "stdout",
     "output_type": "stream",
     "text": [
      "[2023-10-28 14:01:27,740: INFO: ingestion: Download VIH.BK]\n"
     ]
    },
    {
     "name": "stderr",
     "output_type": "stream",
     "text": [
      " 97%|█████████▋| 655/677 [04:25<00:08,  2.57it/s]"
     ]
    },
    {
     "name": "stdout",
     "output_type": "stream",
     "text": [
      "[2023-10-28 14:01:28,170: INFO: ingestion: Download VNG.BK]\n"
     ]
    },
    {
     "name": "stderr",
     "output_type": "stream",
     "text": [
      " 97%|█████████▋| 656/677 [04:26<00:08,  2.49it/s]"
     ]
    },
    {
     "name": "stdout",
     "output_type": "stream",
     "text": [
      "[2023-10-28 14:01:28,518: INFO: ingestion: Download VPO.BK]\n"
     ]
    },
    {
     "name": "stderr",
     "output_type": "stream",
     "text": [
      " 97%|█████████▋| 657/677 [04:26<00:07,  2.60it/s]"
     ]
    },
    {
     "name": "stdout",
     "output_type": "stream",
     "text": [
      "[2023-10-28 14:01:28,925: INFO: ingestion: Download VRANDA.BK]\n"
     ]
    },
    {
     "name": "stderr",
     "output_type": "stream",
     "text": [
      " 97%|█████████▋| 658/677 [04:27<00:07,  2.55it/s]"
     ]
    },
    {
     "name": "stdout",
     "output_type": "stream",
     "text": [
      "[2023-10-28 14:01:29,303: INFO: ingestion: Download W.BK]\n"
     ]
    },
    {
     "name": "stderr",
     "output_type": "stream",
     "text": [
      " 97%|█████████▋| 659/677 [04:27<00:06,  2.58it/s]"
     ]
    },
    {
     "name": "stdout",
     "output_type": "stream",
     "text": [
      "[2023-10-28 14:01:29,741: INFO: ingestion: Download WACOAL.BK]\n"
     ]
    },
    {
     "name": "stderr",
     "output_type": "stream",
     "text": [
      " 97%|█████████▋| 660/677 [04:27<00:06,  2.48it/s]"
     ]
    },
    {
     "name": "stdout",
     "output_type": "stream",
     "text": [
      "[2023-10-28 14:01:30,124: INFO: ingestion: Download WAVE.BK]\n"
     ]
    },
    {
     "name": "stderr",
     "output_type": "stream",
     "text": [
      " 98%|█████████▊| 661/677 [04:28<00:06,  2.52it/s]"
     ]
    },
    {
     "name": "stdout",
     "output_type": "stream",
     "text": [
      "[2023-10-28 14:01:30,471: INFO: ingestion: Download WFX.BK]\n"
     ]
    },
    {
     "name": "stderr",
     "output_type": "stream",
     "text": [
      " 98%|█████████▊| 662/677 [04:28<00:05,  2.62it/s]"
     ]
    },
    {
     "name": "stdout",
     "output_type": "stream",
     "text": [
      "[2023-10-28 14:01:30,814: INFO: ingestion: Download WGE.BK]\n"
     ]
    },
    {
     "name": "stderr",
     "output_type": "stream",
     "text": [
      " 98%|█████████▊| 663/677 [04:28<00:05,  2.70it/s]"
     ]
    },
    {
     "name": "stdout",
     "output_type": "stream",
     "text": [
      "[2023-10-28 14:01:31,220: INFO: ingestion: Download WHA.BK]\n"
     ]
    },
    {
     "name": "stderr",
     "output_type": "stream",
     "text": [
      " 98%|█████████▊| 664/677 [04:29<00:04,  2.62it/s]"
     ]
    },
    {
     "name": "stdout",
     "output_type": "stream",
     "text": [
      "[2023-10-28 14:01:31,611: INFO: ingestion: Download WHABT.BK]\n"
     ]
    },
    {
     "name": "stderr",
     "output_type": "stream",
     "text": [
      " 98%|█████████▊| 665/677 [04:29<00:04,  2.60it/s]"
     ]
    },
    {
     "name": "stdout",
     "output_type": "stream",
     "text": [
      "[2023-10-28 14:01:31,991: INFO: ingestion: Download WHAIR.BK]\n"
     ]
    },
    {
     "name": "stderr",
     "output_type": "stream",
     "text": [
      " 98%|█████████▊| 666/677 [04:30<00:04,  2.61it/s]"
     ]
    },
    {
     "name": "stdout",
     "output_type": "stream",
     "text": [
      "[2023-10-28 14:01:32,348: INFO: ingestion: Download WHART.BK]\n"
     ]
    },
    {
     "name": "stderr",
     "output_type": "stream",
     "text": [
      " 99%|█████████▊| 667/677 [04:30<00:03,  2.67it/s]"
     ]
    },
    {
     "name": "stdout",
     "output_type": "stream",
     "text": [
      "[2023-10-28 14:01:32,744: INFO: ingestion: Download WHAUP.BK]\n"
     ]
    },
    {
     "name": "stderr",
     "output_type": "stream",
     "text": [
      " 99%|█████████▊| 668/677 [04:30<00:03,  2.62it/s]"
     ]
    },
    {
     "name": "stdout",
     "output_type": "stream",
     "text": [
      "[2023-10-28 14:01:33,097: INFO: ingestion: Download WICE.BK]\n"
     ]
    },
    {
     "name": "stderr",
     "output_type": "stream",
     "text": [
      " 99%|█████████▉| 669/677 [04:31<00:02,  2.68it/s]"
     ]
    },
    {
     "name": "stdout",
     "output_type": "stream",
     "text": [
      "[2023-10-28 14:01:33,528: INFO: ingestion: Download WIIK.BK]\n"
     ]
    },
    {
     "name": "stderr",
     "output_type": "stream",
     "text": [
      " 99%|█████████▉| 670/677 [04:31<00:02,  2.56it/s]"
     ]
    },
    {
     "name": "stdout",
     "output_type": "stream",
     "text": [
      "[2023-10-28 14:01:33,862: INFO: ingestion: Download WIN.BK]\n"
     ]
    },
    {
     "name": "stderr",
     "output_type": "stream",
     "text": [
      " 99%|█████████▉| 671/677 [04:31<00:02,  2.68it/s]"
     ]
    },
    {
     "name": "stdout",
     "output_type": "stream",
     "text": [
      "[2023-10-28 14:01:34,256: INFO: ingestion: Download WORK.BK]\n"
     ]
    },
    {
     "name": "stderr",
     "output_type": "stream",
     "text": [
      " 99%|█████████▉| 672/677 [04:32<00:01,  2.63it/s]"
     ]
    },
    {
     "name": "stdout",
     "output_type": "stream",
     "text": [
      "[2023-10-28 14:01:34,572: INFO: ingestion: Download WORLD.BK]\n"
     ]
    },
    {
     "name": "stderr",
     "output_type": "stream",
     "text": [
      " 99%|█████████▉| 673/677 [04:32<00:01,  2.77it/s]"
     ]
    },
    {
     "name": "stdout",
     "output_type": "stream",
     "text": [
      "[2023-10-28 14:01:34,928: INFO: ingestion: Download WP.BK]\n"
     ]
    },
    {
     "name": "stderr",
     "output_type": "stream",
     "text": [
      "100%|█████████▉| 674/677 [04:33<00:01,  2.78it/s]"
     ]
    },
    {
     "name": "stdout",
     "output_type": "stream",
     "text": [
      "[2023-10-28 14:01:35,327: INFO: ingestion: Download WPH.BK]\n"
     ]
    },
    {
     "name": "stderr",
     "output_type": "stream",
     "text": [
      "100%|█████████▉| 675/677 [04:33<00:00,  2.69it/s]"
     ]
    },
    {
     "name": "stdout",
     "output_type": "stream",
     "text": [
      "[2023-10-28 14:01:35,736: INFO: ingestion: Download XPG.BK]\n"
     ]
    },
    {
     "name": "stderr",
     "output_type": "stream",
     "text": [
      "100%|█████████▉| 676/677 [04:33<00:00,  2.61it/s]"
     ]
    },
    {
     "name": "stdout",
     "output_type": "stream",
     "text": [
      "[2023-10-28 14:01:36,108: INFO: ingestion: Download ZEN.BK]\n"
     ]
    },
    {
     "name": "stderr",
     "output_type": "stream",
     "text": [
      "100%|██████████| 677/677 [04:34<00:00,  2.47it/s]\n"
     ]
    },
    {
     "data": {
      "text/html": [
       "<div>\n",
       "<style scoped>\n",
       "    .dataframe tbody tr th:only-of-type {\n",
       "        vertical-align: middle;\n",
       "    }\n",
       "\n",
       "    .dataframe tbody tr th {\n",
       "        vertical-align: top;\n",
       "    }\n",
       "\n",
       "    .dataframe thead th {\n",
       "        text-align: right;\n",
       "    }\n",
       "</style>\n",
       "<table border=\"1\" class=\"dataframe\">\n",
       "  <thead>\n",
       "    <tr style=\"text-align: right;\">\n",
       "      <th></th>\n",
       "      <th>Open</th>\n",
       "      <th>High</th>\n",
       "      <th>Low</th>\n",
       "      <th>Close</th>\n",
       "      <th>Volume</th>\n",
       "      <th>Dividends</th>\n",
       "      <th>Stock Splits</th>\n",
       "      <th>symbol</th>\n",
       "      <th>Adj Close</th>\n",
       "      <th>Capital Gains</th>\n",
       "    </tr>\n",
       "    <tr>\n",
       "      <th>Date</th>\n",
       "      <th></th>\n",
       "      <th></th>\n",
       "      <th></th>\n",
       "      <th></th>\n",
       "      <th></th>\n",
       "      <th></th>\n",
       "      <th></th>\n",
       "      <th></th>\n",
       "      <th></th>\n",
       "      <th></th>\n",
       "    </tr>\n",
       "  </thead>\n",
       "  <tbody>\n",
       "    <tr>\n",
       "      <th>2018-10-29 00:00:00+07:00</th>\n",
       "      <td>2.083922</td>\n",
       "      <td>2.083922</td>\n",
       "      <td>2.044354</td>\n",
       "      <td>2.070733</td>\n",
       "      <td>41555.0</td>\n",
       "      <td>0.0</td>\n",
       "      <td>0.0</td>\n",
       "      <td>2S</td>\n",
       "      <td>NaN</td>\n",
       "      <td>NaN</td>\n",
       "    </tr>\n",
       "    <tr>\n",
       "      <th>2018-10-30 00:00:00+07:00</th>\n",
       "      <td>2.083923</td>\n",
       "      <td>2.097112</td>\n",
       "      <td>2.057544</td>\n",
       "      <td>2.083923</td>\n",
       "      <td>31222.0</td>\n",
       "      <td>0.0</td>\n",
       "      <td>0.0</td>\n",
       "      <td>2S</td>\n",
       "      <td>NaN</td>\n",
       "      <td>NaN</td>\n",
       "    </tr>\n",
       "    <tr>\n",
       "      <th>2018-10-31 00:00:00+07:00</th>\n",
       "      <td>2.083923</td>\n",
       "      <td>2.097112</td>\n",
       "      <td>2.083923</td>\n",
       "      <td>2.083923</td>\n",
       "      <td>111777.0</td>\n",
       "      <td>0.0</td>\n",
       "      <td>0.0</td>\n",
       "      <td>2S</td>\n",
       "      <td>NaN</td>\n",
       "      <td>NaN</td>\n",
       "    </tr>\n",
       "    <tr>\n",
       "      <th>2018-11-01 00:00:00+07:00</th>\n",
       "      <td>2.070733</td>\n",
       "      <td>2.083923</td>\n",
       "      <td>2.057544</td>\n",
       "      <td>2.057544</td>\n",
       "      <td>33333.0</td>\n",
       "      <td>0.0</td>\n",
       "      <td>0.0</td>\n",
       "      <td>2S</td>\n",
       "      <td>NaN</td>\n",
       "      <td>NaN</td>\n",
       "    </tr>\n",
       "    <tr>\n",
       "      <th>2018-11-02 00:00:00+07:00</th>\n",
       "      <td>2.083922</td>\n",
       "      <td>2.083922</td>\n",
       "      <td>2.070733</td>\n",
       "      <td>2.070733</td>\n",
       "      <td>56333.0</td>\n",
       "      <td>0.0</td>\n",
       "      <td>0.0</td>\n",
       "      <td>2S</td>\n",
       "      <td>NaN</td>\n",
       "      <td>NaN</td>\n",
       "    </tr>\n",
       "    <tr>\n",
       "      <th>...</th>\n",
       "      <td>...</td>\n",
       "      <td>...</td>\n",
       "      <td>...</td>\n",
       "      <td>...</td>\n",
       "      <td>...</td>\n",
       "      <td>...</td>\n",
       "      <td>...</td>\n",
       "      <td>...</td>\n",
       "      <td>...</td>\n",
       "      <td>...</td>\n",
       "    </tr>\n",
       "    <tr>\n",
       "      <th>2023-10-20 00:00:00+07:00</th>\n",
       "      <td>10.100000</td>\n",
       "      <td>10.100000</td>\n",
       "      <td>9.950000</td>\n",
       "      <td>10.200000</td>\n",
       "      <td>36400.0</td>\n",
       "      <td>0.0</td>\n",
       "      <td>0.0</td>\n",
       "      <td>ZEN</td>\n",
       "      <td>NaN</td>\n",
       "      <td>NaN</td>\n",
       "    </tr>\n",
       "    <tr>\n",
       "      <th>2023-10-24 00:00:00+07:00</th>\n",
       "      <td>10.300000</td>\n",
       "      <td>10.300000</td>\n",
       "      <td>9.850000</td>\n",
       "      <td>9.950000</td>\n",
       "      <td>183600.0</td>\n",
       "      <td>0.0</td>\n",
       "      <td>0.0</td>\n",
       "      <td>ZEN</td>\n",
       "      <td>NaN</td>\n",
       "      <td>NaN</td>\n",
       "    </tr>\n",
       "    <tr>\n",
       "      <th>2023-10-25 00:00:00+07:00</th>\n",
       "      <td>10.200000</td>\n",
       "      <td>10.200000</td>\n",
       "      <td>9.850000</td>\n",
       "      <td>9.900000</td>\n",
       "      <td>108500.0</td>\n",
       "      <td>0.0</td>\n",
       "      <td>0.0</td>\n",
       "      <td>ZEN</td>\n",
       "      <td>NaN</td>\n",
       "      <td>NaN</td>\n",
       "    </tr>\n",
       "    <tr>\n",
       "      <th>2023-10-26 00:00:00+07:00</th>\n",
       "      <td>9.850000</td>\n",
       "      <td>9.850000</td>\n",
       "      <td>9.650000</td>\n",
       "      <td>9.700000</td>\n",
       "      <td>216100.0</td>\n",
       "      <td>0.0</td>\n",
       "      <td>0.0</td>\n",
       "      <td>ZEN</td>\n",
       "      <td>NaN</td>\n",
       "      <td>NaN</td>\n",
       "    </tr>\n",
       "    <tr>\n",
       "      <th>2023-10-27 00:00:00+07:00</th>\n",
       "      <td>9.700000</td>\n",
       "      <td>9.700000</td>\n",
       "      <td>9.550000</td>\n",
       "      <td>9.600000</td>\n",
       "      <td>313200.0</td>\n",
       "      <td>0.0</td>\n",
       "      <td>0.0</td>\n",
       "      <td>ZEN</td>\n",
       "      <td>NaN</td>\n",
       "      <td>NaN</td>\n",
       "    </tr>\n",
       "  </tbody>\n",
       "</table>\n",
       "<p>734219 rows × 10 columns</p>\n",
       "</div>"
      ],
      "text/plain": [
       "                                Open       High       Low      Close  \\\n",
       "Date                                                                   \n",
       "2018-10-29 00:00:00+07:00   2.083922   2.083922  2.044354   2.070733   \n",
       "2018-10-30 00:00:00+07:00   2.083923   2.097112  2.057544   2.083923   \n",
       "2018-10-31 00:00:00+07:00   2.083923   2.097112  2.083923   2.083923   \n",
       "2018-11-01 00:00:00+07:00   2.070733   2.083923  2.057544   2.057544   \n",
       "2018-11-02 00:00:00+07:00   2.083922   2.083922  2.070733   2.070733   \n",
       "...                              ...        ...       ...        ...   \n",
       "2023-10-20 00:00:00+07:00  10.100000  10.100000  9.950000  10.200000   \n",
       "2023-10-24 00:00:00+07:00  10.300000  10.300000  9.850000   9.950000   \n",
       "2023-10-25 00:00:00+07:00  10.200000  10.200000  9.850000   9.900000   \n",
       "2023-10-26 00:00:00+07:00   9.850000   9.850000  9.650000   9.700000   \n",
       "2023-10-27 00:00:00+07:00   9.700000   9.700000  9.550000   9.600000   \n",
       "\n",
       "                             Volume  Dividends  Stock Splits symbol  \\\n",
       "Date                                                                  \n",
       "2018-10-29 00:00:00+07:00   41555.0        0.0           0.0     2S   \n",
       "2018-10-30 00:00:00+07:00   31222.0        0.0           0.0     2S   \n",
       "2018-10-31 00:00:00+07:00  111777.0        0.0           0.0     2S   \n",
       "2018-11-01 00:00:00+07:00   33333.0        0.0           0.0     2S   \n",
       "2018-11-02 00:00:00+07:00   56333.0        0.0           0.0     2S   \n",
       "...                             ...        ...           ...    ...   \n",
       "2023-10-20 00:00:00+07:00   36400.0        0.0           0.0    ZEN   \n",
       "2023-10-24 00:00:00+07:00  183600.0        0.0           0.0    ZEN   \n",
       "2023-10-25 00:00:00+07:00  108500.0        0.0           0.0    ZEN   \n",
       "2023-10-26 00:00:00+07:00  216100.0        0.0           0.0    ZEN   \n",
       "2023-10-27 00:00:00+07:00  313200.0        0.0           0.0    ZEN   \n",
       "\n",
       "                           Adj Close  Capital Gains  \n",
       "Date                                                 \n",
       "2018-10-29 00:00:00+07:00        NaN            NaN  \n",
       "2018-10-30 00:00:00+07:00        NaN            NaN  \n",
       "2018-10-31 00:00:00+07:00        NaN            NaN  \n",
       "2018-11-01 00:00:00+07:00        NaN            NaN  \n",
       "2018-11-02 00:00:00+07:00        NaN            NaN  \n",
       "...                              ...            ...  \n",
       "2023-10-20 00:00:00+07:00        NaN            NaN  \n",
       "2023-10-24 00:00:00+07:00        NaN            NaN  \n",
       "2023-10-25 00:00:00+07:00        NaN            NaN  \n",
       "2023-10-26 00:00:00+07:00        NaN            NaN  \n",
       "2023-10-27 00:00:00+07:00        NaN            NaN  \n",
       "\n",
       "[734219 rows x 10 columns]"
      ]
     },
     "execution_count": 74,
     "metadata": {},
     "output_type": "execute_result"
    }
   ],
   "source": [
    "all_data = request_all_history_data_from_yf(period='5y', interval='1d')\n",
    "all_data"
   ]
  },
  {
   "cell_type": "code",
   "execution_count": 76,
   "metadata": {},
   "outputs": [],
   "source": [
    "all_data.to_parquet('./dataset/SET_historical_price.parquet')"
   ]
  },
  {
   "cell_type": "code",
   "execution_count": null,
   "metadata": {},
   "outputs": [],
   "source": []
  }
 ],
 "metadata": {
  "kernelspec": {
   "display_name": ".venv",
   "language": "python",
   "name": "python3"
  },
  "language_info": {
   "codemirror_mode": {
    "name": "ipython",
    "version": 3
   },
   "file_extension": ".py",
   "mimetype": "text/x-python",
   "name": "python",
   "nbconvert_exporter": "python",
   "pygments_lexer": "ipython3",
   "version": "3.9.7"
  }
 },
 "nbformat": 4,
 "nbformat_minor": 2
}
