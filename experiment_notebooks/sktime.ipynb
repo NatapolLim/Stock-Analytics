{
 "cells": [
  {
   "cell_type": "code",
   "execution_count": 8,
   "metadata": {},
   "outputs": [],
   "source": [
    "from sktime.transformations.series import acf\n",
    "import pandas as pd"
   ]
  },
  {
   "cell_type": "code",
   "execution_count": 6,
   "metadata": {},
   "outputs": [
    {
     "data": {
      "text/plain": [
       "0     1.000000\n",
       "1     0.948047\n",
       "2     0.875575\n",
       "3     0.806681\n",
       "4     0.752625\n",
       "5     0.713770\n",
       "6     0.681734\n",
       "7     0.662904\n",
       "8     0.655610\n",
       "9     0.670948\n",
       "10    0.702720\n",
       "11    0.743240\n",
       "12    0.760395\n",
       "dtype: float64"
      ]
     },
     "execution_count": 6,
     "metadata": {},
     "output_type": "execute_result"
    }
   ],
   "source": [
    "from sktime.transformations.series.acf import AutoCorrelationTransformer\n",
    "from sktime.datasets import load_airline\n",
    "y = load_airline()  \n",
    "transformer = AutoCorrelationTransformer(n_lags=12)  \n",
    "y_hat = transformer.fit_transform(y)\n",
    "y_hat"
   ]
  },
  {
   "cell_type": "code",
   "execution_count": 12,
   "metadata": {},
   "outputs": [
    {
     "data": {
      "text/plain": [
       "0    1.000000\n",
       "1   -0.124470\n",
       "2   -0.095474\n",
       "3    0.032532\n",
       "4   -0.141443\n",
       "5    0.021216\n",
       "6   -0.192362\n",
       "dtype: float64"
      ]
     },
     "execution_count": 12,
     "metadata": {},
     "output_type": "execute_result"
    }
   ],
   "source": [
    "transformer.fit_transform(pd.Series([1,2,1,2,1,1,7]))"
   ]
  },
  {
   "cell_type": "code",
   "execution_count": 15,
   "metadata": {},
   "outputs": [],
   "source": [
    "from sktime.transformations.series.matrix_profile import MatrixProfileTransformer\n",
    "from sktime.datasets import load_airline\n",
    "y = load_airline()\n",
    "transformer = MatrixProfileTransformer()  \n",
    "y_hat = transformer.fit_transform(y)  "
   ]
  },
  {
   "cell_type": "code",
   "execution_count": 19,
   "metadata": {},
   "outputs": [
    {
     "data": {
      "text/plain": [
       "<AxesSubplot:>"
      ]
     },
     "execution_count": 19,
     "metadata": {},
     "output_type": "execute_result"
    },
    {
     "data": {
      "image/png": "[encoded data removed]",
      "text/plain": [
       "<Figure size 432x288 with 1 Axes>"
      ]
     },
     "metadata": {
      "needs_background": "light"
     },
     "output_type": "display_data"
    }
   ],
   "source": [
    "y_hat.hist()"
   ]
  },
  {
   "cell_type": "code",
   "execution_count": 18,
   "metadata": {},
   "outputs": [
    {
     "data": {
      "text/plain": [
       "<AxesSubplot:>"
      ]
     },
     "execution_count": 18,
     "metadata": {},
     "output_type": "execute_result"
    },
    {
     "data": {
      "image/png": "[encoded data removed]",
      "text/plain": [
       "<Figure size 432x288 with 1 Axes>"
      ]
     },
     "metadata": {
      "needs_background": "light"
     },
     "output_type": "display_data"
    }
   ],
   "source": [
    "y.hist()"
   ]
  },
  {
   "cell_type": "code",
   "execution_count": 40,
   "metadata": {},
   "outputs": [
    {
     "name": "stdout",
     "output_type": "stream",
     "text": [
      "Mean Squared Error for Output 1: 416.8621598414547\n",
      "Mean Squared Error for Output 2: 629.3770512223261\n",
      "Mean Squared Error for Output 3: 977.4955916631702\n"
     ]
    }
   ],
   "source": [
    "import xgboost as xgb\n",
    "from sklearn.datasets import make_regression\n",
    "from sklearn.model_selection import train_test_split\n",
    "from sklearn.metrics import mean_squared_error\n",
    "\n",
    "# Create sample demand forecasting data with multiple outputs\n",
    "X, y = make_regression(n_samples=1000, n_features=5, n_targets=3, random_state=42)\n",
    "\n",
    "# Split data into training and testing sets\n",
    "X_train, X_test, y_train, y_test = train_test_split(X, y, test_size=0.2, random_state=42)\n",
    "\n",
    "# Create an XGBoost regressor with multi-output support\n",
    "reg = xgb.XGBRegressor(objective='reg:squarederror')  # Automatic multi-output handling\n",
    "\n",
    "# Fit the model to the training data\n",
    "reg.fit(X_train, y_train)\n",
    "\n",
    "# Make predictions on the testing data\n",
    "y_pred = reg.predict(X_test)\n",
    "\n",
    "# Evaluate multi-output model performance\n",
    "mse_1 = mean_squared_error(y_test[:, 0], y_pred[:, 0])\n",
    "mse_2 = mean_squared_error(y_test[:, 1], y_pred[:, 1])\n",
    "mse_3 = mean_squared_error(y_test[:, 2], y_pred[:, 2])\n",
    "\n",
    "print(\"Mean Squared Error for Output 1:\", mse_1)\n",
    "print(\"Mean Squared Error for Output 2:\", mse_2)\n",
    "print(\"Mean Squared Error for Output 3:\", mse_3)\n"
   ]
  },
  {
   "cell_type": "code",
   "execution_count": 57,
   "metadata": {},
   "outputs": [
    {
     "data": {
      "text/html": [
       "<div>\n",
       "<style scoped>\n",
       "    .dataframe tbody tr th:only-of-type {\n",
       "        vertical-align: middle;\n",
       "    }\n",
       "\n",
       "    .dataframe tbody tr th {\n",
       "        vertical-align: top;\n",
       "    }\n",
       "\n",
       "    .dataframe thead th {\n",
       "        text-align: right;\n",
       "    }\n",
       "</style>\n",
       "<table border=\"1\" class=\"dataframe\">\n",
       "  <thead>\n",
       "    <tr style=\"text-align: right;\">\n",
       "      <th></th>\n",
       "      <th>foo</th>\n",
       "      <th>bar</th>\n",
       "    </tr>\n",
       "  </thead>\n",
       "  <tbody>\n",
       "    <tr>\n",
       "      <th>0</th>\n",
       "      <td>NaN</td>\n",
       "      <td>NaN</td>\n",
       "    </tr>\n",
       "    <tr>\n",
       "      <th>1</th>\n",
       "      <td>NaN</td>\n",
       "      <td>NaN</td>\n",
       "    </tr>\n",
       "    <tr>\n",
       "      <th>2</th>\n",
       "      <td>0.0</td>\n",
       "      <td>-1.227818e-11</td>\n",
       "    </tr>\n",
       "    <tr>\n",
       "      <th>3</th>\n",
       "      <td>0.0</td>\n",
       "      <td>1.998228e+00</td>\n",
       "    </tr>\n",
       "  </tbody>\n",
       "</table>\n",
       "</div>"
      ],
      "text/plain": [
       "   foo           bar\n",
       "0  NaN           NaN\n",
       "1  NaN           NaN\n",
       "2  0.0 -1.227818e-11\n",
       "3  0.0  1.998228e+00"
      ]
     },
     "execution_count": 57,
     "metadata": {},
     "output_type": "execute_result"
    }
   ],
   "source": [
    "pd.DataFrame({'foo':[1,2,3,4], 'bar':[4,5,6,100]}).expanding(method='single').skew()"
   ]
  },
  {
   "cell_type": "code",
   "execution_count": null,
   "metadata": {},
   "outputs": [],
   "source": []
  }
 ],
 "metadata": {
  "kernelspec": {
   "display_name": "dsci3.9",
   "language": "python",
   "name": "python3"
  },
  "language_info": {
   "codemirror_mode": {
    "name": "ipython",
    "version": 3
   },
   "file_extension": ".py",
   "mimetype": "text/x-python",
   "name": "python",
   "nbconvert_exporter": "python",
   "pygments_lexer": "ipython3",
   "version": "3.9.7"
  }
 },
 "nbformat": 4,
 "nbformat_minor": 2
}
